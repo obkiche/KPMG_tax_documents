{
 "cells": [
  {
   "cell_type": "code",
   "execution_count": 127,
   "id": "fddfcd58",
   "metadata": {},
   "outputs": [],
   "source": [
    "\n",
    "import pandas as pd\n",
    "import numpy as np\n",
    "import string, textblob, re\n",
    "import pickle\n",
    "import nltk \n",
    "\n",
    "from nltk.tokenize import word_tokenize\n",
    "from nltk.corpus import stopwords\n",
    "from nltk.stem import WordNetLemmatizer\n",
    "from unidecode import unidecode\n",
    "from sklearn import model_selection, preprocessing, linear_model, naive_bayes, metrics, svm, decomposition, ensemble\n",
    "from sklearn.feature_extraction.text import TfidfVectorizer, CountVectorizer\n",
    "from keras import layers, models, optimizers\n",
    "from keras.preprocessing import text, sequence\n",
    "import matplotlib.pyplot as plt"
   ]
  },
  {
   "cell_type": "code",
   "execution_count": 128,
   "id": "33f855f8",
   "metadata": {},
   "outputs": [],
   "source": [
    "\n",
    "import chardet\n",
    "import pandas as pd\n",
    "\n",
    "with open('./data/out_Tax.csv', 'rb') as f:\n",
    "    result = chardet.detect(f.read())  # or readline if the file is large\n",
    "\n",
    "\n",
    "df = pd.read_csv('./data/out_Tax.csv', encoding=result['encoding'])"
   ]
  },
  {
   "cell_type": "code",
   "execution_count": 154,
   "id": "f2209568",
   "metadata": {},
   "outputs": [
    {
     "data": {
      "text/html": [
       "<div>\n",
       "<style scoped>\n",
       "    .dataframe tbody tr th:only-of-type {\n",
       "        vertical-align: middle;\n",
       "    }\n",
       "\n",
       "    .dataframe tbody tr th {\n",
       "        vertical-align: top;\n",
       "    }\n",
       "\n",
       "    .dataframe thead th {\n",
       "        text-align: right;\n",
       "    }\n",
       "</style>\n",
       "<table border=\"1\" class=\"dataframe\">\n",
       "  <thead>\n",
       "    <tr style=\"text-align: right;\">\n",
       "      <th></th>\n",
       "      <th>Date</th>\n",
       "      <th>Title</th>\n",
       "      <th>Numac</th>\n",
       "      <th>Link FR</th>\n",
       "      <th>Link NL</th>\n",
       "      <th>Text</th>\n",
       "    </tr>\n",
       "  </thead>\n",
       "  <tbody>\n",
       "    <tr>\n",
       "      <th>0</th>\n",
       "      <td>1/14/2020</td>\n",
       "      <td>REGION DE BRUXELLES-CAPITALE\\nREGION DE BRUXEL...</td>\n",
       "      <td>2020010053</td>\n",
       "      <td>http://www.ejustice.just.fgov.be/cgi/article.p...</td>\n",
       "      <td>http://www.ejustice.just.fgov.be/cgi/article_b...</td>\n",
       "      <td>belgielexbe kruispuntbank wetgeving raad state...</td>\n",
       "    </tr>\n",
       "    <tr>\n",
       "      <th>1</th>\n",
       "      <td>1/16/2020</td>\n",
       "      <td>SERVICE PUBLIC FEDERAL INTERIEUR\\n10 DECEMBRE ...</td>\n",
       "      <td>2020010044</td>\n",
       "      <td>http://www.ejustice.just.fgov.be/cgi/article.p...</td>\n",
       "      <td>http://www.ejustice.just.fgov.be/cgi/article_b...</td>\n",
       "      <td>belgielexbe kruispuntbank wetgeving raad state...</td>\n",
       "    </tr>\n",
       "    <tr>\n",
       "      <th>2</th>\n",
       "      <td>1/16/2020</td>\n",
       "      <td>SERVICE PUBLIC FEDERAL FINANCES\\n7 DECEMBRE 20...</td>\n",
       "      <td>2020040052</td>\n",
       "      <td>http://www.ejustice.just.fgov.be/cgi/article.p...</td>\n",
       "      <td>http://www.ejustice.just.fgov.be/cgi/article_b...</td>\n",
       "      <td>belgielexbe kruispuntbank wetgeving raad state...</td>\n",
       "    </tr>\n",
       "    <tr>\n",
       "      <th>3</th>\n",
       "      <td>1/24/2020</td>\n",
       "      <td>MINISTERE DE LA COMMUNAUTE FRANCAISE\\n20 DECEM...</td>\n",
       "      <td>2020010214</td>\n",
       "      <td>http://www.ejustice.just.fgov.be/cgi/article.p...</td>\n",
       "      <td>http://www.ejustice.just.fgov.be/cgi/article_b...</td>\n",
       "      <td>belgielexbe kruispuntbank wetgeving raad state...</td>\n",
       "    </tr>\n",
       "    <tr>\n",
       "      <th>4</th>\n",
       "      <td>1/28/2020</td>\n",
       "      <td>SERVICE PUBLIC FEDERAL FINANCES\\n20 JANVIER 20...</td>\n",
       "      <td>2020040138</td>\n",
       "      <td>http://www.ejustice.just.fgov.be/cgi/article.p...</td>\n",
       "      <td>http://www.ejustice.just.fgov.be/cgi/article_b...</td>\n",
       "      <td>belgielexbe kruispuntbank wetgeving raad state...</td>\n",
       "    </tr>\n",
       "  </tbody>\n",
       "</table>\n",
       "</div>"
      ],
      "text/plain": [
       "        Date                                              Title       Numac  \\\n",
       "0  1/14/2020  REGION DE BRUXELLES-CAPITALE\\nREGION DE BRUXEL...  2020010053   \n",
       "1  1/16/2020  SERVICE PUBLIC FEDERAL INTERIEUR\\n10 DECEMBRE ...  2020010044   \n",
       "2  1/16/2020  SERVICE PUBLIC FEDERAL FINANCES\\n7 DECEMBRE 20...  2020040052   \n",
       "3  1/24/2020  MINISTERE DE LA COMMUNAUTE FRANCAISE\\n20 DECEM...  2020010214   \n",
       "4  1/28/2020  SERVICE PUBLIC FEDERAL FINANCES\\n20 JANVIER 20...  2020040138   \n",
       "\n",
       "                                             Link FR  \\\n",
       "0  http://www.ejustice.just.fgov.be/cgi/article.p...   \n",
       "1  http://www.ejustice.just.fgov.be/cgi/article.p...   \n",
       "2  http://www.ejustice.just.fgov.be/cgi/article.p...   \n",
       "3  http://www.ejustice.just.fgov.be/cgi/article.p...   \n",
       "4  http://www.ejustice.just.fgov.be/cgi/article.p...   \n",
       "\n",
       "                                             Link NL  \\\n",
       "0  http://www.ejustice.just.fgov.be/cgi/article_b...   \n",
       "1  http://www.ejustice.just.fgov.be/cgi/article_b...   \n",
       "2  http://www.ejustice.just.fgov.be/cgi/article_b...   \n",
       "3  http://www.ejustice.just.fgov.be/cgi/article_b...   \n",
       "4  http://www.ejustice.just.fgov.be/cgi/article_b...   \n",
       "\n",
       "                                                Text  \n",
       "0  belgielexbe kruispuntbank wetgeving raad state...  \n",
       "1  belgielexbe kruispuntbank wetgeving raad state...  \n",
       "2  belgielexbe kruispuntbank wetgeving raad state...  \n",
       "3  belgielexbe kruispuntbank wetgeving raad state...  \n",
       "4  belgielexbe kruispuntbank wetgeving raad state...  "
      ]
     },
     "execution_count": 154,
     "metadata": {},
     "output_type": "execute_result"
    }
   ],
   "source": [
    "df.head()"
   ]
  },
  {
   "cell_type": "code",
   "execution_count": 153,
   "id": "df407b3a",
   "metadata": {},
   "outputs": [
    {
     "data": {
      "text/plain": [
       "'belgielexbe kruispuntbank wetgeving raad state eli navigatie systeem via europese identificatiecode wetgeving http wwwejusticejustfgovbeelibesluitstaatsblad einde eerste woord laatste woord publicatie numac brussels hoofdstedelijk gewest januari ministerieel besluit vaststelling modellen formulier bedoeld artikel ss besluit brusselse hoofdstedelijke regering januari vaststelling modaliteiten gunstregime toepasselijk successierechten overdracht familiale ondernemingen familiale vennootschappen minister brusselse hoofdstedelijke regering belast financien begroting gelet wetboek successierechten artikel ss ingevoegd ordonnantie december houdende tweede deel fiscale hervorming gelet besluit brusselse hoofdstedelijke regering januari vaststelling modaliteiten gunstregime toepasselijk successierechten overdracht familiale ondernemingen familiale vennootschappen artikel gelet gelijkekansentest uitgevoerd toepassing artikel ordonnantie oktober invoering gelijkekansentest overwegende artikel bovengenoemd besluit stelt minister brusselse hoofdstedelijke regering belast financien begroting bevoegd formulier bedoeld gaan voorwaarden behoud fiscale gunstregime bekomen kader overdracht familiale onderneming familiale vennootschap vervuld gebleven einde driejarige periode aanving overlijden decujus zoals bedoeld artikel ss wetboek successierechten overwegende ministerieel besluit reglementaire voorschriften bevat zin artikel ss eerste lid gecoordineerde wetten raad state januari onderworpen advies raad state afdeling wetgeving besluit artikel formulier bedoeld gaan voorwaarden behoud fiscale gunstregime bekomen kader overdracht familiale onderneming vervuld gebleven einde driejarige periode aanving overlijden decujus zoals bedoeld artikel ss wetboek successierechten hernomen bijlage besluit art formulier bedoeld gaan voorwaarden behoud fiscale gunstregime bekomen kader overdracht familiale vennootschap vervuld gebleven einde driejarige periode aanving overlijden decujus zoals bedoeld artikel ss wetboek successierechten hernomen bijlage besluit art besluit uitwerking ingang januari brussel januari minister brusselse hoofdstedelijke regering belast financien begroting openbaar ambt promotie meertaligheid s gatz raadpleging tabel zie beeld begin eerste woord laatste woord publicatie numac'"
      ]
     },
     "execution_count": 153,
     "metadata": {},
     "output_type": "execute_result"
    }
   ],
   "source": [
    "data_text = df[['Text']]\n",
    "df['Text'][14]"
   ]
  },
  {
   "cell_type": "code",
   "execution_count": null,
   "id": "a3954331",
   "metadata": {},
   "outputs": [],
   "source": []
  },
  {
   "cell_type": "code",
   "execution_count": 131,
   "id": "0d145e01",
   "metadata": {},
   "outputs": [],
   "source": [
    "def remove_accented_chars(text):\n",
    "    text = unidecode(text)\n",
    "    return text\n",
    "\n",
    "def remove_numbers(text): \n",
    "    result = re.sub(r'\\d+', '', text) \n",
    "    return result\n",
    "\n",
    "def remove_slash_with_space(text): \n",
    "    return text.replace('\\\\', \" \")\n",
    "\n",
    "def remove_punctuation(text): \n",
    "    translator = str.maketrans('', '', string.punctuation) \n",
    "    return text.translate(translator) \n",
    "\n",
    "def text_lowercase(text): \n",
    "    return text.lower()  \n",
    "\n",
    "def remove_whitespace(text): \n",
    "    return  \" \".join(text.split()) \n",
    "\n",
    "def remove_stopwords(text):\n",
    "    nltk.download('stopwords')\n",
    "    stop_words = stopwords.words('dutch')\n",
    "    nstopword = ['bis', 'NL', 'FR']\n",
    "    stop_words.extend(nstopword)\n",
    "    word_tokens = word_tokenize(text)\n",
    "    filtered_text = [word for word in word_tokens if word not in stop_words] \n",
    "    return ' '.join(filtered_text)\n",
    "\n",
    "def stem_words(text): \n",
    "    stemmer = PorterStemmer() \n",
    "    word_tokens = word_tokenize(text) \n",
    "    stems = [stemmer.stem(word) for word in word_tokens] \n",
    "    return ' '.join(stems)\n",
    "\n",
    "def lemmatize_words(text): \n",
    "    lemmatizer = WordNetLemmatizer() \n",
    "    word_tokens = word_tokenize(text) \n",
    "    # provide context i.e. part-of-speech \n",
    "    lemmas = [lemmatizer.lemmatize(word, pos ='v') for word in word_tokens] \n",
    "    return ' '.join(lemmas) \n"
   ]
  },
  {
   "cell_type": "code",
   "execution_count": 140,
   "id": "eb4391e7",
   "metadata": {},
   "outputs": [
    {
     "data": {
      "text/plain": [
       "'belgielexbe kruispuntbank wetgeving raad state eli navigatie systeem via europese identificatiecode wetgeving http wwwejusticejustfgovbeelibesluitstaatsblad einde eerste woord laatste woord publicatie numac brussels hoofdstedelijk gewest januari ministerieel besluit vaststelling modellen formulier bedoeld artikel ss besluit brusselse hoofdstedelijke regering januari vaststelling modaliteiten gunstregime toepasselijk successierechten overdracht familiale ondernemingen familiale vennootschappen minister brusselse hoofdstedelijke regering belast financien begroting gelet wetboek successierechten artikel ss ingevoegd ordonnantie december houdende tweede deel fiscale hervorming gelet besluit brusselse hoofdstedelijke regering januari vaststelling modaliteiten gunstregime toepasselijk successierechten overdracht familiale ondernemingen familiale vennootschappen artikel gelet gelijkekansentest uitgevoerd toepassing artikel ordonnantie oktober invoering gelijkekansentest overwegende artikel bovengenoemd besluit stelt minister brusselse hoofdstedelijke regering belast financien begroting bevoegd formulier bedoeld gaan voorwaarden behoud fiscale gunstregime bekomen kader overdracht familiale onderneming familiale vennootschap vervuld gebleven einde driejarige periode aanving overlijden decujus zoals bedoeld artikel ss wetboek successierechten overwegende ministerieel besluit reglementaire voorschriften bevat zin artikel ss eerste lid gecoordineerde wetten raad state januari onderworpen advies raad state afdeling wetgeving besluit artikel formulier bedoeld gaan voorwaarden behoud fiscale gunstregime bekomen kader overdracht familiale onderneming vervuld gebleven einde driejarige periode aanving overlijden decujus zoals bedoeld artikel ss wetboek successierechten hernomen bijlage besluit art formulier bedoeld gaan voorwaarden behoud fiscale gunstregime bekomen kader overdracht familiale vennootschap vervuld gebleven einde driejarige periode aanving overlijden decujus zoals bedoeld artikel ss wetboek successierechten hernomen bijlage besluit art besluit uitwerking ingang januari brussel januari minister brusselse hoofdstedelijke regering belast financien begroting openbaar ambt promotie meertaligheid s gatz raadpleging tabel zie beeld begin eerste woord laatste woord publicatie numac'"
      ]
     },
     "execution_count": 140,
     "metadata": {},
     "output_type": "execute_result"
    }
   ],
   "source": [
    "# Perform preprocessing\n",
    "\n",
    "def perform_preprocessing(text):\n",
    "    \n",
    "    text = remove_accented_chars(text)\n",
    "    text = remove_numbers(text)\n",
    "    text = remove_stopwords(text)\n",
    "    text = text_lowercase(text)\n",
    "    text = remove_slash_with_space(text)\n",
    "    text = remove_punctuation(text)\n",
    "    # text = stem_words(text)\n",
    "    text = remove_whitespace(text)\n",
    "    text = lemmatize_words(text)\n",
    "    return text\n",
    "\n",
    "text_sample= df['Text'][4]\n",
    "text_sample"
   ]
  },
  {
   "cell_type": "code",
   "execution_count": 141,
   "id": "41689640",
   "metadata": {},
   "outputs": [
    {
     "name": "stderr",
     "output_type": "stream",
     "text": [
      "[nltk_data] Downloading package stopwords to\n",
      "[nltk_data]     C:\\Users\\Malika\\AppData\\Roaming\\nltk_data...\n",
      "[nltk_data]   Package stopwords is already up-to-date!\n"
     ]
    }
   ],
   "source": [
    "df['Text'] =  perform_preprocessing(text_sample)\n"
   ]
  },
  {
   "cell_type": "code",
   "execution_count": 148,
   "id": "7b572b25",
   "metadata": {},
   "outputs": [
    {
     "data": {
      "text/plain": [
       "0      belgielexbe kruispuntbank wetgeving raad state...\n",
       "1      belgielexbe kruispuntbank wetgeving raad state...\n",
       "2      belgielexbe kruispuntbank wetgeving raad state...\n",
       "3      belgielexbe kruispuntbank wetgeving raad state...\n",
       "4      belgielexbe kruispuntbank wetgeving raad state...\n",
       "                             ...                        \n",
       "764    belgielexbe kruispuntbank wetgeving raad state...\n",
       "765    belgielexbe kruispuntbank wetgeving raad state...\n",
       "766    belgielexbe kruispuntbank wetgeving raad state...\n",
       "767    belgielexbe kruispuntbank wetgeving raad state...\n",
       "768    belgielexbe kruispuntbank wetgeving raad state...\n",
       "Name: Text, Length: 769, dtype: object"
      ]
     },
     "execution_count": 148,
     "metadata": {},
     "output_type": "execute_result"
    }
   ],
   "source": [
    "df['Text']"
   ]
  },
  {
   "cell_type": "code",
   "execution_count": 144,
   "id": "3b58d45b",
   "metadata": {},
   "outputs": [
    {
     "data": {
      "text/plain": [
       "249"
      ]
     },
     "execution_count": 144,
     "metadata": {},
     "output_type": "execute_result"
    }
   ],
   "source": [
    "len(word_tokenize(df['Text'][4]))\n",
    "\n"
   ]
  },
  {
   "cell_type": "code",
   "execution_count": null,
   "id": "84843059",
   "metadata": {},
   "outputs": [],
   "source": []
  },
  {
   "cell_type": "code",
   "execution_count": null,
   "id": "9ed60485",
   "metadata": {},
   "outputs": [],
   "source": []
  }
 ],
 "metadata": {
  "kernelspec": {
   "display_name": "tf-gpu",
   "language": "python",
   "name": "tf-gpu"
  },
  "language_info": {
   "codemirror_mode": {
    "name": "ipython",
    "version": 3
   },
   "file_extension": ".py",
   "mimetype": "text/x-python",
   "name": "python",
   "nbconvert_exporter": "python",
   "pygments_lexer": "ipython3",
   "version": "3.9.12"
  }
 },
 "nbformat": 4,
 "nbformat_minor": 5
}
