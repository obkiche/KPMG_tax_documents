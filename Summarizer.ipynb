{
 "cells": [
  {
   "cell_type": "code",
   "execution_count": 33,
   "id": "44494380",
   "metadata": {},
   "outputs": [],
   "source": [
    "import pandas as pd\n",
    "import numpy as np\n",
    "import spacy"
   ]
  },
  {
   "cell_type": "code",
   "execution_count": 2,
   "id": "07e862fe",
   "metadata": {},
   "outputs": [
    {
     "data": {
      "text/html": [
       "<div>\n",
       "<style scoped>\n",
       "    .dataframe tbody tr th:only-of-type {\n",
       "        vertical-align: middle;\n",
       "    }\n",
       "\n",
       "    .dataframe tbody tr th {\n",
       "        vertical-align: top;\n",
       "    }\n",
       "\n",
       "    .dataframe thead th {\n",
       "        text-align: right;\n",
       "    }\n",
       "</style>\n",
       "<table border=\"1\" class=\"dataframe\">\n",
       "  <thead>\n",
       "    <tr style=\"text-align: right;\">\n",
       "      <th></th>\n",
       "      <th>Date</th>\n",
       "      <th>Title</th>\n",
       "      <th>Numac</th>\n",
       "      <th>Link FR</th>\n",
       "      <th>Link NL</th>\n",
       "      <th>Text</th>\n",
       "      <th>Cleaned Text</th>\n",
       "      <th>Summary_1</th>\n",
       "      <th>Summary_2</th>\n",
       "    </tr>\n",
       "  </thead>\n",
       "  <tbody>\n",
       "    <tr>\n",
       "      <th>0</th>\n",
       "      <td>1/14/2020</td>\n",
       "      <td>REGION DE BRUXELLES-CAPITALE\\nREGION DE BRUXEL...</td>\n",
       "      <td>2020010053</td>\n",
       "      <td>http://www.ejustice.just.fgov.be/cgi/article.p...</td>\n",
       "      <td>http://www.ejustice.just.fgov.be/cgi/article_b...</td>\n",
       "      <td>NL FR\\nbelgiëlex.be   -  Kruispuntbank Wetgevi...</td>\n",
       "      <td></td>\n",
       "      <td></td>\n",
       "      <td></td>\n",
       "    </tr>\n",
       "    <tr>\n",
       "      <th>3</th>\n",
       "      <td>1/24/2020</td>\n",
       "      <td>MINISTERE DE LA COMMUNAUTE FRANCAISE\\n20 DECEM...</td>\n",
       "      <td>2020010214</td>\n",
       "      <td>http://www.ejustice.just.fgov.be/cgi/article.p...</td>\n",
       "      <td>http://www.ejustice.just.fgov.be/cgi/article_b...</td>\n",
       "      <td>NL FR\\n\\neinde eerste woord laatste woord\\nPub...</td>\n",
       "      <td></td>\n",
       "      <td></td>\n",
       "      <td></td>\n",
       "    </tr>\n",
       "    <tr>\n",
       "      <th>4</th>\n",
       "      <td>1/28/2020</td>\n",
       "      <td>SERVICE PUBLIC FEDERAL FINANCES\\n20 JANVIER 20...</td>\n",
       "      <td>2020040138</td>\n",
       "      <td>http://www.ejustice.just.fgov.be/cgi/article.p...</td>\n",
       "      <td>http://www.ejustice.just.fgov.be/cgi/article_b...</td>\n",
       "      <td>NL FR\\nbelgiëlex.be   -  Kruispuntbank Wetgevi...</td>\n",
       "      <td></td>\n",
       "      <td></td>\n",
       "      <td></td>\n",
       "    </tr>\n",
       "    <tr>\n",
       "      <th>5</th>\n",
       "      <td>1/28/2020</td>\n",
       "      <td>SERVICE PUBLIC FEDERAL FINANCES\\n20 JANVIER 20...</td>\n",
       "      <td>2020020094</td>\n",
       "      <td>http://www.ejustice.just.fgov.be/cgi/article.p...</td>\n",
       "      <td>http://www.ejustice.just.fgov.be/cgi/article_b...</td>\n",
       "      <td>NL FR\\nbelgiëlex.be   -  Kruispuntbank Wetgevi...</td>\n",
       "      <td></td>\n",
       "      <td></td>\n",
       "      <td></td>\n",
       "    </tr>\n",
       "    <tr>\n",
       "      <th>6</th>\n",
       "      <td>1/28/2020</td>\n",
       "      <td>SERVICE PUBLIC FEDERAL FINANCES\\nAdministratio...</td>\n",
       "      <td>2020010193</td>\n",
       "      <td>http://www.ejustice.just.fgov.be/cgi/article.p...</td>\n",
       "      <td>http://www.ejustice.just.fgov.be/cgi/article_b...</td>\n",
       "      <td>NL FR\\n\\neinde eerste woord laatste woord\\nPub...</td>\n",
       "      <td></td>\n",
       "      <td></td>\n",
       "      <td></td>\n",
       "    </tr>\n",
       "  </tbody>\n",
       "</table>\n",
       "</div>"
      ],
      "text/plain": [
       "        Date                                              Title       Numac  \\\n",
       "0  1/14/2020  REGION DE BRUXELLES-CAPITALE\\nREGION DE BRUXEL...  2020010053   \n",
       "3  1/24/2020  MINISTERE DE LA COMMUNAUTE FRANCAISE\\n20 DECEM...  2020010214   \n",
       "4  1/28/2020  SERVICE PUBLIC FEDERAL FINANCES\\n20 JANVIER 20...  2020040138   \n",
       "5  1/28/2020  SERVICE PUBLIC FEDERAL FINANCES\\n20 JANVIER 20...  2020020094   \n",
       "6  1/28/2020  SERVICE PUBLIC FEDERAL FINANCES\\nAdministratio...  2020010193   \n",
       "\n",
       "                                             Link FR  \\\n",
       "0  http://www.ejustice.just.fgov.be/cgi/article.p...   \n",
       "3  http://www.ejustice.just.fgov.be/cgi/article.p...   \n",
       "4  http://www.ejustice.just.fgov.be/cgi/article.p...   \n",
       "5  http://www.ejustice.just.fgov.be/cgi/article.p...   \n",
       "6  http://www.ejustice.just.fgov.be/cgi/article.p...   \n",
       "\n",
       "                                             Link NL  \\\n",
       "0  http://www.ejustice.just.fgov.be/cgi/article_b...   \n",
       "3  http://www.ejustice.just.fgov.be/cgi/article_b...   \n",
       "4  http://www.ejustice.just.fgov.be/cgi/article_b...   \n",
       "5  http://www.ejustice.just.fgov.be/cgi/article_b...   \n",
       "6  http://www.ejustice.just.fgov.be/cgi/article_b...   \n",
       "\n",
       "                                                Text Cleaned Text Summary_1  \\\n",
       "0  NL FR\\nbelgiëlex.be   -  Kruispuntbank Wetgevi...                          \n",
       "3  NL FR\\n\\neinde eerste woord laatste woord\\nPub...                          \n",
       "4  NL FR\\nbelgiëlex.be   -  Kruispuntbank Wetgevi...                          \n",
       "5  NL FR\\nbelgiëlex.be   -  Kruispuntbank Wetgevi...                          \n",
       "6  NL FR\\n\\neinde eerste woord laatste woord\\nPub...                          \n",
       "\n",
       "  Summary_2  \n",
       "0            \n",
       "3            \n",
       "4            \n",
       "5            \n",
       "6            "
      ]
     },
     "execution_count": 2,
     "metadata": {},
     "output_type": "execute_result"
    }
   ],
   "source": [
    "df = pd.read_csv('KPMG Tax Case - Scraped Data.csv')\n",
    "\n",
    "# Remove the German Translations\n",
    "\n",
    "df = df[df[\"Text\"].str.contains(\"Duitse vertaling\")==False]\n",
    "\n",
    "# Remove empty text rows.\n",
    "\n",
    "df.dropna(axis = 0, how ='any', inplace = True)\n",
    "\n",
    "df['Cleaned Text'] = ''\n",
    "df['Summary_1'] = ''\n",
    "df['Summary_2'] = ''\n",
    "\n",
    "df.head()"
   ]
  },
  {
   "cell_type": "code",
   "execution_count": 3,
   "id": "b519d816",
   "metadata": {},
   "outputs": [],
   "source": [
    "# Test text\n",
    "\n",
    "for idx, row in df.loc[0:10].iterrows():\n",
    "    string = df.loc[idx,'Text']\n",
    "    # Removing the first common part\n",
    "\n",
    "    splitted_text = string.split('Numac')\n",
    "    splitted_text = splitted_text[1]\n",
    "\n",
    "    # testing\n",
    "\n",
    "    trial = splitted_text.replace('\\n',' ')\n",
    "    trial = trial.replace('/','')\n",
    "    trial = trial.replace('§','')\n",
    "    \n",
    "    result = ''.join([i for i in trial if not i.isdigit()])\n",
    "    \n",
    "    # Creating Tokens\n",
    "\n",
    "    nlp = spacy.load('nl_core_news_sm')\n",
    "    text = result\n",
    "    tokenized = nlp(text)\n",
    "    tokens = [token.text for token in tokenized]\n",
    "\n",
    "    stopwords = spacy.lang.nl.stop_words.STOP_WORDS\n",
    "\n",
    "    text_no_stop = [lemma for lemma in tokens if lemma not in stopwords]\n",
    "    cleaned = ' '.join(text_no_stop)\n",
    "\n",
    "    index = cleaned.rfind('begin')\n",
    "    \n",
    "    corpus = trial[:index]\n",
    "    \n",
    "    df.loc[idx,'Cleaned Text'] = corpus\n"
   ]
  },
  {
   "cell_type": "code",
   "execution_count": null,
   "id": "13f490ad",
   "metadata": {},
   "outputs": [],
   "source": []
  },
  {
   "cell_type": "code",
   "execution_count": 27,
   "id": "2e4f4e6b",
   "metadata": {},
   "outputs": [
    {
     "data": {
      "text/plain": [
       "' : 2020030053 FEDERALE OVERHEIDSDIENST FINANCIEN  Algemene Administratie voor Beleidsexpertise- en ondersteuning Dienst Reglementering Bericht in verband met de automatische indexering inzake inkomstenbelastingen. - Aanslagjaar 2020 - Vervanging Het bericht in verband met de automatische indexering inzake inkomstenbelastingen - aanslagjaar 2020 (gepubliceerd op van 22 januari 2019, err. 14 februari 2019, en aangevuld door het bericht gepubliceerd op 2 april 2019) wordt hierna volledig vervangen ingevolge: 1. de wijzigingen aangebracht aan het Wetboek van de inkomstenbelastingen 1992 (WIB 92) door : - de wet van 11 februari 2019 houdende fiscale, fraudebestrijdende, financiële alsook diverse bepalingen (Belgisch Staatsblad van 22 maart 2019), inzake de vrijstelling van opzeggingsvergoedingen (opheffing van artikel 538, WIB 92); - de wet van 23 maart 2019 tot wijziging van het Wetboek van de inkomstenbelastingen 1992 voor wat betreft de fiscale bepalingen van de jobsdeal (Belgisch Staatsblad van 5 april 2019), inzake de vrijstelling van opleidingspremies toegekend door een gewest of de Duitstalige gemeenschap (artikel 38,  1, eerste lid, 34°, WIB 92) en de belastingvermindering voor pensioenen en vervangingsinkomsten (artikelen 147 tot 154, WIB 92); - de wet van 22 april 2019 tot het toegankelijker maken van de rechtsbijstandsverzekering (Belgisch Staatsblad van 8 mei 2019), inzake de belastingvermindering voor premies voor een rechtsbijstandsverzekering (artikel 14549, WIB 92); - de wet van 28 april 2019 houdende diverse fiscale bepalingen en tot wijziging van artikel 1,  1ter, van de wet van 5 april 1955 (Belgisch Staatsblad van 6 mei 2019), inzake de vrijstelling van niet-recurrente resultaatsgebonden voordelen (artikel 38,  1, eerste lid, 24°, WIB 92) en de vrijstelling van doorstorten van bedrijfsvoorheffing voor nacht- en ploegenarbeid - werken in onroerende staat (artikel 2755,  5, WIB 92); 2. de aanpassingen aangebracht aan het KBWIB 92 aangebracht door: - het koninklijk besluit van 23 maart 2019 houdende uitvoering van artikel 21, vierde lid, van het Wetboek van de inkomstenbelastingen 1992 (Belgisch Staatsblad van 5 april 2019), inzake de vrijstelling van dividenden als bedoeld in artikel 21, eerste lid, 14°, WIB 92 (artikel 2ter, KBWIB 92); - het koninklijk besluit van 28 juni 2019 houdende uitvoering van artikel 147, vierde lid, van het Wetboek van de inkomstenbelastingen 1992 (Belgisch Staatsblad van 12 juli 2019) inzake de aanvullende vermindering voor pensioenen en andere vervangingsinkomsten (artikel 631818, KBWIB 92). Indexeringsregels A. De coëfficiënt bedoeld in artikel 178,  2, van het Wetboek van de inkomstenbelastingen 1992 bedraagt voor het aanslagjaar 2020 1,8512, zijnde het resultaat van de deling van het gemiddelde van de indexcijfers van 2018 (107,24) en het gemiddelde van de indexcijfers van 1988 (57,93). De tabel onder I hierna bevat de basisbedragen uit het genoemde Wetboek die volgens de voormelde coëfficiënt worden geïndexeerd en de geïndexeerde bedragen voor het aanslagjaar 2020 (afgekort tot Aj. 2020). B. De coëfficiënt bedoeld in artikel 178,  3, eerste lid, 2°, van het Wetboek van de inkomstenbelastingen 1992 bedraagt voor het aanslagjaar 2020 1,6321, zijnde de coëfficiënt die wordt verkregen door het gemiddelde van de indexcijfers van 2018 (107,24) te delen door het gemiddelde van de indexcijfers van 1988 (57,93) vermenigvuldigd met de verhouding tussen de gemiddelden van de indexcijfers van de jaren 1997 (72,25) en 1991 (63,70). De tabellen onder II, A tot F, hierna bevatten de basisbedragen uit datzelfde Wetboek die volgens de voormelde coëfficiënt worden geïndexeerd en de geïndexeerde bedragen voor het aanslagjaar 2020 (afgekort tot Aj. 2020) en voor het aanslagjaar 2019 (afgekort tot Aj. 2019) wat de bedrijfsvoorheffing betreft. C. De coëfficiënt bedoeld in artikel 178,  3, tweede lid, 2°, van het Wetboek van de inkomstenbelastingen 1992 bedraagt voor het aanslagjaar 2020 1,5688, zijnde de coëfficiënt die wordt verkregen door het gemiddelde van de indexcijfers van 2018 (107,24) te delen door het gemiddelde van de indexcijfers van 1988 (57,93) vermenigvuldigd met de verhouding tussen de gemiddelden van de indexcijfers van de jaren 1997 (72,25) en 1991 (63,70) en met de verhouding tussen de gemiddelden van de indexcijfers van de jaren 2016 (102,89) en 2012 (98,9). De tabellen onder III, A tot C, hierna bevatten de basisbedragen uit datzelfde Wetboek die volgens de vermelde coëfficiënt worden geïndexeerd en de geïndexeerde bedragen voor het aanslagjaar 2020 (afgekort tot Aj. 2020). D. In afwijking van A tot C hierboven worden de volgende bedragen met een bijzondere coëfficiënt geïndexeerd : 1° de in artikel 38,  1, eerste lid, 23° en  4, en artikel 97,  2, van het Wetboek van de inkomstenbelastingen 1992 vermelde bedragen worden voor aanslagjaar 2020 geïndexeerd overeenkomstig artikel 178,  4, eerste lid, van hetzelfde Wetboek, en titel 2 van de wet van 23 april 2015 tot verbetering van de werkgelegenheid, zijnde de vermenigvuldiging van het basisbedrag met het afgevlakte gezondheidsindexcijfer van de maand september 2018 (144,59 - basis 1996) en gedeeld door het afgevlakte gezondheidsindexcijfer van de maand september 2003 (112,15 - basis 1996); 2° het in artikel 38,  1, eerste lid, 24°, van het Wetboek van de inkomstenbelastingen 1992 vermelde bedrag wordt voor aanslagjaar 2020 geïndexeerd overeenkomstig artikel 178,  6, van hetzelfde Wetboek en titel 2 van de wet van 23 april 2015 tot verbetering van de werkgelegenheid, zijnde de vermenigvuldiging van het basisbedrag met het afgevlakte gezondheidsindexcijfer van de maand november 2018 (127,77 - basis 2004) en gedeeld door het afgevlakte gezondheidsindexcijfer van de maand november 2012 (119,7 - basis 2004); 3° de in artikel 14546ter,  2, van het Wetboek van de inkomstenbelastingen 1992 vermelde bedragen worden voor aanslagjaar 2020 geïndexeerd overeenkomstig artikel 178,  6bis, van hetzelfde Wetboek, en hoofdstuk VII van het decreet van de Waalse overheidsdienst betreffende de toekenning van een fiscaal voordeel voor de aankoop van de eigen woning van 20 juli 2016, zijnde de vermenigvuldiging van het basisbedrag met de gezondheidsindex van de maand november 2018 (108,48) en gedeeld door de gezondheidsindex van november 2015 (102,28). 4° het in artikel 2755,  5, eerste lid, 3de gedachtestreepje en tweede lid van het Wetboek van de inkomstenbelastingen 1992 vermelde bedrag wordt voor het aanslagjaar 2019 '"
      ]
     },
     "execution_count": 27,
     "metadata": {},
     "output_type": "execute_result"
    }
   ],
   "source": [
    "corpus"
   ]
  },
  {
   "cell_type": "code",
   "execution_count": null,
   "id": "7ef6f334",
   "metadata": {},
   "outputs": [],
   "source": []
  },
  {
   "cell_type": "code",
   "execution_count": null,
   "id": "8ee6b7a9",
   "metadata": {},
   "outputs": [],
   "source": []
  },
  {
   "cell_type": "code",
   "execution_count": null,
   "id": "e51d66bd",
   "metadata": {},
   "outputs": [],
   "source": []
  },
  {
   "cell_type": "code",
   "execution_count": null,
   "id": "bfcae85b",
   "metadata": {},
   "outputs": [],
   "source": []
  },
  {
   "cell_type": "code",
   "execution_count": null,
   "id": "67572b9d",
   "metadata": {},
   "outputs": [],
   "source": []
  },
  {
   "cell_type": "code",
   "execution_count": null,
   "id": "451e0963",
   "metadata": {},
   "outputs": [],
   "source": []
  },
  {
   "cell_type": "code",
   "execution_count": null,
   "id": "7c4b6e9f",
   "metadata": {},
   "outputs": [],
   "source": []
  },
  {
   "cell_type": "code",
   "execution_count": null,
   "id": "1710f623",
   "metadata": {},
   "outputs": [],
   "source": []
  },
  {
   "cell_type": "code",
   "execution_count": 15,
   "id": "e031e776",
   "metadata": {},
   "outputs": [
    {
     "name": "stderr",
     "output_type": "stream",
     "text": [
      "Your max_length is set to 1024, but you input_length is only 514. You might consider decreasing max_length manually, e.g. summarizer('...', max_length=257)\n",
      "Your max_length is set to 1024, but you input_length is only 617. You might consider decreasing max_length manually, e.g. summarizer('...', max_length=308)\n",
      "Your max_length is set to 1024, but you input_length is only 484. You might consider decreasing max_length manually, e.g. summarizer('...', max_length=242)\n",
      "Your max_length is set to 1024, but you input_length is only 341. You might consider decreasing max_length manually, e.g. summarizer('...', max_length=170)\n",
      "Your max_length is set to 1024, but you input_length is only 598. You might consider decreasing max_length manually, e.g. summarizer('...', max_length=299)\n",
      "Your max_length is set to 1024, but you input_length is only 346. You might consider decreasing max_length manually, e.g. summarizer('...', max_length=173)\n",
      "Your max_length is set to 1024, but you input_length is only 228. You might consider decreasing max_length manually, e.g. summarizer('...', max_length=114)\n"
     ]
    }
   ],
   "source": [
    "# mBart finetune Model\n",
    "\n",
    "import transformers\n",
    "undisputed_best_model = transformers.MBartForConditionalGeneration.from_pretrained(\n",
    "    \"ml6team/mbart-large-cc25-cnn-dailymail-nl-finetune\"\n",
    ")\n",
    "tokenizer = transformers.MBartTokenizer.from_pretrained(\"facebook/mbart-large-cc25\")\n",
    "summarization_pipeline = transformers.pipeline(\n",
    "    task=\"summarization\",\n",
    "    model=undisputed_best_model,\n",
    "    tokenizer=tokenizer,\n",
    ")\n",
    "summarization_pipeline.model.config.decoder_start_token_id = tokenizer.lang_code_to_id[\n",
    "    \"nl_XX\"\n",
    "]\n",
    "\n",
    "\n",
    "for idx, row in df.loc[0:10].iterrows():\n",
    "    \n",
    "    article = df.loc[idx,'Cleaned Text']  \n",
    "    df.loc[idx,'Summary_2'] = summarization_pipeline(\n",
    "        article,\n",
    "        do_sample=True,\n",
    "        top_p=0.75,\n",
    "        top_k=50,\n",
    "        # num_beams=4,\n",
    "        min_length=50,\n",
    "        early_stopping=True,\n",
    "        truncation=True,\n",
    "    )[0][\"summary_text\"]"
   ]
  },
  {
   "cell_type": "code",
   "execution_count": 14,
   "id": "cc601989",
   "metadata": {},
   "outputs": [
    {
     "data": {
      "text/plain": [
       "'# mBart finetune Model\\n\\nimport transformers\\nundisputed_best_model = transformers.MBartForConditionalGeneration.from_pretrained(\\n    \"ml6team/mbart-large-cc25-cnn-dailymail-nl-finetune\"\\n)\\ntokenizer = transformers.MBartTokenizer.from_pretrained(\"facebook/mbart-large-cc25\")\\nsummarization_pipeline = transformers.pipeline(\\n    task=\"summarization\",\\n    model=undisputed_best_model,\\n    tokenizer=tokenizer,\\n)\\nsummarization_pipeline.model.config.decoder_start_token_id = tokenizer.lang_code_to_id[\\n    \"nl_XX\"\\n]\\narticle = corpus  # Dutch\\nsummarization_pipeline(\\n    article,\\n    do_sample=True,\\n    top_p=0.75,\\n    top_k=50,\\n    # num_beams=4,\\n    min_length=50,\\n    early_stopping=True,\\n    truncation=True,\\n)[0][\"summary_text\"]'"
      ]
     },
     "execution_count": 14,
     "metadata": {},
     "output_type": "execute_result"
    }
   ],
   "source": [
    "'''# mBart finetune Model\n",
    "\n",
    "import transformers\n",
    "undisputed_best_model = transformers.MBartForConditionalGeneration.from_pretrained(\n",
    "    \"ml6team/mbart-large-cc25-cnn-dailymail-nl-finetune\"\n",
    ")\n",
    "tokenizer = transformers.MBartTokenizer.from_pretrained(\"facebook/mbart-large-cc25\")\n",
    "summarization_pipeline = transformers.pipeline(\n",
    "    task=\"summarization\",\n",
    "    model=undisputed_best_model,\n",
    "    tokenizer=tokenizer,\n",
    ")\n",
    "summarization_pipeline.model.config.decoder_start_token_id = tokenizer.lang_code_to_id[\n",
    "    \"nl_XX\"\n",
    "]\n",
    "article = corpus  # Dutch\n",
    "summarization_pipeline(\n",
    "    article,\n",
    "    do_sample=True,\n",
    "    top_p=0.75,\n",
    "    top_k=50,\n",
    "    # num_beams=4,\n",
    "    min_length=50,\n",
    "    early_stopping=True,\n",
    "    truncation=True,\n",
    ")[0][\"summary_text\"]'''"
   ]
  },
  {
   "cell_type": "code",
   "execution_count": 22,
   "id": "e1d00c3b",
   "metadata": {},
   "outputs": [],
   "source": [
    "df = df.reset_index(drop=True)"
   ]
  },
  {
   "cell_type": "code",
   "execution_count": 30,
   "id": "0100d9fd",
   "metadata": {},
   "outputs": [
    {
     "data": {
      "text/plain": [
       "'De Belgische overheid heeft een belastingvermindering voor de verwerving van nieuwe aandelen van startende vennootschappen en nieuwe beleggingsinstrumenten uitgegeven door een financieringsvehikel ingesteld. De inschrijvers van de documenten moeten, naargelang het geval, de startende vennootschap, het financieringsvehikel, het openbaar startersfonds of de private startersprivak, een afschrift van die documenten krijgen.'"
      ]
     },
     "execution_count": 30,
     "metadata": {},
     "output_type": "execute_result"
    }
   ],
   "source": [
    "df['Summary_1'][4]"
   ]
  },
  {
   "cell_type": "code",
   "execution_count": 31,
   "id": "f9059c2a",
   "metadata": {},
   "outputs": [
    {
     "data": {
      "text/plain": [
       "'De overheid heeft een belastingvermindering voor de verwerving van nieuwe aandelen van startende vennootschappen uitgevaardigd. De inschrijvers van de documenten moeten, naargelang het geval, de startende vennootschap, het financieringsvehikel, het openbaar startersfonds of de private startersprivak, kunnen investeren in nieuwe aandelen.'"
      ]
     },
     "execution_count": 31,
     "metadata": {},
     "output_type": "execute_result"
    }
   ],
   "source": [
    "df['Summary_2'][4]"
   ]
  },
  {
   "cell_type": "code",
   "execution_count": 1,
   "id": "d402611b",
   "metadata": {},
   "outputs": [
    {
     "ename": "NameError",
     "evalue": "name 'df' is not defined",
     "output_type": "error",
     "traceback": [
      "\u001b[1;31m---------------------------------------------------------------------------\u001b[0m",
      "\u001b[1;31mNameError\u001b[0m                                 Traceback (most recent call last)",
      "Input \u001b[1;32mIn [1]\u001b[0m, in \u001b[0;36m<cell line: 1>\u001b[1;34m()\u001b[0m\n\u001b[1;32m----> 1\u001b[0m \u001b[43mdf\u001b[49m\u001b[38;5;241m.\u001b[39mto_excel(\u001b[38;5;124m\"\u001b[39m\u001b[38;5;124mKPMG Tax Case - Summarized.xlsx\u001b[39m\u001b[38;5;124m\"\u001b[39m, index\u001b[38;5;241m=\u001b[39m\u001b[38;5;28;01mFalse\u001b[39;00m)\n\u001b[0;32m      2\u001b[0m df\u001b[38;5;241m.\u001b[39mto_csv(\u001b[38;5;124m\"\u001b[39m\u001b[38;5;124mKPMG Tax Case - CSV_Summarized.csv\u001b[39m\u001b[38;5;124m\"\u001b[39m, index\u001b[38;5;241m=\u001b[39m\u001b[38;5;28;01mFalse\u001b[39;00m)\n",
      "\u001b[1;31mNameError\u001b[0m: name 'df' is not defined"
     ]
    }
   ],
   "source": [
    "df.to_excel(\"KPMG Tax Case - Summarized.xlsx\", index=False)\n",
    "df.to_csv(\"KPMG Tax Case - CSV_Summarized.csv\", index=False)"
   ]
  },
  {
   "cell_type": "code",
   "execution_count": null,
   "id": "c01a3ae5",
   "metadata": {},
   "outputs": [],
   "source": []
  }
 ],
 "metadata": {
  "kernelspec": {
   "display_name": "tf",
   "language": "python",
   "name": "tf"
  },
  "language_info": {
   "codemirror_mode": {
    "name": "ipython",
    "version": 3
   },
   "file_extension": ".py",
   "mimetype": "text/x-python",
   "name": "python",
   "nbconvert_exporter": "python",
   "pygments_lexer": "ipython3",
   "version": "3.9.12"
  }
 },
 "nbformat": 4,
 "nbformat_minor": 5
}
