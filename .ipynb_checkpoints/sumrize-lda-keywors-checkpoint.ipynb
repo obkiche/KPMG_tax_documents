{
 "cells": [
  {
   "cell_type": "code",
   "execution_count": 2,
   "id": "c0943b63",
   "metadata": {},
   "outputs": [
    {
     "ename": "FileNotFoundError",
     "evalue": "[Errno 2] No such file or directory: './data/dataSummarized.xlsx'",
     "output_type": "error",
     "traceback": [
      "\u001b[1;31m---------------------------------------------------------------------------\u001b[0m",
      "\u001b[1;31mFileNotFoundError\u001b[0m                         Traceback (most recent call last)",
      "\u001b[1;32m<ipython-input-2-698056f81592>\u001b[0m in \u001b[0;36m<module>\u001b[1;34m\u001b[0m\n\u001b[0;32m      1\u001b[0m \u001b[1;32mimport\u001b[0m \u001b[0mpandas\u001b[0m \u001b[1;32mas\u001b[0m \u001b[0mpd\u001b[0m\u001b[1;33m\u001b[0m\u001b[1;33m\u001b[0m\u001b[0m\n\u001b[1;32m----> 2\u001b[1;33m \u001b[0mdf_idf\u001b[0m\u001b[1;33m=\u001b[0m \u001b[0mpd\u001b[0m\u001b[1;33m.\u001b[0m\u001b[0mread_excel\u001b[0m\u001b[1;33m(\u001b[0m\u001b[1;34m'./data/dataSummarized.xlsx'\u001b[0m\u001b[1;33m)\u001b[0m\u001b[1;33m\u001b[0m\u001b[1;33m\u001b[0m\u001b[0m\n\u001b[0m\u001b[0;32m      3\u001b[0m \u001b[0mdf_idf\u001b[0m\u001b[1;33m=\u001b[0m \u001b[0mdf_idf\u001b[0m\u001b[1;33m[\u001b[0m\u001b[0mdf_idf\u001b[0m\u001b[1;33m[\u001b[0m\u001b[1;34m\"Text\"\u001b[0m\u001b[1;33m]\u001b[0m\u001b[1;33m.\u001b[0m\u001b[0mstr\u001b[0m\u001b[1;33m.\u001b[0m\u001b[0mcontains\u001b[0m\u001b[1;33m(\u001b[0m\u001b[1;34m\"Duitse vertaling\"\u001b[0m\u001b[1;33m)\u001b[0m\u001b[1;33m==\u001b[0m\u001b[1;32mFalse\u001b[0m\u001b[1;33m]\u001b[0m\u001b[1;33m\u001b[0m\u001b[1;33m\u001b[0m\u001b[0m\n\u001b[0;32m      4\u001b[0m \u001b[0mdf_idf\u001b[0m\u001b[1;33m\u001b[0m\u001b[1;33m\u001b[0m\u001b[0m\n",
      "\u001b[1;32m~\\anaconda3\\lib\\site-packages\\pandas\\util\\_decorators.py\u001b[0m in \u001b[0;36mwrapper\u001b[1;34m(*args, **kwargs)\u001b[0m\n\u001b[0;32m    297\u001b[0m                 )\n\u001b[0;32m    298\u001b[0m                 \u001b[0mwarnings\u001b[0m\u001b[1;33m.\u001b[0m\u001b[0mwarn\u001b[0m\u001b[1;33m(\u001b[0m\u001b[0mmsg\u001b[0m\u001b[1;33m,\u001b[0m \u001b[0mFutureWarning\u001b[0m\u001b[1;33m,\u001b[0m \u001b[0mstacklevel\u001b[0m\u001b[1;33m=\u001b[0m\u001b[0mstacklevel\u001b[0m\u001b[1;33m)\u001b[0m\u001b[1;33m\u001b[0m\u001b[1;33m\u001b[0m\u001b[0m\n\u001b[1;32m--> 299\u001b[1;33m             \u001b[1;32mreturn\u001b[0m \u001b[0mfunc\u001b[0m\u001b[1;33m(\u001b[0m\u001b[1;33m*\u001b[0m\u001b[0margs\u001b[0m\u001b[1;33m,\u001b[0m \u001b[1;33m**\u001b[0m\u001b[0mkwargs\u001b[0m\u001b[1;33m)\u001b[0m\u001b[1;33m\u001b[0m\u001b[1;33m\u001b[0m\u001b[0m\n\u001b[0m\u001b[0;32m    300\u001b[0m \u001b[1;33m\u001b[0m\u001b[0m\n\u001b[0;32m    301\u001b[0m         \u001b[1;32mreturn\u001b[0m \u001b[0mwrapper\u001b[0m\u001b[1;33m\u001b[0m\u001b[1;33m\u001b[0m\u001b[0m\n",
      "\u001b[1;32m~\\anaconda3\\lib\\site-packages\\pandas\\io\\excel\\_base.py\u001b[0m in \u001b[0;36mread_excel\u001b[1;34m(io, sheet_name, header, names, index_col, usecols, squeeze, dtype, engine, converters, true_values, false_values, skiprows, nrows, na_values, keep_default_na, na_filter, verbose, parse_dates, date_parser, thousands, comment, skipfooter, convert_float, mangle_dupe_cols, storage_options)\u001b[0m\n\u001b[0;32m    334\u001b[0m     \u001b[1;32mif\u001b[0m \u001b[1;32mnot\u001b[0m \u001b[0misinstance\u001b[0m\u001b[1;33m(\u001b[0m\u001b[0mio\u001b[0m\u001b[1;33m,\u001b[0m \u001b[0mExcelFile\u001b[0m\u001b[1;33m)\u001b[0m\u001b[1;33m:\u001b[0m\u001b[1;33m\u001b[0m\u001b[1;33m\u001b[0m\u001b[0m\n\u001b[0;32m    335\u001b[0m         \u001b[0mshould_close\u001b[0m \u001b[1;33m=\u001b[0m \u001b[1;32mTrue\u001b[0m\u001b[1;33m\u001b[0m\u001b[1;33m\u001b[0m\u001b[0m\n\u001b[1;32m--> 336\u001b[1;33m         \u001b[0mio\u001b[0m \u001b[1;33m=\u001b[0m \u001b[0mExcelFile\u001b[0m\u001b[1;33m(\u001b[0m\u001b[0mio\u001b[0m\u001b[1;33m,\u001b[0m \u001b[0mstorage_options\u001b[0m\u001b[1;33m=\u001b[0m\u001b[0mstorage_options\u001b[0m\u001b[1;33m,\u001b[0m \u001b[0mengine\u001b[0m\u001b[1;33m=\u001b[0m\u001b[0mengine\u001b[0m\u001b[1;33m)\u001b[0m\u001b[1;33m\u001b[0m\u001b[1;33m\u001b[0m\u001b[0m\n\u001b[0m\u001b[0;32m    337\u001b[0m     \u001b[1;32melif\u001b[0m \u001b[0mengine\u001b[0m \u001b[1;32mand\u001b[0m \u001b[0mengine\u001b[0m \u001b[1;33m!=\u001b[0m \u001b[0mio\u001b[0m\u001b[1;33m.\u001b[0m\u001b[0mengine\u001b[0m\u001b[1;33m:\u001b[0m\u001b[1;33m\u001b[0m\u001b[1;33m\u001b[0m\u001b[0m\n\u001b[0;32m    338\u001b[0m         raise ValueError(\n",
      "\u001b[1;32m~\\anaconda3\\lib\\site-packages\\pandas\\io\\excel\\_base.py\u001b[0m in \u001b[0;36m__init__\u001b[1;34m(self, path_or_buffer, engine, storage_options)\u001b[0m\n\u001b[0;32m   1069\u001b[0m                 \u001b[0mext\u001b[0m \u001b[1;33m=\u001b[0m \u001b[1;34m\"xls\"\u001b[0m\u001b[1;33m\u001b[0m\u001b[1;33m\u001b[0m\u001b[0m\n\u001b[0;32m   1070\u001b[0m             \u001b[1;32melse\u001b[0m\u001b[1;33m:\u001b[0m\u001b[1;33m\u001b[0m\u001b[1;33m\u001b[0m\u001b[0m\n\u001b[1;32m-> 1071\u001b[1;33m                 ext = inspect_excel_format(\n\u001b[0m\u001b[0;32m   1072\u001b[0m                     \u001b[0mcontent\u001b[0m\u001b[1;33m=\u001b[0m\u001b[0mpath_or_buffer\u001b[0m\u001b[1;33m,\u001b[0m \u001b[0mstorage_options\u001b[0m\u001b[1;33m=\u001b[0m\u001b[0mstorage_options\u001b[0m\u001b[1;33m\u001b[0m\u001b[1;33m\u001b[0m\u001b[0m\n\u001b[0;32m   1073\u001b[0m                 )\n",
      "\u001b[1;32m~\\anaconda3\\lib\\site-packages\\pandas\\io\\excel\\_base.py\u001b[0m in \u001b[0;36minspect_excel_format\u001b[1;34m(path, content, storage_options)\u001b[0m\n\u001b[0;32m    947\u001b[0m     \u001b[1;32massert\u001b[0m \u001b[0mcontent_or_path\u001b[0m \u001b[1;32mis\u001b[0m \u001b[1;32mnot\u001b[0m \u001b[1;32mNone\u001b[0m\u001b[1;33m\u001b[0m\u001b[1;33m\u001b[0m\u001b[0m\n\u001b[0;32m    948\u001b[0m \u001b[1;33m\u001b[0m\u001b[0m\n\u001b[1;32m--> 949\u001b[1;33m     with get_handle(\n\u001b[0m\u001b[0;32m    950\u001b[0m         \u001b[0mcontent_or_path\u001b[0m\u001b[1;33m,\u001b[0m \u001b[1;34m\"rb\"\u001b[0m\u001b[1;33m,\u001b[0m \u001b[0mstorage_options\u001b[0m\u001b[1;33m=\u001b[0m\u001b[0mstorage_options\u001b[0m\u001b[1;33m,\u001b[0m \u001b[0mis_text\u001b[0m\u001b[1;33m=\u001b[0m\u001b[1;32mFalse\u001b[0m\u001b[1;33m\u001b[0m\u001b[1;33m\u001b[0m\u001b[0m\n\u001b[0;32m    951\u001b[0m     ) as handle:\n",
      "\u001b[1;32m~\\anaconda3\\lib\\site-packages\\pandas\\io\\common.py\u001b[0m in \u001b[0;36mget_handle\u001b[1;34m(path_or_buf, mode, encoding, compression, memory_map, is_text, errors, storage_options)\u001b[0m\n\u001b[0;32m    649\u001b[0m         \u001b[1;32melse\u001b[0m\u001b[1;33m:\u001b[0m\u001b[1;33m\u001b[0m\u001b[1;33m\u001b[0m\u001b[0m\n\u001b[0;32m    650\u001b[0m             \u001b[1;31m# Binary mode\u001b[0m\u001b[1;33m\u001b[0m\u001b[1;33m\u001b[0m\u001b[1;33m\u001b[0m\u001b[0m\n\u001b[1;32m--> 651\u001b[1;33m             \u001b[0mhandle\u001b[0m \u001b[1;33m=\u001b[0m \u001b[0mopen\u001b[0m\u001b[1;33m(\u001b[0m\u001b[0mhandle\u001b[0m\u001b[1;33m,\u001b[0m \u001b[0mioargs\u001b[0m\u001b[1;33m.\u001b[0m\u001b[0mmode\u001b[0m\u001b[1;33m)\u001b[0m\u001b[1;33m\u001b[0m\u001b[1;33m\u001b[0m\u001b[0m\n\u001b[0m\u001b[0;32m    652\u001b[0m         \u001b[0mhandles\u001b[0m\u001b[1;33m.\u001b[0m\u001b[0mappend\u001b[0m\u001b[1;33m(\u001b[0m\u001b[0mhandle\u001b[0m\u001b[1;33m)\u001b[0m\u001b[1;33m\u001b[0m\u001b[1;33m\u001b[0m\u001b[0m\n\u001b[0;32m    653\u001b[0m \u001b[1;33m\u001b[0m\u001b[0m\n",
      "\u001b[1;31mFileNotFoundError\u001b[0m: [Errno 2] No such file or directory: './data/dataSummarized.xlsx'"
     ]
    }
   ],
   "source": [
    "import pandas as pd\n",
    "df_idf= pd.read_excel('./data/dataSummarized.xlsx')\n",
    "df_idf= df_idf[df_idf[\"Text\"].str.contains(\"Duitse vertaling\")==False]\n",
    "df_idf"
   ]
  },
  {
   "cell_type": "code",
   "execution_count": 5,
   "id": "3f837aa7",
   "metadata": {},
   "outputs": [
    {
     "data": {
      "text/html": [
       "<div>\n",
       "<style scoped>\n",
       "    .dataframe tbody tr th:only-of-type {\n",
       "        vertical-align: middle;\n",
       "    }\n",
       "\n",
       "    .dataframe tbody tr th {\n",
       "        vertical-align: top;\n",
       "    }\n",
       "\n",
       "    .dataframe thead th {\n",
       "        text-align: right;\n",
       "    }\n",
       "</style>\n",
       "<table border=\"1\" class=\"dataframe\">\n",
       "  <thead>\n",
       "    <tr style=\"text-align: right;\">\n",
       "      <th></th>\n",
       "      <th>Date</th>\n",
       "      <th>Title</th>\n",
       "      <th>Numac</th>\n",
       "      <th>Link FR</th>\n",
       "      <th>Link NL</th>\n",
       "      <th>Text</th>\n",
       "      <th>Cleaned Text</th>\n",
       "      <th>Summary_1</th>\n",
       "      <th>Summary_2</th>\n",
       "    </tr>\n",
       "  </thead>\n",
       "  <tbody>\n",
       "    <tr>\n",
       "      <th>4</th>\n",
       "      <td>1/28/2020</td>\n",
       "      <td>SERVICE PUBLIC FEDERAL FINANCES\\nAdministratio...</td>\n",
       "      <td>2020010193</td>\n",
       "      <td>http://www.ejustice.just.fgov.be/cgi/article.p...</td>\n",
       "      <td>http://www.ejustice.just.fgov.be/cgi/article_b...</td>\n",
       "      <td>NL FR\\n\\neinde eerste woord laatste woord\\nPub...</td>\n",
       "      <td>: 2020010193 FEDERALE OVERHEIDSDIENST FINANCI...</td>\n",
       "      <td>NaN</td>\n",
       "      <td>NaN</td>\n",
       "    </tr>\n",
       "  </tbody>\n",
       "</table>\n",
       "</div>"
      ],
      "text/plain": [
       "        Date                                              Title       Numac  \\\n",
       "4  1/28/2020  SERVICE PUBLIC FEDERAL FINANCES\\nAdministratio...  2020010193   \n",
       "\n",
       "                                             Link FR  \\\n",
       "4  http://www.ejustice.just.fgov.be/cgi/article.p...   \n",
       "\n",
       "                                             Link NL  \\\n",
       "4  http://www.ejustice.just.fgov.be/cgi/article_b...   \n",
       "\n",
       "                                                Text  \\\n",
       "4  NL FR\\n\\neinde eerste woord laatste woord\\nPub...   \n",
       "\n",
       "                                        Cleaned Text Summary_1  Summary_2  \n",
       "4   : 2020010193 FEDERALE OVERHEIDSDIENST FINANCI...       NaN        NaN  "
      ]
     },
     "execution_count": 5,
     "metadata": {},
     "output_type": "execute_result"
    }
   ],
   "source": [
    "df_idf[df_idf[\"Summary_1\"].isna()]"
   ]
  },
  {
   "cell_type": "code",
   "execution_count": 7,
   "id": "26d5a8f9",
   "metadata": {},
   "outputs": [],
   "source": [
    "df_idf=df_idf.drop(df_idf.index[4])"
   ]
  },
  {
   "cell_type": "code",
   "execution_count": 9,
   "id": "17c5b643",
   "metadata": {},
   "outputs": [
    {
     "data": {
      "text/plain": [
       "'nl fr einde eerste woord laatste woord publicatie numac ministerie van de franse gemeenschap december ministerieel besluit tot goedkeuring van het referentiedossier van de afdeling bachelor specialisatie fiscale wetenschappen code s d gerangschikt op het gebied van de economische en beheerswetenschappen van het hoger onderwijs voor sociale promotie van het korte type de minister van onderwijs voor sociale promotie gelet op de wetten op het toekennen van de academische graden en het programma van de universitaire examens gecoördineerd bij het besluit van de regent van december inzonderheid op artikel gewijzigd bij artikel van het decreet van de franse gemeenschap van april houdende organisatie van het onderwijs voor sociale promotie gelet op de wet van mei tot wijziging van sommige bepalingen van de onderwijswetgeving zoals gewijzigd gelet op het decreet van de franse gemeenschap van april houdende organisatie van het onderwijs voor sociale promotie de artikelen en gelet op het besluit van de executieve van de franse gemeenschap van april houdende bevoegdheidsoverdracht inzake het onderwijs voor sociale promotie gelet op het decreet van november tot bepaling van het hogeronderwijslandschap en de academische organisatie van de studies de artikelen tweede lid en en gelet op het besluit van de executieve van de franse gemeenschap van april houdende bevoegdheidsoverdracht inzake het onderwijs voor sociale promotie gelet op het eensluidend advies van de algemene raad voor het onderwijs voor sociale promotie van november overwegende dat de raad van bestuur van de academie voor onderzoek en hoger onderwijs op de hoogte werd gebracht van het pedagogisch dossier van de afdeling van bachelor specialisatie fiscale wetenschappen code s d door een brief van november van de algemene raad voor het onderwijs voor sociale promotie besluit artikel het referentiedossier van de afdeling bachelor specialisatie fiscale wetenschappen code s d alsook de referentiedossiers van de onderwijseenheden waaruit die afdeling bestaat worden goedgekeurd die afdeling wordt gerangschikt op het niveau van de economische en beheerswetenschappen van het hoger onderwijs voor sociale promotie van het korte type elf onderwijseenheden waaruit die afdeling bestaat worden gerangschikt op het gebied van de economische en beheerswetenschappen van het hoger onderwijs voor sociale promotie van het korte type en twee onderwijseenheden worden gerangschikt op het gebied van de juridische wetenschappen van het hoger onderwijs voor sociale promotie van het korte type art het bekwaamheidsbewijs voorzien door het pedagogisch dossier van de afdeling bachelor specialisatie fiscale wetenschappen code s d is het diploma van bachelor specialisatie fiscale wetenschappen art de geleidelijke transformatie van de betrokken bestaande structuren begint ten laatste op september de afdeling bedoeld in dit besluit vervangt de afdeling van specialisatie in fiscale wetenschappen code s d art dit besluit treedt in werking op februari brussel december v glatigny minister van hoger onderwijs onderwijs voor sociale promotie universitaire ziekenhuizen hulpverlening aan de jeugd justitiehuizen jeugd sport en promotie van brussel begin eerste woord laatste woord publicatie numac '"
      ]
     },
     "execution_count": 9,
     "metadata": {},
     "output_type": "execute_result"
    }
   ],
   "source": [
    "import re\n",
    "def pre_process(text):\n",
    "    \n",
    "    # lowercase\n",
    "    text=text.lower()\n",
    "    \n",
    "    #remove tags\n",
    "    text=re.sub(\"</?.*?>\",\" <> \",text)\n",
    "    \n",
    "    # remove special characters and digits\n",
    "    text=re.sub(\"(\\\\d|\\\\W)+\",\" \",text)\n",
    "    \n",
    "    return text\n",
    "\n",
    "df_idf['text'] = df_idf['Text']\n",
    "df_idf['text'] = df_idf['text'].apply(lambda x:pre_process(x))\n",
    "\n",
    "#show the first 'text'\n",
    "df_idf['text'][1]"
   ]
  },
  {
   "cell_type": "code",
   "execution_count": 10,
   "id": "c1e84f47",
   "metadata": {},
   "outputs": [
    {
     "name": "stderr",
     "output_type": "stream",
     "text": [
      "[nltk_data] Downloading package stopwords to\n",
      "[nltk_data]     C:\\Users\\Mahboubeh\\AppData\\Roaming\\nltk_data...\n",
      "[nltk_data]   Package stopwords is already up-to-date!\n",
      "[nltk_data] Downloading package wordnet to\n",
      "[nltk_data]     C:\\Users\\Mahboubeh\\AppData\\Roaming\\nltk_data...\n",
      "[nltk_data]   Package wordnet is already up-to-date!\n",
      "C:\\Users\\Mahboubeh\\anaconda3\\lib\\site-packages\\sklearn\\feature_extraction\\text.py:396: UserWarning: Your stop_words may be inconsistent with your preprocessing. Tokenizing the stop words generated tokens ['fr', 'nl'] not in stop_words.\n",
      "  warnings.warn(\n"
     ]
    }
   ],
   "source": [
    "from sklearn.feature_extraction.text import CountVectorizer\n",
    "import re\n",
    "import nltk\n",
    "nltk.download('stopwords') \n",
    "nltk.download('wordnet')\n",
    "from nltk.corpus import stopwords\n",
    "#load a set of stop words\n",
    "stop_words= stopwords.words(\"dutch\")\n",
    "#stop_words.extend(['bis', 'NL', 'FR','artikel', \"januari\", \"februari\", \"maart\", \"april\", \"mei\", \"juni\", \"juli\", \"augustus\", \"september\", \"oktober\", \"november\", \"december\"])\n",
    "stop_words.extend(['bis', 'NL', 'FR', 'artikel','wijziging','http','kbwib', 'koninklijk','einde' ,'koninklijke', 'minister' ,'koning', 'besluit', 'belgisch',\n",
    "                 'tabel' ,'definitief', 'ministrieel', 'staatsblad', 'oktober', 'september','november','december','januari','februari',\n",
    "                 'maart', 'april','mei','juli', 'juni', 'augustus', 'begin','navigatie', 'eerste', 'woord', 'laatste', 'woord',\n",
    "                 'publicatie', 'numac','wwwejusticejustfgovbeelibesluitstaatsblad', 'viceeerste','belgielexbe', 'ministerie', 'ministerieel','identificatiecode','kruispuntbank', 'wetgeving', 'raad'])\n",
    "\n",
    "#get the text column \n",
    "docs=df_idf['text'].tolist()\n",
    "\n",
    "#create a vocabulary of words, \n",
    "#ignore words that appear in 85% of documents, \n",
    "#eliminate stop words\n",
    "cv=CountVectorizer(max_df=0.85,stop_words=stop_words)\n",
    "word_count_vector=cv.fit_transform(docs)"
   ]
  },
  {
   "cell_type": "code",
   "execution_count": 11,
   "id": "c12fa6c7",
   "metadata": {},
   "outputs": [
    {
     "data": {
      "text/plain": [
       "<661x20266 sparse matrix of type '<class 'numpy.int64'>'\n",
       "\twith 184968 stored elements in Compressed Sparse Row format>"
      ]
     },
     "execution_count": 11,
     "metadata": {},
     "output_type": "execute_result"
    }
   ],
   "source": [
    "word_count_vector"
   ]
  },
  {
   "cell_type": "code",
   "execution_count": 12,
   "id": "4f86d1b2",
   "metadata": {},
   "outputs": [
    {
     "data": {
      "text/plain": [
       "(661, 20266)"
      ]
     },
     "execution_count": 12,
     "metadata": {},
     "output_type": "execute_result"
    }
   ],
   "source": [
    "word_count_vector.shape"
   ]
  },
  {
   "cell_type": "code",
   "execution_count": 13,
   "id": "0d5dea13",
   "metadata": {},
   "outputs": [
    {
     "data": {
      "text/plain": [
       "['belgiëlex',\n",
       " 'be',\n",
       " 'state',\n",
       " 'eli',\n",
       " 'systeem',\n",
       " 'via',\n",
       " 'europese',\n",
       " 'www',\n",
       " 'ejustice',\n",
       " 'just']"
      ]
     },
     "execution_count": 13,
     "metadata": {},
     "output_type": "execute_result"
    }
   ],
   "source": [
    "list(cv.vocabulary_.keys())[:10]"
   ]
  },
  {
   "cell_type": "code",
   "execution_count": 14,
   "id": "b95f143c",
   "metadata": {},
   "outputs": [
    {
     "name": "stderr",
     "output_type": "stream",
     "text": [
      "C:\\Users\\Mahboubeh\\anaconda3\\lib\\site-packages\\sklearn\\utils\\deprecation.py:87: FutureWarning: Function get_feature_names is deprecated; get_feature_names is deprecated in 1.0 and will be removed in 1.2. Please use get_feature_names_out instead.\n",
      "  warnings.warn(msg, category=FutureWarning)\n"
     ]
    },
    {
     "data": {
      "text/plain": [
       "['beleidsfocus',\n",
       " 'beleidsgeorienteerde',\n",
       " 'beleidsgroep',\n",
       " 'beleidsinstrumenten',\n",
       " 'beleidskeuze',\n",
       " 'beleidslijnen',\n",
       " 'beleidsmatig',\n",
       " 'beleidsmatige',\n",
       " 'beleidsondersteunend',\n",
       " 'beleidsondersteunende',\n",
       " 'beleidsondersteuning',\n",
       " 'beleidsorganen',\n",
       " 'beleidsperiode',\n",
       " 'beleidsveld',\n",
       " 'beleidsvelden']"
      ]
     },
     "execution_count": 14,
     "metadata": {},
     "output_type": "execute_result"
    }
   ],
   "source": [
    "list(cv.get_feature_names())[2000:2015]"
   ]
  },
  {
   "cell_type": "code",
   "execution_count": 15,
   "id": "0494c9dc",
   "metadata": {},
   "outputs": [
    {
     "data": {
      "text/plain": [
       "TfidfTransformer()"
      ]
     },
     "execution_count": 15,
     "metadata": {},
     "output_type": "execute_result"
    }
   ],
   "source": [
    "from sklearn.feature_extraction.text import TfidfTransformer\n",
    "\n",
    "tfidf_transformer=TfidfTransformer(smooth_idf=True,use_idf=True)\n",
    "tfidf_transformer.fit(word_count_vector)"
   ]
  },
  {
   "cell_type": "code",
   "execution_count": 16,
   "id": "e9ab40dd",
   "metadata": {},
   "outputs": [
    {
     "data": {
      "text/plain": [
       "array([2.59742576, 6.80211838, 6.80211838, ..., 5.70350609, 4.85620823,\n",
       "       6.39665327])"
      ]
     },
     "execution_count": 16,
     "metadata": {},
     "output_type": "execute_result"
    }
   ],
   "source": [
    "tfidf_transformer.idf_"
   ]
  },
  {
   "cell_type": "code",
   "execution_count": 27,
   "id": "f2d70a0e",
   "metadata": {},
   "outputs": [],
   "source": [
    "# read test docs into a dataframe and concatenate title and body\n",
    "df_test=pd.read_excel('./data/dataSummarized.xlsx')\n",
    "df_test= df_test[df_test[\"Text\"].str.contains(\"Duitse vertaling\")==False]\n",
    "df_test = df_test.reset_index(drop=True)\n",
    "\n",
    "df_test['text'] = df_test['Text']\n",
    "df_test['text'] =df_test['text'].apply(lambda x:pre_process(x))\n",
    "\n",
    "# get test docs into a list\n",
    "docs_test=df_test['text'].tolist()\n",
    "docs_title=df_test['Title'].tolist()\n",
    "docs_summery= df_test['Summary_1'].tolist()"
   ]
  },
  {
   "cell_type": "code",
   "execution_count": 28,
   "id": "b39b050e",
   "metadata": {},
   "outputs": [],
   "source": [
    "def sort_coo(coo_matrix):\n",
    "    tuples = zip(coo_matrix.col, coo_matrix.data)\n",
    "    return sorted(tuples, key=lambda x: (x[1], x[0]), reverse=True)\n",
    "\n",
    "def extract_topn_from_vector(feature_names, sorted_items, topn=10):\n",
    "    \"\"\"get the feature names and tf-idf score of top n items\"\"\"\n",
    "    \n",
    "    #use only topn items from vector\n",
    "    sorted_items = sorted_items[:topn]\n",
    "\n",
    "    score_vals = []\n",
    "    feature_vals = []\n",
    "\n",
    "    for idx, score in sorted_items:\n",
    "        fname = feature_names[idx]\n",
    "        \n",
    "        #keep track of feature name and its corresponding score\n",
    "        score_vals.append(round(score, 3))\n",
    "        feature_vals.append(feature_names[idx])\n",
    "\n",
    "    #create a tuples of feature,score\n",
    "    #results = zip(feature_vals,score_vals)\n",
    "    results= {}\n",
    "    for idx in range(len(feature_vals)):\n",
    "        results[feature_vals[idx]]=score_vals[idx]\n",
    "    \n",
    "    return results"
   ]
  },
  {
   "cell_type": "code",
   "execution_count": 30,
   "id": "cb09cf80",
   "metadata": {},
   "outputs": [
    {
     "name": "stdout",
     "output_type": "stream",
     "text": [
      "\n",
      "=====Title=====\n",
      "REGION DE BRUXELLES-CAPITALE\n",
      "REGION DE BRUXELLES-CAPITALE\n",
      "8 JANVIER 2020. - Arrêté ministériel établissant les modèles de formulaire visé à l'article 8,  §  1er, de l'arrêté du Gouvernement de la Région de Bruxelles-Capitale du 19 janvier 2017 établissant les modalités du régime préférentiel applicable aux droits de succession en cas de transmission des entreprises familiales et des sociétés familiales, p. 997.\n",
      "\n",
      "=====Body=====\n",
      "nl fr belgiëlex be kruispuntbank wetgeving raad van state eli navigatie systeem via een europese identificatiecode voor wetgeving http www ejustice just fgov be eli besluit staatsblad einde eerste woord laatste woord publicatie numac brussels hoofdstedelijk gewest januari ministerieel besluit tot vaststelling van de modellen van formulier bedoeld in artikel van het besluit van de brusselse hoofdstedelijke regering van januari tot vaststelling van de modaliteiten van het gunstregime toepasselijk op de successierechten bij overdracht van familiale ondernemingen en familiale vennootschappen de minister van de brusselse hoofdstedelijke regering belast met financiën en begroting gelet op het wetboek der successierechten artikel bis ingevoegd door de ordonnantie van december houdende het tweede deel van de fiscale hervorming gelet op het besluit van de brusselse hoofdstedelijke regering van januari tot vaststelling van de modaliteiten van het gunstregime toepasselijk op de successierechten bij overdracht van familiale ondernemingen en familiale vennootschappen artikel gelet op de gelijkekansentest uitgevoerd in toepassing van artikel van de ordonnantie van oktober tot invoering van de gelijkekansentest overwegende dat artikel van bovengenoemd besluit stelt dat de minister van de brusselse hoofdstedelijke regering belast met financiën en begroting bevoegd is om het formulier dat bedoeld is om na te gaan of de voorwaarden voor het behoud van de het fiscale gunstregime dat werd bekomen in het kader van de overdracht van een familiale onderneming of een familiale vennootschap vervuld zijn gebleven tot het einde van de driejarige periode die aanving bij het overlijden van de decujus zoals bedoeld in artikel bis van het wetboek der successierechten overwegende dat dit ministerieel besluit geen reglementaire voorschriften bevat in de zin van artikel eerste lid van de gecoördineerde wetten van de raad van state van januari is het niet onderworpen aan het advies van de raad van state afdeling wetgeving besluit artikel het formulier dat bedoeld is om na te gaan of de voorwaarden voor het behoud van de het fiscale gunstregime dat werd bekomen in het kader van de overdracht van een familiale onderneming vervuld zijn gebleven tot het einde van de driejarige periode die aanving bij het overlijden van de decujus zoals bedoeld in artikel bis van het wetboek der successierechten is hernomen in bijlage van dit besluit art het formulier dat bedoeld is om na te gaan of de voorwaarden voor het behoud van het fiscale gunstregime dat werd bekomen in het kader van het overdracht van een familiale vennootschap vervuld zijn gebleven tot het einde van de driejarige periode die aanving bij het overlijden van de decujus zoals bedoeld in artikel bis van het wetboek der successierechten is hernomen in bijlage bij dit besluit art dit besluit heeft uitwerking met ingang van januari brussel januari de minister van de brusselse hoofdstedelijke regering belast met financiën begroting openbaar ambt en de promotie van meertaligheid s gatz voor de raadpleging van de tabel zie beeld begin eerste woord laatste woord publicatie numac \n",
      "\n",
      "=====Summary=====\n",
      "Demissionair minister van Financiën, belast met Financiën en Begroting, legt uit of het ministerie van Justitie en Veiligheid een nieuwe model van het fiscale gunstregime kan indienen bij het overlijden van de decujus, zoals bedoeld in artikel 60bis2, 1 van het Wetboek der Successierechten.\n",
      "\n",
      "===Keywords===\n",
      "familiale 0.432\n",
      "successierechten 0.356\n",
      "gunstregime 0.35\n",
      "driejarige 0.224\n",
      "decujus 0.224\n",
      "aanving 0.224\n",
      "overdracht 0.221\n",
      "gebleven 0.171\n",
      "hoofdstedelijke 0.168\n",
      "brusselse 0.16\n"
     ]
    }
   ],
   "source": [
    "# you only needs to do this once\n",
    "feature_names=cv.get_feature_names()\n",
    "\n",
    "# get the document that we want to extract keywords from\n",
    "doc=docs_test[0]\n",
    "\n",
    "#generate tf-idf for the given document\n",
    "tf_idf_vector=tfidf_transformer.transform(cv.transform([doc]))\n",
    "\n",
    "#sort the tf-idf vectors by descending order of scores\n",
    "sorted_items=sort_coo(tf_idf_vector.tocoo())\n",
    "\n",
    "#extract only the top n; n here is 10\n",
    "keywords=extract_topn_from_vector(feature_names,sorted_items,10)\n",
    "\n",
    "# now print the results\n",
    "print(\"\\n=====Title=====\")\n",
    "print(docs_title[0])\n",
    "print(\"\\n=====Body=====\")\n",
    "print(docs_test[0])\n",
    "print(\"\\n=====Summary=====\")\n",
    "print(docs_summery[0])\n",
    "print(\"\\n===Keywords===\")\n",
    "for k in keywords:\n",
    "    print(k,keywords[k])"
   ]
  },
  {
   "cell_type": "code",
   "execution_count": 31,
   "id": "d78310a1",
   "metadata": {},
   "outputs": [],
   "source": [
    "# put the common code into several methods\n",
    "def get_keywords(idx):\n",
    "\n",
    "    #generate tf-idf for the given document\n",
    "    tf_idf_vector=tfidf_transformer.transform(cv.transform([docs_test[idx]]))\n",
    "\n",
    "    #sort the tf-idf vectors by descending order of scores\n",
    "    sorted_items=sort_coo(tf_idf_vector.tocoo())\n",
    "\n",
    "    #extract only the top n; n here is 10\n",
    "    keywords=extract_topn_from_vector(feature_names,sorted_items,10)\n",
    "    \n",
    "    return keywords\n",
    "\n",
    "def print_results(idx,keywords):\n",
    "    # now print the results\n",
    "    print(\"\\n=====Title=====\")\n",
    "    print(docs_title[idx])\n",
    "    print(\"\\n=====Body=====\")\n",
    "    print(docs_test[idx])\n",
    "    print(\"\\n=====Summary=====\")\n",
    "    print(docs_summery[idx])\n",
    "    print(\"\\n===Keywords===\")\n",
    "    for k in keywords:\n",
    "        print(k,keywords[k])"
   ]
  },
  {
   "cell_type": "code",
   "execution_count": 24,
   "id": "b98ab4a8",
   "metadata": {},
   "outputs": [
    {
     "name": "stdout",
     "output_type": "stream",
     "text": [
      "\n",
      "=====Title=====\n",
      "SERVICE PUBLIC FEDERAL INTERIEUR\n",
      "5 JUIN 2020. - Arrêté ministériel modifiant l'arrêté ministériel du 23 mars portant des mesures d'urgence pour limiter la propagation du coronavirus COVID-19. - Errata, p. 41980.\n",
      "\n",
      "=====Body=====\n",
      "nl fr einde eerste woord laatste woord publicatie numac federale overheidsdienst binnenlandse zaken juni ministerieel besluit houdende wijziging van het ministerieel besluit van maart houdende dringende maatregelen om de verspreiding van het coronavirus covid te beperken errata in het belgisch staatsblad nr van juni vierde editie bladzijde moeten de woorden wordt een artikel ter toegevoegd in artikel al vervangen worden door wordt een artikel quater toegevoegd op bladzijde wordt in artikel het woord zijn na de woorden zijn de maatregelen voorzien in dit besluit geschrapt in de nederlandstalige tekst begin eerste woord laatste woord publicatie numac \n",
      "\n",
      "=====Summary=====\n",
      "Het ministerie van Binnenlandse Zaken en Buitenlandse Zaken heeft een wijziging aangebracht in het ministerieel besluit van 23 maart 2020 houdende dringende maatregelen om de verspreiding van het coronavirus COVID-19 te beperken.\n",
      "\n",
      "===Keywords===\n",
      "bladzijde 0.476\n",
      "toegevoegd 0.356\n",
      "errata 0.318\n",
      "nederlandstalige 0.267\n",
      "woorden 0.266\n",
      "geschrapt 0.241\n",
      "editie 0.231\n",
      "quater 0.197\n",
      "binnenlandse 0.185\n",
      "maatregelen 0.167\n"
     ]
    }
   ],
   "source": [
    "idx=120\n",
    "keywords=get_keywords(idx)\n",
    "print_results(idx,keywords)"
   ]
  },
  {
   "cell_type": "code",
   "execution_count": 32,
   "id": "d1dc4fc6",
   "metadata": {},
   "outputs": [
    {
     "data": {
      "text/html": [
       "<div>\n",
       "<style scoped>\n",
       "    .dataframe tbody tr th:only-of-type {\n",
       "        vertical-align: middle;\n",
       "    }\n",
       "\n",
       "    .dataframe tbody tr th {\n",
       "        vertical-align: top;\n",
       "    }\n",
       "\n",
       "    .dataframe thead th {\n",
       "        text-align: right;\n",
       "    }\n",
       "</style>\n",
       "<table border=\"1\" class=\"dataframe\">\n",
       "  <thead>\n",
       "    <tr style=\"text-align: right;\">\n",
       "      <th></th>\n",
       "      <th>doc</th>\n",
       "      <th>keywords</th>\n",
       "      <th>summary</th>\n",
       "    </tr>\n",
       "  </thead>\n",
       "  <tbody>\n",
       "    <tr>\n",
       "      <th>0</th>\n",
       "      <td>nl fr belgiëlex be kruispuntbank wetgeving raa...</td>\n",
       "      <td>{'familiale': 0.432, 'successierechten': 0.356...</td>\n",
       "      <td>Demissionair minister van Financiën, belast me...</td>\n",
       "    </tr>\n",
       "    <tr>\n",
       "      <th>1</th>\n",
       "      <td>nl fr einde eerste woord laatste woord publica...</td>\n",
       "      <td>{'onderwijs': 0.377, 'wetenschappen': 0.348, '...</td>\n",
       "      <td>De Franse Gemeenschap en de Executieve van de ...</td>\n",
       "    </tr>\n",
       "    <tr>\n",
       "      <th>2</th>\n",
       "      <td>nl fr belgiëlex be kruispuntbank wetgeving raa...</td>\n",
       "      <td>{'wib': 0.425, 'kb': 0.419, 'groepsbijdrage': ...</td>\n",
       "      <td>De ministers van Financiën en de staatssecreta...</td>\n",
       "    </tr>\n",
       "    <tr>\n",
       "      <th>3</th>\n",
       "      <td>nl fr belgiëlex be kruispuntbank wetgeving raa...</td>\n",
       "      <td>{'quater': 0.512, 'aanduiding': 0.417, 'gedele...</td>\n",
       "      <td>Het ministerie van Financiën heeft het ministe...</td>\n",
       "    </tr>\n",
       "    <tr>\n",
       "      <th>4</th>\n",
       "      <td>nl fr einde eerste woord laatste woord publica...</td>\n",
       "      <td>{'vennootschap': 0.36, 'startende': 0.345, 'aa...</td>\n",
       "      <td>NaN</td>\n",
       "    </tr>\n",
       "    <tr>\n",
       "      <th>...</th>\n",
       "      <td>...</td>\n",
       "      <td>...</td>\n",
       "      <td>...</td>\n",
       "    </tr>\n",
       "    <tr>\n",
       "      <th>656</th>\n",
       "      <td>nl fr belgiëlex be kruispuntbank wetgeving raa...</td>\n",
       "      <td>{'duitsland': 0.559, 'akkoord': 0.484, 'autori...</td>\n",
       "      <td>Het Akkoord tussen de bevoegde autoriteiten va...</td>\n",
       "    </tr>\n",
       "    <tr>\n",
       "      <th>657</th>\n",
       "      <td>nl fr belgiëlex be kruispuntbank wetgeving raa...</td>\n",
       "      <td>{'eu': 0.348, 'crowdfundingdienstverleners': 0...</td>\n",
       "      <td>De Grondwet regelt een aangelegenheid als bedo...</td>\n",
       "    </tr>\n",
       "    <tr>\n",
       "      <th>658</th>\n",
       "      <td>nl fr belgiëlex be kruispuntbank wetgeving raa...</td>\n",
       "      <td>{'werkloosheid': 0.409, 'tijdelijke': 0.237, '...</td>\n",
       "      <td>Het koninklijk besluit tot verlenging van de m...</td>\n",
       "    </tr>\n",
       "    <tr>\n",
       "      <th>659</th>\n",
       "      <td>nl</td>\n",
       "      <td>{'verzekering': 0.403, 'geneeskundige': 0.336,...</td>\n",
       "      <td>Het Koninklijk Huis van Afgevaardigden heeft e...</td>\n",
       "    </tr>\n",
       "    <tr>\n",
       "      <th>660</th>\n",
       "      <td>nl fr belgiëlex be kruispuntbank wetgeving raa...</td>\n",
       "      <td>{}</td>\n",
       "      <td>Het Devon,АНЫНАНЫНАНЫНАНЫНАНЫНАНЫНАНЫНАНЫНАНЫН...</td>\n",
       "    </tr>\n",
       "  </tbody>\n",
       "</table>\n",
       "<p>661 rows × 3 columns</p>\n",
       "</div>"
      ],
      "text/plain": [
       "                                                   doc  \\\n",
       "0    nl fr belgiëlex be kruispuntbank wetgeving raa...   \n",
       "1    nl fr einde eerste woord laatste woord publica...   \n",
       "2    nl fr belgiëlex be kruispuntbank wetgeving raa...   \n",
       "3    nl fr belgiëlex be kruispuntbank wetgeving raa...   \n",
       "4    nl fr einde eerste woord laatste woord publica...   \n",
       "..                                                 ...   \n",
       "656  nl fr belgiëlex be kruispuntbank wetgeving raa...   \n",
       "657  nl fr belgiëlex be kruispuntbank wetgeving raa...   \n",
       "658  nl fr belgiëlex be kruispuntbank wetgeving raa...   \n",
       "659                                                 nl   \n",
       "660  nl fr belgiëlex be kruispuntbank wetgeving raa...   \n",
       "\n",
       "                                              keywords  \\\n",
       "0    {'familiale': 0.432, 'successierechten': 0.356...   \n",
       "1    {'onderwijs': 0.377, 'wetenschappen': 0.348, '...   \n",
       "2    {'wib': 0.425, 'kb': 0.419, 'groepsbijdrage': ...   \n",
       "3    {'quater': 0.512, 'aanduiding': 0.417, 'gedele...   \n",
       "4    {'vennootschap': 0.36, 'startende': 0.345, 'aa...   \n",
       "..                                                 ...   \n",
       "656  {'duitsland': 0.559, 'akkoord': 0.484, 'autori...   \n",
       "657  {'eu': 0.348, 'crowdfundingdienstverleners': 0...   \n",
       "658  {'werkloosheid': 0.409, 'tijdelijke': 0.237, '...   \n",
       "659  {'verzekering': 0.403, 'geneeskundige': 0.336,...   \n",
       "660                                                 {}   \n",
       "\n",
       "                                               summary  \n",
       "0    Demissionair minister van Financiën, belast me...  \n",
       "1    De Franse Gemeenschap en de Executieve van de ...  \n",
       "2    De ministers van Financiën en de staatssecreta...  \n",
       "3    Het ministerie van Financiën heeft het ministe...  \n",
       "4                                                  NaN  \n",
       "..                                                 ...  \n",
       "656  Het Akkoord tussen de bevoegde autoriteiten va...  \n",
       "657  De Grondwet regelt een aangelegenheid als bedo...  \n",
       "658  Het koninklijk besluit tot verlenging van de m...  \n",
       "659  Het Koninklijk Huis van Afgevaardigden heeft e...  \n",
       "660  Het Devon,АНЫНАНЫНАНЫНАНЫНАНЫНАНЫНАНЫНАНЫНАНЫН...  \n",
       "\n",
       "[661 rows x 3 columns]"
      ]
     },
     "execution_count": 32,
     "metadata": {},
     "output_type": "execute_result"
    }
   ],
   "source": [
    "#generate tf-idf for all documents in your list. docs_test has 500 documents\n",
    "tf_idf_vector=tfidf_transformer.transform(cv.transform(docs_test))\n",
    "\n",
    "results=[]\n",
    "for i in range(tf_idf_vector.shape[0]):\n",
    "    \n",
    "    # get vector for a single document\n",
    "    curr_vector=tf_idf_vector[i]\n",
    "    \n",
    "    #sort the tf-idf vector by descending order of scores\n",
    "    sorted_items=sort_coo(curr_vector.tocoo())\n",
    "\n",
    "    #extract only the top n; n here is 10\n",
    "    keywords=extract_topn_from_vector(feature_names,sorted_items,10)\n",
    "    \n",
    "    \n",
    "    results.append(list(keywords.keys()))\n",
    "\n",
    "df=pd.DataFrame(zip(docs,results, docs_summery),columns=['doc','keywords', \"summary\"])\n",
    "df"
   ]
  },
  {
   "cell_type": "code",
   "execution_count": null,
   "id": "a3a76959",
   "metadata": {},
   "outputs": [],
   "source": []
  }
 ],
 "metadata": {
  "kernelspec": {
   "display_name": "Python 3",
   "language": "python",
   "name": "python3"
  },
  "language_info": {
   "codemirror_mode": {
    "name": "ipython",
    "version": 3
   },
   "file_extension": ".py",
   "mimetype": "text/x-python",
   "name": "python",
   "nbconvert_exporter": "python",
   "pygments_lexer": "ipython3",
   "version": "3.8.8"
  }
 },
 "nbformat": 4,
 "nbformat_minor": 5
}
