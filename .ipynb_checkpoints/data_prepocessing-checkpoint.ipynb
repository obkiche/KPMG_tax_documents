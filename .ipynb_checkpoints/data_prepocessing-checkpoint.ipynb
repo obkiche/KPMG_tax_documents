{
 "cells": [
  {
   "cell_type": "code",
   "execution_count": 127,
   "id": "8f79a89d",
   "metadata": {},
   "outputs": [],
   "source": [
    "\n",
    "import pandas as pd\n",
    "import numpy as np\n",
    "import string, textblob, re\n",
    "import pickle\n",
    "import nltk \n",
    "\n",
    "from nltk.tokenize import word_tokenize\n",
    "from nltk.corpus import stopwords\n",
    "from nltk.stem import WordNetLemmatizer\n",
    "from unidecode import unidecode\n",
    "from sklearn import model_selection, preprocessing, linear_model, naive_bayes, metrics, svm, decomposition, ensemble\n",
    "from sklearn.feature_extraction.text import TfidfVectorizer, CountVectorizer\n",
    "from keras import layers, models, optimizers\n",
    "from keras.preprocessing import text, sequence\n",
    "import matplotlib.pyplot as plt"
   ]
  },
  {
   "cell_type": "code",
   "execution_count": 128,
   "id": "2592e781",
   "metadata": {},
   "outputs": [],
   "source": [
    "\n",
    "import chardet\n",
    "import pandas as pd\n",
    "\n",
    "with open('./data/out_Tax.csv', 'rb') as f:\n",
    "    result = chardet.detect(f.read())  # or readline if the file is large\n",
    "\n",
    "\n",
    "df = pd.read_csv('./data/out_Tax.csv', encoding=result['encoding'])"
   ]
  },
  {
   "cell_type": "code",
   "execution_count": 129,
   "id": "904cc06e",
   "metadata": {},
   "outputs": [
    {
     "data": {
      "text/html": [
       "<div>\n",
       "<style scoped>\n",
       "    .dataframe tbody tr th:only-of-type {\n",
       "        vertical-align: middle;\n",
       "    }\n",
       "\n",
       "    .dataframe tbody tr th {\n",
       "        vertical-align: top;\n",
       "    }\n",
       "\n",
       "    .dataframe thead th {\n",
       "        text-align: right;\n",
       "    }\n",
       "</style>\n",
       "<table border=\"1\" class=\"dataframe\">\n",
       "  <thead>\n",
       "    <tr style=\"text-align: right;\">\n",
       "      <th></th>\n",
       "      <th>Date</th>\n",
       "      <th>Title</th>\n",
       "      <th>Numac</th>\n",
       "      <th>Link FR</th>\n",
       "      <th>Link NL</th>\n",
       "      <th>Text</th>\n",
       "    </tr>\n",
       "  </thead>\n",
       "  <tbody>\n",
       "    <tr>\n",
       "      <th>0</th>\n",
       "      <td>1/14/2020</td>\n",
       "      <td>REGION DE BRUXELLES-CAPITALE\\nREGION DE BRUXEL...</td>\n",
       "      <td>2020010053</td>\n",
       "      <td>http://www.ejustice.just.fgov.be/cgi/article.p...</td>\n",
       "      <td>http://www.ejustice.just.fgov.be/cgi/article_b...</td>\n",
       "      <td>NL FR\\nbelgiëlex.be   -  Kruispuntbank Wetgevi...</td>\n",
       "    </tr>\n",
       "    <tr>\n",
       "      <th>1</th>\n",
       "      <td>1/16/2020</td>\n",
       "      <td>SERVICE PUBLIC FEDERAL INTERIEUR\\n10 DECEMBRE ...</td>\n",
       "      <td>2020010044</td>\n",
       "      <td>http://www.ejustice.just.fgov.be/cgi/article.p...</td>\n",
       "      <td>http://www.ejustice.just.fgov.be/cgi/article_b...</td>\n",
       "      <td>NL FR DE\\nELI - Navigatie systeem via een Euro...</td>\n",
       "    </tr>\n",
       "    <tr>\n",
       "      <th>2</th>\n",
       "      <td>1/16/2020</td>\n",
       "      <td>SERVICE PUBLIC FEDERAL FINANCES\\n7 DECEMBRE 20...</td>\n",
       "      <td>2020040052</td>\n",
       "      <td>http://www.ejustice.just.fgov.be/cgi/article.p...</td>\n",
       "      <td>http://www.ejustice.just.fgov.be/cgi/article_b...</td>\n",
       "      <td>NL FR DE\\nELI - Navigatie systeem via een Euro...</td>\n",
       "    </tr>\n",
       "    <tr>\n",
       "      <th>3</th>\n",
       "      <td>1/24/2020</td>\n",
       "      <td>MINISTERE DE LA COMMUNAUTE FRANCAISE\\n20 DECEM...</td>\n",
       "      <td>2020010214</td>\n",
       "      <td>http://www.ejustice.just.fgov.be/cgi/article.p...</td>\n",
       "      <td>http://www.ejustice.just.fgov.be/cgi/article_b...</td>\n",
       "      <td>NL FR\\n\\neinde eerste woord laatste woord\\nPub...</td>\n",
       "    </tr>\n",
       "    <tr>\n",
       "      <th>4</th>\n",
       "      <td>1/28/2020</td>\n",
       "      <td>SERVICE PUBLIC FEDERAL FINANCES\\n20 JANVIER 20...</td>\n",
       "      <td>2020040138</td>\n",
       "      <td>http://www.ejustice.just.fgov.be/cgi/article.p...</td>\n",
       "      <td>http://www.ejustice.just.fgov.be/cgi/article_b...</td>\n",
       "      <td>NL FR\\nbelgiëlex.be   -  Kruispuntbank Wetgevi...</td>\n",
       "    </tr>\n",
       "  </tbody>\n",
       "</table>\n",
       "</div>"
      ],
      "text/plain": [
       "        Date                                              Title       Numac  \\\n",
       "0  1/14/2020  REGION DE BRUXELLES-CAPITALE\\nREGION DE BRUXEL...  2020010053   \n",
       "1  1/16/2020  SERVICE PUBLIC FEDERAL INTERIEUR\\n10 DECEMBRE ...  2020010044   \n",
       "2  1/16/2020  SERVICE PUBLIC FEDERAL FINANCES\\n7 DECEMBRE 20...  2020040052   \n",
       "3  1/24/2020  MINISTERE DE LA COMMUNAUTE FRANCAISE\\n20 DECEM...  2020010214   \n",
       "4  1/28/2020  SERVICE PUBLIC FEDERAL FINANCES\\n20 JANVIER 20...  2020040138   \n",
       "\n",
       "                                             Link FR  \\\n",
       "0  http://www.ejustice.just.fgov.be/cgi/article.p...   \n",
       "1  http://www.ejustice.just.fgov.be/cgi/article.p...   \n",
       "2  http://www.ejustice.just.fgov.be/cgi/article.p...   \n",
       "3  http://www.ejustice.just.fgov.be/cgi/article.p...   \n",
       "4  http://www.ejustice.just.fgov.be/cgi/article.p...   \n",
       "\n",
       "                                             Link NL  \\\n",
       "0  http://www.ejustice.just.fgov.be/cgi/article_b...   \n",
       "1  http://www.ejustice.just.fgov.be/cgi/article_b...   \n",
       "2  http://www.ejustice.just.fgov.be/cgi/article_b...   \n",
       "3  http://www.ejustice.just.fgov.be/cgi/article_b...   \n",
       "4  http://www.ejustice.just.fgov.be/cgi/article_b...   \n",
       "\n",
       "                                                Text  \n",
       "0  NL FR\\nbelgiëlex.be   -  Kruispuntbank Wetgevi...  \n",
       "1  NL FR DE\\nELI - Navigatie systeem via een Euro...  \n",
       "2  NL FR DE\\nELI - Navigatie systeem via een Euro...  \n",
       "3  NL FR\\n\\neinde eerste woord laatste woord\\nPub...  \n",
       "4  NL FR\\nbelgiëlex.be   -  Kruispuntbank Wetgevi...  "
      ]
     },
     "execution_count": 129,
     "metadata": {},
     "output_type": "execute_result"
    }
   ],
   "source": [
    "df.head()"
   ]
  },
  {
   "cell_type": "code",
   "execution_count": 130,
   "id": "5b9ff3c6",
   "metadata": {},
   "outputs": [
    {
     "data": {
      "text/plain": [
       "'NL FR\\nbelgiëlex.be   -  Kruispuntbank Wetgeving\\nRaad van State\\nELI - Navigatie systeem via een Europese identificatiecode voor wetgeving\\nhttp://www.ejustice.just.fgov.be/eli/besluit/2020/01/08/2020010053/staatsblad\\neinde eerste woord laatste woord\\nPublicatie : 2020-01-14\\nNumac : 2020010053\\nBRUSSELS HOOFDSTEDELIJK GEWEST\\n8 JANUARI 2020. - Ministerieel besluit tot vaststelling van de modellen van formulier bedoeld in artikel 8, § 1 van het besluit van de Brusselse Hoofdstedelijke Regering van 19 januari 2017 tot vaststelling van de modaliteiten van het gunstregime toepasselijk op de successierechten bij overdracht van familiale ondernemingen en familiale vennootschappen\\n\\n\\nDe Minister van de Brusselse Hoofdstedelijke Regering, belast met Financiën en Begroting,\\nGelet op het Wetboek der Successierechten, artikel 60bis/2, § 1, ingevoegd door de ordonnantie van 12 december 2016 houdende het tweede deel van de fiscale hervorming;\\nGelet op het besluit van de Brusselse Hoofdstedelijke Regering van 19 januari 2017 tot vaststelling van de modaliteiten van het gunstregime toepasselijk op de successierechten bij overdracht van familiale ondernemingen en familiale vennootschappen, artikel 8;\\nGelet op de gelijkekansentest uitgevoerd in toepassing van artikel 2 van de ordonnantie van 4 oktober 2018 tot invoering van de gelijkekansentest;\\nOverwegende dat artikel 8 van bovengenoemd besluit stelt dat de Minister van de Brusselse Hoofdstedelijke Regering, belast met Financiën en Begroting, bevoegd is om het formulier dat bedoeld is om na te gaan of de voorwaarden voor het behoud van de het fiscale gunstregime, dat werd bekomen in het kader van de overdracht van een familiale onderneming of een familiale vennootschap, vervuld zijn gebleven tot het einde van de driejarige periode die aanving bij het overlijden van de decujus, zoals bedoeld in artikel 60bis/2, § 1, van het Wetboek der Successierechten;\\nOverwegende dat dit ministerieel besluit geen reglementaire voorschriften bevat in de zin van artikel 3, § 1, eerste lid, van de gecoördineerde wetten van de Raad van State van 12 januari 1973, is het niet onderworpen aan het advies van de Raad van State, afdeling Wetgeving,\\nBesluit :\\nArtikel 1. Het formulier dat bedoeld is om na te gaan of de voorwaarden voor het behoud van de het fiscale gunstregime, dat werd bekomen in het kader van de overdracht van een familiale onderneming, vervuld zijn gebleven tot het einde van de driejarige periode die aanving bij het overlijden van de decujus, zoals bedoeld in artikel 60bis/2, § 1 van het Wetboek der Successierechten, is hernomen in bijlage 1 van dit besluit.\\nArt. 2. Het formulier dat bedoeld is om na te gaan of de voorwaarden voor het behoud van het fiscale gunstregime, dat werd bekomen in het kader van het overdracht van een familiale vennootschap, vervuld zijn gebleven tot het einde van de driejarige periode die aanving bij het overlijden van de decujus, zoals bedoeld in artikel 60bis/2, § 1 van het Wetboek der Successierechten, is hernomen in bijlage 2 bij dit besluit.\\nArt. 3. Dit besluit heeft uitwerking met ingang van 1 januari 2020.\\nBrussel, 8 januari 2020.\\nDe Minister van de Brusselse Hoofdstedelijke Regering, belast met Financiën, Begroting, Openbaar ambt en de Promotie van Meertaligheid,\\nS. GATZ\\n\\nVoor de raadpleging van de tabel, zie beeld\\n\\n\\nbegin eerste woord laatste woord\\nPublicatie : 2020-01-14\\nNumac : 2020010053'"
      ]
     },
     "execution_count": 130,
     "metadata": {},
     "output_type": "execute_result"
    }
   ],
   "source": [
    "data_text = df[['Text']]\n",
    "df['Text'][0]"
   ]
  },
  {
   "cell_type": "code",
   "execution_count": null,
   "id": "227127ee",
   "metadata": {},
   "outputs": [],
   "source": []
  },
  {
   "cell_type": "code",
   "execution_count": 131,
   "id": "e21a1de5",
   "metadata": {},
   "outputs": [],
   "source": [
    "def remove_accented_chars(text):\n",
    "    text = unidecode(text)\n",
    "    return text\n",
    "\n",
    "def remove_numbers(text): \n",
    "    result = re.sub(r'\\d+', '', text) \n",
    "    return result\n",
    "\n",
    "def remove_slash_with_space(text): \n",
    "    return text.replace('\\\\', \" \")\n",
    "\n",
    "def remove_punctuation(text): \n",
    "    translator = str.maketrans('', '', string.punctuation) \n",
    "    return text.translate(translator) \n",
    "\n",
    "def text_lowercase(text): \n",
    "    return text.lower()  \n",
    "\n",
    "def remove_whitespace(text): \n",
    "    return  \" \".join(text.split()) \n",
    "\n",
    "def remove_stopwords(text):\n",
    "    nltk.download('stopwords')\n",
    "    stop_words = stopwords.words('dutch')\n",
    "    nstopword = ['bis', 'NL', 'FR']\n",
    "    stop_words.extend(nstopword)\n",
    "    word_tokens = word_tokenize(text)\n",
    "    filtered_text = [word for word in word_tokens if word not in stop_words] \n",
    "    return ' '.join(filtered_text)\n",
    "\n",
    "def stem_words(text): \n",
    "    stemmer = PorterStemmer() \n",
    "    word_tokens = word_tokenize(text) \n",
    "    stems = [stemmer.stem(word) for word in word_tokens] \n",
    "    return ' '.join(stems)\n",
    "\n",
    "def lemmatize_words(text): \n",
    "    lemmatizer = WordNetLemmatizer() \n",
    "    word_tokens = word_tokenize(text) \n",
    "    # provide context i.e. part-of-speech \n",
    "    lemmas = [lemmatizer.lemmatize(word, pos ='v') for word in word_tokens] \n",
    "    return ' '.join(lemmas) \n"
   ]
  },
  {
   "cell_type": "code",
   "execution_count": 136,
   "id": "281810ee",
   "metadata": {},
   "outputs": [
    {
     "data": {
      "text/plain": [
       "'belgielexbe kruispuntbank wetgeving raad state eli navigatie systeem via europese identificatiecode wetgeving http wwwejusticejustfgovbeelibesluitstaatsblad einde eerste woord laatste woord publicatie numac brussels hoofdstedelijk gewest januari ministerieel besluit vaststelling modellen formulier bedoeld artikel ss besluit brusselse hoofdstedelijke regering januari vaststelling modaliteiten gunstregime toepasselijk successierechten overdracht familiale ondernemingen familiale vennootschappen de minister brusselse hoofdstedelijke regering belast financien begroting gelet wetboek successierechten artikel bis ss ingevoegd ordonnantie december houdende tweede deel fiscale hervorming gelet besluit brusselse hoofdstedelijke regering januari vaststelling modaliteiten gunstregime toepasselijk successierechten overdracht familiale ondernemingen familiale vennootschappen artikel gelet gelijkekansentest uitgevoerd toepassing artikel ordonnantie oktober invoering gelijkekansentest overwegende artikel bovengenoemd besluit stelt minister brusselse hoofdstedelijke regering belast financien begroting bevoegd formulier bedoeld gaan voorwaarden behoud fiscale gunstregime bekomen kader overdracht familiale onderneming familiale vennootschap vervuld gebleven einde driejarige periode aanving overlijden decujus zoals bedoeld artikel bis ss wetboek successierechten overwegende ministerieel besluit reglementaire voorschriften bevat zin artikel ss eerste lid gecoordineerde wetten raad state januari onderworpen advies raad state afdeling wetgeving besluit artikel het formulier bedoeld gaan voorwaarden behoud fiscale gunstregime bekomen kader overdracht familiale onderneming vervuld gebleven einde driejarige periode aanving overlijden decujus zoals bedoeld artikel bis ss wetboek successierechten hernomen bijlage besluit art het formulier bedoeld gaan voorwaarden behoud fiscale gunstregime bekomen kader overdracht familiale vennootschap vervuld gebleven einde driejarige periode aanving overlijden decujus zoals bedoeld artikel bis ss wetboek successierechten hernomen bijlage besluit art dit besluit uitwerking ingang januari brussel januari de minister brusselse hoofdstedelijke regering belast financien begroting openbaar ambt promotie meertaligheid s gatz voor raadpleging tabel zie beeld begin eerste woord laatste woord publicatie numac'"
      ]
     },
     "execution_count": 136,
     "metadata": {},
     "output_type": "execute_result"
    }
   ],
   "source": [
    "# Perform preprocessing\n",
    "\n",
    "def perform_preprocessing(text):\n",
    "    \n",
    "    text = remove_accented_chars(text)\n",
    "    text = remove_numbers(text)\n",
    "    text = remove_stopwords(text)\n",
    "    text = text_lowercase(text)\n",
    "    text = remove_slash_with_space(text)\n",
    "    text = remove_punctuation(text)\n",
    "    # text = stem_words(text)\n",
    "    text = remove_whitespace(text)\n",
    "    text = lemmatize_words(text)\n",
    "    return text\n",
    "\n",
    "text_sample= df['Text'][0]\n",
    "text_sample"
   ]
  },
  {
   "cell_type": "code",
   "execution_count": 137,
   "id": "9e891f6e",
   "metadata": {},
   "outputs": [
    {
     "name": "stderr",
     "output_type": "stream",
     "text": [
      "[nltk_data] Downloading package stopwords to\n",
      "[nltk_data]     C:\\Users\\Malika\\AppData\\Roaming\\nltk_data...\n",
      "[nltk_data]   Package stopwords is already up-to-date!\n"
     ]
    }
   ],
   "source": [
    "df['Text'] =  perform_preprocessing(text_sample)\n"
   ]
  },
  {
   "cell_type": "code",
   "execution_count": 138,
   "id": "efcef129",
   "metadata": {},
   "outputs": [
    {
     "data": {
      "text/plain": [
       "'belgielexbe kruispuntbank wetgeving raad state eli navigatie systeem via europese identificatiecode wetgeving http wwwejusticejustfgovbeelibesluitstaatsblad einde eerste woord laatste woord publicatie numac brussels hoofdstedelijk gewest januari ministerieel besluit vaststelling modellen formulier bedoeld artikel ss besluit brusselse hoofdstedelijke regering januari vaststelling modaliteiten gunstregime toepasselijk successierechten overdracht familiale ondernemingen familiale vennootschappen minister brusselse hoofdstedelijke regering belast financien begroting gelet wetboek successierechten artikel ss ingevoegd ordonnantie december houdende tweede deel fiscale hervorming gelet besluit brusselse hoofdstedelijke regering januari vaststelling modaliteiten gunstregime toepasselijk successierechten overdracht familiale ondernemingen familiale vennootschappen artikel gelet gelijkekansentest uitgevoerd toepassing artikel ordonnantie oktober invoering gelijkekansentest overwegende artikel bovengenoemd besluit stelt minister brusselse hoofdstedelijke regering belast financien begroting bevoegd formulier bedoeld gaan voorwaarden behoud fiscale gunstregime bekomen kader overdracht familiale onderneming familiale vennootschap vervuld gebleven einde driejarige periode aanving overlijden decujus zoals bedoeld artikel ss wetboek successierechten overwegende ministerieel besluit reglementaire voorschriften bevat zin artikel ss eerste lid gecoordineerde wetten raad state januari onderworpen advies raad state afdeling wetgeving besluit artikel formulier bedoeld gaan voorwaarden behoud fiscale gunstregime bekomen kader overdracht familiale onderneming vervuld gebleven einde driejarige periode aanving overlijden decujus zoals bedoeld artikel ss wetboek successierechten hernomen bijlage besluit art formulier bedoeld gaan voorwaarden behoud fiscale gunstregime bekomen kader overdracht familiale vennootschap vervuld gebleven einde driejarige periode aanving overlijden decujus zoals bedoeld artikel ss wetboek successierechten hernomen bijlage besluit art besluit uitwerking ingang januari brussel januari minister brusselse hoofdstedelijke regering belast financien begroting openbaar ambt promotie meertaligheid s gatz raadpleging tabel zie beeld begin eerste woord laatste woord publicatie numac'"
      ]
     },
     "execution_count": 138,
     "metadata": {},
     "output_type": "execute_result"
    }
   ],
   "source": [
    "df['Text'][0]"
   ]
  },
  {
   "cell_type": "code",
   "execution_count": 139,
   "id": "24a1ea93",
   "metadata": {},
   "outputs": [
    {
     "name": "stdout",
     "output_type": "stream",
     "text": [
      "['de', 'en', 'van', 'ik', 'te', 'dat', 'die', 'in', 'een', 'hij', 'het', 'niet', 'zijn', 'is', 'was', 'op', 'aan', 'met', 'als', 'voor', 'had', 'er', 'maar', 'om', 'hem', 'dan', 'zou', 'of', 'wat', 'mijn', 'men', 'dit', 'zo', 'door', 'over', 'ze', 'zich', 'bij', 'ook', 'tot', 'je', 'mij', 'uit', 'der', 'daar', 'haar', 'naar', 'heb', 'hoe', 'heeft', 'hebben', 'deze', 'u', 'want', 'nog', 'zal', 'me', 'zij', 'nu', 'ge', 'geen', 'omdat', 'iets', 'worden', 'toch', 'al', 'waren', 'veel', 'meer', 'doen', 'toen', 'moet', 'ben', 'zonder', 'kan', 'hun', 'dus', 'alles', 'onder', 'ja', 'eens', 'hier', 'wie', 'werd', 'altijd', 'doch', 'wordt', 'wezen', 'kunnen', 'ons', 'zelf', 'tegen', 'na', 'reeds', 'wil', 'kon', 'niets', 'uw', 'iemand', 'geweest', 'andere']\n",
      "['de', 'en', 'van', 'ik', 'te', 'dat', 'die', 'in', 'een', 'hij', 'het', 'niet', 'zijn', 'is', 'was', 'op', 'aan', 'met', 'als', 'voor', 'had', 'er', 'maar', 'om', 'hem', 'dan', 'zou', 'of', 'wat', 'mijn', 'men', 'dit', 'zo', 'door', 'over', 'ze', 'zich', 'bij', 'ook', 'tot', 'je', 'mij', 'uit', 'der', 'daar', 'haar', 'naar', 'heb', 'hoe', 'heeft', 'hebben', 'deze', 'u', 'want', 'nog', 'zal', 'me', 'zij', 'nu', 'ge', 'geen', 'omdat', 'iets', 'worden', 'toch', 'al', 'waren', 'veel', 'meer', 'doen', 'toen', 'moet', 'ben', 'zonder', 'kan', 'hun', 'dus', 'alles', 'onder', 'ja', 'eens', 'hier', 'wie', 'werd', 'altijd', 'doch', 'wordt', 'wezen', 'kunnen', 'ons', 'zelf', 'tegen', 'na', 'reeds', 'wil', 'kon', 'niets', 'uw', 'iemand', 'geweest', 'andere', 'bis', 'NL', 'FR']\n",
      "---- ['belgielexbe', 'kruispuntbank', 'wetgeving', 'raad', 'state', 'eli', 'navigatie', 'systeem', 'via', 'europese', 'identificatiecode', 'wetgeving', 'http', 'wwwejusticejustfgovbeelibesluitstaatsblad', 'einde', 'eerste', 'woord', 'laatste', 'woord', 'publicatie', 'numac', 'brussels', 'hoofdstedelijk', 'gewest', 'januari', 'ministerieel', 'besluit', 'vaststelling', 'modellen', 'formulier', 'bedoeld', 'artikel', 'ss', 'besluit', 'brusselse', 'hoofdstedelijke', 'regering', 'januari', 'vaststelling', 'modaliteiten', 'gunstregime', 'toepasselijk', 'successierechten', 'overdracht', 'familiale', 'ondernemingen', 'familiale', 'vennootschappen', 'minister', 'brusselse', 'hoofdstedelijke', 'regering', 'belast', 'financien', 'begroting', 'gelet', 'wetboek', 'successierechten', 'artikel', 'ss', 'ingevoegd', 'ordonnantie', 'december', 'houdende', 'tweede', 'deel', 'fiscale', 'hervorming', 'gelet', 'besluit', 'brusselse', 'hoofdstedelijke', 'regering', 'januari', 'vaststelling', 'modaliteiten', 'gunstregime', 'toepasselijk', 'successierechten', 'overdracht', 'familiale', 'ondernemingen', 'familiale', 'vennootschappen', 'artikel', 'gelet', 'gelijkekansentest', 'uitgevoerd', 'toepassing', 'artikel', 'ordonnantie', 'oktober', 'invoering', 'gelijkekansentest', 'overwegende', 'artikel', 'bovengenoemd', 'besluit', 'stelt', 'minister', 'brusselse', 'hoofdstedelijke', 'regering', 'belast', 'financien', 'begroting', 'bevoegd', 'formulier', 'bedoeld', 'gaan', 'voorwaarden', 'behoud', 'fiscale', 'gunstregime', 'bekomen', 'kader', 'overdracht', 'familiale', 'onderneming', 'familiale', 'vennootschap', 'vervuld', 'gebleven', 'einde', 'driejarige', 'periode', 'aanving', 'overlijden', 'decujus', 'zoals', 'bedoeld', 'artikel', 'ss', 'wetboek', 'successierechten', 'overwegende', 'ministerieel', 'besluit', 'reglementaire', 'voorschriften', 'bevat', 'zin', 'artikel', 'ss', 'eerste', 'lid', 'gecoordineerde', 'wetten', 'raad', 'state', 'januari', 'onderworpen', 'advies', 'raad', 'state', 'afdeling', 'wetgeving', 'besluit', 'artikel', 'formulier', 'bedoeld', 'gaan', 'voorwaarden', 'behoud', 'fiscale', 'gunstregime', 'bekomen', 'kader', 'overdracht', 'familiale', 'onderneming', 'vervuld', 'gebleven', 'einde', 'driejarige', 'periode', 'aanving', 'overlijden', 'decujus', 'zoals', 'bedoeld', 'artikel', 'ss', 'wetboek', 'successierechten', 'hernomen', 'bijlage', 'besluit', 'art', 'formulier', 'bedoeld', 'gaan', 'voorwaarden', 'behoud', 'fiscale', 'gunstregime', 'bekomen', 'kader', 'overdracht', 'familiale', 'vennootschap', 'vervuld', 'gebleven', 'einde', 'driejarige', 'periode', 'aanving', 'overlijden', 'decujus', 'zoals', 'bedoeld', 'artikel', 'ss', 'wetboek', 'successierechten', 'hernomen', 'bijlage', 'besluit', 'art', 'besluit', 'uitwerking', 'ingang', 'januari', 'brussel', 'januari', 'minister', 'brusselse', 'hoofdstedelijke', 'regering', 'belast', 'financien', 'begroting', 'openbaar', 'ambt', 'promotie', 'meertaligheid', 's', 'gatz', 'raadpleging', 'tabel', 'zie', 'beeld', 'begin', 'eerste', 'woord', 'laatste', 'woord', 'publicatie', 'numac']\n",
      "<class 'list'>\n"
     ]
    },
    {
     "name": "stderr",
     "output_type": "stream",
     "text": [
      "[nltk_data] Downloading package stopwords to\n",
      "[nltk_data]     C:\\Users\\Malika\\AppData\\Roaming\\nltk_data...\n",
      "[nltk_data]   Package stopwords is already up-to-date!\n"
     ]
    }
   ],
   "source": [
    "word_tokens = word_tokenize(df['Text']\n",
    "processed_docs = documents['headline_text'].map(preprocess)\n"
   ]
  },
  {
   "cell_type": "code",
   "execution_count": null,
   "id": "f167e8d7",
   "metadata": {},
   "outputs": [],
   "source": []
  },
  {
   "cell_type": "code",
   "execution_count": null,
   "id": "13c0c22b",
   "metadata": {},
   "outputs": [],
   "source": []
  }
 ],
 "metadata": {
  "kernelspec": {
   "display_name": "tf-gpu",
   "language": "python",
   "name": "tf-gpu"
  },
  "language_info": {
   "codemirror_mode": {
    "name": "ipython",
    "version": 3
   },
   "file_extension": ".py",
   "mimetype": "text/x-python",
   "name": "python",
   "nbconvert_exporter": "python",
   "pygments_lexer": "ipython3",
   "version": "3.9.12"
  }
 },
 "nbformat": 4,
 "nbformat_minor": 5
}
