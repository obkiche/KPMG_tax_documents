{
 "cells": [
  {
   "cell_type": "code",
   "execution_count": 5,
   "id": "77a89dcc",
   "metadata": {},
   "outputs": [],
   "source": [
    "import pandas as pd\n",
    "import numpy as np"
   ]
  },
  {
   "cell_type": "code",
   "execution_count": 6,
   "id": "c138928f",
   "metadata": {},
   "outputs": [
    {
     "name": "stdout",
     "output_type": "stream",
     "text": [
      "Warning, you have empty cells in the document, these will be removed. Please fill these in before applying this process \n",
      "These can be found in the following places rows:  [345] columns:  [5]\n",
      "Do you want to continue, yes/no? (Warning, typing yes will remove these rows!\n",
      "Continue? yes/no > yes\n",
      "Warning, you have empty cells in the document, these will be removed. Please fill these in before applying this process \n",
      "These can be found in the following places rows:  [345] columns:  [5]\n",
      "Do you want to continue, yes/no? (Warning, typing yes will remove these rows!\n",
      "Continue? yes/no > yes\n",
      "Warning, you have empty cells in the document, these will be removed. Please fill these in before applying this process \n",
      "These can be found in the following places rows:  [345] columns:  [5]\n",
      "Do you want to continue, yes/no? (Warning, typing yes will remove these rows!\n",
      "Continue? yes/no > no\n",
      "Break\n",
      "haha\n"
     ]
    }
   ],
   "source": [
    "df = pd.read_csv('KPMG Tax Case - Scraped Data.csv')\n",
    "pd.set_option('display.float_format', lambda x: '%.f' % x)\n",
    "\n",
    "# A check for empty cells and a warning for the user to rectify these.\n",
    "\n",
    "while True:\n",
    "    df.isna().sum().any()\n",
    "\n",
    "    print('Warning, you have empty cells in the document, these will be removed. Please fill these in before applying this process ')\n",
    "    print( 'These can be found in the following places rows: ', np.where(pd.isnull(df))[0], 'columns: ',np.where(pd.isnull(df))[1])\n",
    "    print('Do you want to continue, yes/no? (Warning, typing yes will remove these rows!')\n",
    "\n",
    "    cont = input(\"Continue? yes/no > \")\n",
    "\n",
    "    while cont.lower() not in (\"yes\", \"no\"):\n",
    "        cont = input(\"Not a valid answer, continue? yes/no > \")\n",
    "\n",
    "    if cont == \"no\":\n",
    "        print(\"Break\")\n",
    "        break\n",
    "        \n"
   ]
  },
  {
   "cell_type": "code",
   "execution_count": null,
   "id": "06470da5",
   "metadata": {},
   "outputs": [],
   "source": []
  }
 ],
 "metadata": {
  "kernelspec": {
   "display_name": "tf",
   "language": "python",
   "name": "tf"
  },
  "language_info": {
   "codemirror_mode": {
    "name": "ipython",
    "version": 3
   },
   "file_extension": ".py",
   "mimetype": "text/x-python",
   "name": "python",
   "nbconvert_exporter": "python",
   "pygments_lexer": "ipython3",
   "version": "3.9.12"
  }
 },
 "nbformat": 4,
 "nbformat_minor": 5
}
