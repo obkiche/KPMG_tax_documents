{
 "cells": [
  {
   "cell_type": "code",
   "execution_count": 1,
   "id": "d92e48c7",
   "metadata": {},
   "outputs": [
    {
     "name": "stderr",
     "output_type": "stream",
     "text": [
      "C:\\Users\\krist\\anaconda3\\envs\\tf\\lib\\site-packages\\tqdm\\auto.py:22: TqdmWarning: IProgress not found. Please update jupyter and ipywidgets. See https://ipywidgets.readthedocs.io/en/stable/user_install.html\n",
      "  from .autonotebook import tqdm as notebook_tqdm\n"
     ]
    }
   ],
   "source": [
    "import pandas as pd\n",
    "import numpy as np\n",
    "import spacy\n",
    "import gensim\n",
    "from sklearn.decomposition import LatentDirichletAllocation"
   ]
  },
  {
   "cell_type": "code",
   "execution_count": 2,
   "id": "dad3731b",
   "metadata": {},
   "outputs": [
    {
     "data": {
      "text/html": [
       "<div>\n",
       "<style scoped>\n",
       "    .dataframe tbody tr th:only-of-type {\n",
       "        vertical-align: middle;\n",
       "    }\n",
       "\n",
       "    .dataframe tbody tr th {\n",
       "        vertical-align: top;\n",
       "    }\n",
       "\n",
       "    .dataframe thead th {\n",
       "        text-align: right;\n",
       "    }\n",
       "</style>\n",
       "<table border=\"1\" class=\"dataframe\">\n",
       "  <thead>\n",
       "    <tr style=\"text-align: right;\">\n",
       "      <th></th>\n",
       "      <th>Date</th>\n",
       "      <th>Title</th>\n",
       "      <th>Numac</th>\n",
       "      <th>Link FR</th>\n",
       "      <th>Link NL</th>\n",
       "      <th>Text</th>\n",
       "      <th>Cleaned Text</th>\n",
       "      <th>Summary_1</th>\n",
       "      <th>Summary_2</th>\n",
       "    </tr>\n",
       "  </thead>\n",
       "  <tbody>\n",
       "    <tr>\n",
       "      <th>0</th>\n",
       "      <td>1/14/2020</td>\n",
       "      <td>REGION DE BRUXELLES-CAPITALE\\nREGION DE BRUXEL...</td>\n",
       "      <td>2020010053</td>\n",
       "      <td>http://www.ejustice.just.fgov.be/cgi/article.p...</td>\n",
       "      <td>http://www.ejustice.just.fgov.be/cgi/article_b...</td>\n",
       "      <td>NL FR\\nbelgiëlex.be   -  Kruispuntbank Wetgevi...</td>\n",
       "      <td>: 2020010053 BRUSSELS HOOFDSTEDELIJK GEWEST 8...</td>\n",
       "      <td>Demissionair minister van Financiën, belast me...</td>\n",
       "      <td>NaN</td>\n",
       "    </tr>\n",
       "    <tr>\n",
       "      <th>1</th>\n",
       "      <td>1/24/2020</td>\n",
       "      <td>MINISTERE DE LA COMMUNAUTE FRANCAISE\\n20 DECEM...</td>\n",
       "      <td>2020010214</td>\n",
       "      <td>http://www.ejustice.just.fgov.be/cgi/article.p...</td>\n",
       "      <td>http://www.ejustice.just.fgov.be/cgi/article_b...</td>\n",
       "      <td>NL FR\\n\\neinde eerste woord laatste woord\\nPub...</td>\n",
       "      <td>: 2020010214 MINISTERIE VAN DE FRANSE GEMEENS...</td>\n",
       "      <td>De Franse Gemeenschap en de Executieve van de ...</td>\n",
       "      <td>NaN</td>\n",
       "    </tr>\n",
       "    <tr>\n",
       "      <th>2</th>\n",
       "      <td>1/28/2020</td>\n",
       "      <td>SERVICE PUBLIC FEDERAL FINANCES\\n20 JANVIER 20...</td>\n",
       "      <td>2020040138</td>\n",
       "      <td>http://www.ejustice.just.fgov.be/cgi/article.p...</td>\n",
       "      <td>http://www.ejustice.just.fgov.be/cgi/article_b...</td>\n",
       "      <td>NL FR\\nbelgiëlex.be   -  Kruispuntbank Wetgevi...</td>\n",
       "      <td>: 2020040138 FEDERALE OVERHEIDSDIENST FINANCI...</td>\n",
       "      <td>De ministers van Financiën en de staatssecreta...</td>\n",
       "      <td>NaN</td>\n",
       "    </tr>\n",
       "    <tr>\n",
       "      <th>3</th>\n",
       "      <td>1/28/2020</td>\n",
       "      <td>SERVICE PUBLIC FEDERAL FINANCES\\n20 JANVIER 20...</td>\n",
       "      <td>2020020094</td>\n",
       "      <td>http://www.ejustice.just.fgov.be/cgi/article.p...</td>\n",
       "      <td>http://www.ejustice.just.fgov.be/cgi/article_b...</td>\n",
       "      <td>NL FR\\nbelgiëlex.be   -  Kruispuntbank Wetgevi...</td>\n",
       "      <td>: 2020020094 FEDERALE OVERHEIDSDIENST FINANCI...</td>\n",
       "      <td>Het ministerie van Financiën heeft het ministe...</td>\n",
       "      <td>NaN</td>\n",
       "    </tr>\n",
       "    <tr>\n",
       "      <th>4</th>\n",
       "      <td>1/28/2020</td>\n",
       "      <td>SERVICE PUBLIC FEDERAL FINANCES\\nAdministratio...</td>\n",
       "      <td>2020010193</td>\n",
       "      <td>http://www.ejustice.just.fgov.be/cgi/article.p...</td>\n",
       "      <td>http://www.ejustice.just.fgov.be/cgi/article_b...</td>\n",
       "      <td>NL FR\\n\\neinde eerste woord laatste woord\\nPub...</td>\n",
       "      <td>: 2020010193 FEDERALE OVERHEIDSDIENST FINANCI...</td>\n",
       "      <td>NaN</td>\n",
       "      <td>NaN</td>\n",
       "    </tr>\n",
       "  </tbody>\n",
       "</table>\n",
       "</div>"
      ],
      "text/plain": [
       "        Date                                              Title       Numac  \\\n",
       "0  1/14/2020  REGION DE BRUXELLES-CAPITALE\\nREGION DE BRUXEL...  2020010053   \n",
       "1  1/24/2020  MINISTERE DE LA COMMUNAUTE FRANCAISE\\n20 DECEM...  2020010214   \n",
       "2  1/28/2020  SERVICE PUBLIC FEDERAL FINANCES\\n20 JANVIER 20...  2020040138   \n",
       "3  1/28/2020  SERVICE PUBLIC FEDERAL FINANCES\\n20 JANVIER 20...  2020020094   \n",
       "4  1/28/2020  SERVICE PUBLIC FEDERAL FINANCES\\nAdministratio...  2020010193   \n",
       "\n",
       "                                             Link FR  \\\n",
       "0  http://www.ejustice.just.fgov.be/cgi/article.p...   \n",
       "1  http://www.ejustice.just.fgov.be/cgi/article.p...   \n",
       "2  http://www.ejustice.just.fgov.be/cgi/article.p...   \n",
       "3  http://www.ejustice.just.fgov.be/cgi/article.p...   \n",
       "4  http://www.ejustice.just.fgov.be/cgi/article.p...   \n",
       "\n",
       "                                             Link NL  \\\n",
       "0  http://www.ejustice.just.fgov.be/cgi/article_b...   \n",
       "1  http://www.ejustice.just.fgov.be/cgi/article_b...   \n",
       "2  http://www.ejustice.just.fgov.be/cgi/article_b...   \n",
       "3  http://www.ejustice.just.fgov.be/cgi/article_b...   \n",
       "4  http://www.ejustice.just.fgov.be/cgi/article_b...   \n",
       "\n",
       "                                                Text  \\\n",
       "0  NL FR\\nbelgiëlex.be   -  Kruispuntbank Wetgevi...   \n",
       "1  NL FR\\n\\neinde eerste woord laatste woord\\nPub...   \n",
       "2  NL FR\\nbelgiëlex.be   -  Kruispuntbank Wetgevi...   \n",
       "3  NL FR\\nbelgiëlex.be   -  Kruispuntbank Wetgevi...   \n",
       "4  NL FR\\n\\neinde eerste woord laatste woord\\nPub...   \n",
       "\n",
       "                                        Cleaned Text  \\\n",
       "0   : 2020010053 BRUSSELS HOOFDSTEDELIJK GEWEST 8...   \n",
       "1   : 2020010214 MINISTERIE VAN DE FRANSE GEMEENS...   \n",
       "2   : 2020040138 FEDERALE OVERHEIDSDIENST FINANCI...   \n",
       "3   : 2020020094 FEDERALE OVERHEIDSDIENST FINANCI...   \n",
       "4   : 2020010193 FEDERALE OVERHEIDSDIENST FINANCI...   \n",
       "\n",
       "                                           Summary_1  Summary_2  \n",
       "0  Demissionair minister van Financiën, belast me...        NaN  \n",
       "1  De Franse Gemeenschap en de Executieve van de ...        NaN  \n",
       "2  De ministers van Financiën en de staatssecreta...        NaN  \n",
       "3  Het ministerie van Financiën heeft het ministe...        NaN  \n",
       "4                                                NaN        NaN  "
      ]
     },
     "execution_count": 2,
     "metadata": {},
     "output_type": "execute_result"
    }
   ],
   "source": [
    "df = pd.read_csv('KPMG Tax Case - CSV_Summarized.csv')\n",
    "df.head()"
   ]
  },
  {
   "cell_type": "code",
   "execution_count": 3,
   "id": "115a9bab",
   "metadata": {},
   "outputs": [
    {
     "data": {
      "text/plain": [
       "'Het ministerie van Financiën heeft een model van de aanvraag van certificaat en van certificaat bedoeld in artikel 442bis van het Wetboek van de inkomstenbelastingen 1992 zoals van toepassing op de onroerende voorheffing herzien.'"
      ]
     },
     "execution_count": 3,
     "metadata": {},
     "output_type": "execute_result"
    }
   ],
   "source": [
    "df['Summary_1'][11]"
   ]
  },
  {
   "cell_type": "code",
   "execution_count": 4,
   "id": "f55f1b20",
   "metadata": {},
   "outputs": [],
   "source": [
    "df.fillna('', inplace=True)"
   ]
  },
  {
   "cell_type": "code",
   "execution_count": 5,
   "id": "66e2c529",
   "metadata": {},
   "outputs": [],
   "source": []
  },
  {
   "cell_type": "code",
   "execution_count": 14,
   "id": "5f4b7da6",
   "metadata": {},
   "outputs": [],
   "source": [
    "for idx, row in df.iterrows():\n",
    "\n",
    "    nlp = spacy.load('nl_core_news_sm')\n",
    "    text = df.loc[idx, 'Cleaned Text']\n",
    "    tokenized = nlp(text)\n",
    "    tokens = [token.text for token in tokenized]\n",
    "\n",
    "    stopwords = spacy.lang.nl.stop_words.STOP_WORDS\n",
    "\n",
    "    text_no_stop = [lemma for lemma in tokens if lemma not in stopwords]\n",
    "    cleaned = ' '.join(text_no_stop)\n",
    "\n",
    "    df.loc[idx,'Tag text'] = cleaned"
   ]
  },
  {
   "cell_type": "code",
   "execution_count": null,
   "id": "a58a805b",
   "metadata": {},
   "outputs": [],
   "source": []
  },
  {
   "cell_type": "code",
   "execution_count": null,
   "id": "c227ec81",
   "metadata": {},
   "outputs": [],
   "source": []
  },
  {
   "cell_type": "code",
   "execution_count": null,
   "id": "c88c575b",
   "metadata": {},
   "outputs": [],
   "source": [
    "'''# TfidfVectorizer \n",
    "\n",
    "from sklearn.feature_extraction.text import TfidfVectorizer\n",
    "import pandas as pd\n",
    "\n",
    "# set of documents\n",
    "\n",
    "train = \n",
    "test = \n",
    "# instantiate the vectorizer object\n",
    "\n",
    "\n",
    "tfidfvectorizer = TfidfVectorizer(analyzer='word',stop_words= 'english')\n",
    "\n",
    "# convert th documents into a matrix\n",
    "\n",
    "\n",
    "tfidf_wm = tfidfvectorizer.fit_transform(train)\n",
    "\n",
    "#retrieve the terms found in the corpora\n",
    "# if we take same parameters on both Classes(CountVectorizer and TfidfVectorizer) , it will give same output of get_feature_names() methods)\n",
    "#count_tokens = tfidfvectorizer.get_feature_names() # no difference\n",
    "\n",
    "\n",
    "tfidf_tokens = tfidfvectorizer.get_feature_names()\n",
    "\n",
    "df_tfidfvect = pd.DataFrame(data = tfidf_wm.toarray(),index = ['Doc1','Doc2'],columns = tfidf_tokens)\n",
    "\n",
    "\n",
    "print(\"\\nTD-IDF Vectorizer\\n\")\n",
    "print(df_tfidfvect)\n",
    "'''"
   ]
  },
  {
   "cell_type": "code",
   "execution_count": null,
   "id": "294ecc77",
   "metadata": {},
   "outputs": [],
   "source": [
    "'''# Convert to document-term matrix\n",
    "vectoriser = CountVectorizer(analyzer=preprocess_text)\n",
    "example_matrix = vectoriser.fit_transform(df['Summary_1'])\n",
    "# Extract feature/term names\n",
    "feature_names = vectoriser.get_feature_names()\n",
    "# Inspect document-term matrix\n",
    "pd.DataFrame.sparse.from_spmatrix(example_matrix, \n",
    "                                  columns=feature_names)\n",
    "'''"
   ]
  },
  {
   "cell_type": "code",
   "execution_count": 8,
   "id": "fcf2de8c",
   "metadata": {},
   "outputs": [],
   "source": [
    "# Inspect topics\n",
    "def describe_topics(lda, feature_names, top_n_words=7, show_weight=False):\n",
    "    \"\"\"Print top n words for each topic from lda model.\"\"\"\n",
    "    normalised_weights = lda.components_ / lda.components_.sum(axis=1)[:, np.newaxis]\n",
    "    for i, weights in enumerate(normalised_weights):  \n",
    "        print(f\"********** Topic {i+1} **********\")\n",
    "        if show_weight:\n",
    "            feature_weights = [*zip(np.round(weights, 4), feature_names)]\n",
    "            feature_weights.sort(reverse=True)\n",
    "            print(feature_weights[:top_n_words], '\\n')\n",
    "        else:\n",
    "            top_words = [feature_names[i] for i in weights.argsort()[:-top_n_words-1:-1]]\n",
    "            print(top_words, '\\n')"
   ]
  },
  {
   "cell_type": "code",
   "execution_count": 16,
   "id": "9bad5205",
   "metadata": {},
   "outputs": [
    {
     "name": "stderr",
     "output_type": "stream",
     "text": [
      "C:\\Users\\krist\\anaconda3\\envs\\tf\\lib\\site-packages\\sklearn\\utils\\deprecation.py:87: FutureWarning: Function get_feature_names is deprecated; get_feature_names is deprecated in 1.0 and will be removed in 1.2. Please use get_feature_names_out instead.\n",
      "  warnings.warn(msg, category=FutureWarning)\n"
     ]
    },
    {
     "name": "stdout",
     "output_type": "stream",
     "text": [
      "********** Topic 1 **********\n",
      "[(0.0006, 'paritair'), (0.0005, 'detailhandel'), (0.0004, 'subcomité'), (0.0004, 'magasin'), (0.0004, 'détail'), (0.0004, 'commerce'), (0.0003, 'université')] \n",
      "\n",
      "********** Topic 2 **********\n",
      "[(0.0005, 'bedienden'), (0.0004, 'strafuitvoering'), (0.0004, 'diamant'), (0.0004, 'bbi'), (0.0003, 'triage'), (0.0003, 'teruggaaf'), (0.0003, 'paritair')] \n",
      "\n",
      "********** Topic 3 **********\n",
      "[(0.0003, 'mobiliteitshulpmiddelen'), (0.0003, 'innoviris'), (0.0003, 'daspa'), (0.0003, 'commissariaat'), (0.0003, 'beschermingsmechanisme'), (0.0002, 'verstrekkers'), (0.0002, 'pers')] \n",
      "\n",
      "********** Topic 4 **********\n",
      "[(0.0004, 'ouderschapsbescherming'), (0.0004, 'cateringdiensten'), (0.0003, 'restaurant'), (0.0003, 'gezinszorg'), (0.0003, 'alcoholische'), (0.0003, '414'), (0.0003, '342')] \n",
      "\n",
      "********** Topic 5 **********\n",
      "[(0.0007, 'inlichting'), (0.0007, 'identificatienummer'), (0.0006, 'ontvangstmelding'), (0.0006, 'dergelijk'), (0.0005, 'wettig'), (0.0005, 'laboratoriumonderzoeken'), (0.0005, 'laboratorium')] \n",
      "\n",
      "********** Topic 6 **********\n",
      "[(0.0054, '2020'), (0.005, 'artikel'), (0.0047, 'besluit'), (0.0041, 'gelet'), (0.0039, '19'), (0.0037, 'covid'), (0.0037, '2021')] \n",
      "\n",
      "********** Topic 7 **********\n",
      "[(0.0004, 'the'), (0.0004, 'geneesmiddel'), (0.0003, 'selectienummer'), (0.0003, 'laureaten'), (0.0003, 'lagevrio'), (0.0002, 'ziekenhuisapotheek'), (0.0002, 'yarden')] \n",
      "\n",
      "********** Topic 8 **********\n",
      "[(0.0025, 'akkoord'), (0.0022, 'overeenkomst'), (0.0022, 'autoriteiten'), (0.002, 'onderling'), (0.0016, 'bevoegde'), (0.0015, 'belgië'), (0.0013, 'luxemburg')] \n",
      "\n",
      "********** Topic 9 **********\n",
      "[(0.0003, 'winwinlening'), (0.0003, 'skeyes'), (0.0003, 'ibp'), (0.0003, 'errata'), (0.0003, 'beheerscontract'), (0.0002, 'ziektes'), (0.0002, 'vergoedings')] \n",
      "\n",
      "********** Topic 10 **********\n",
      "[(0.0004, 'rijbewijzen'), (0.0004, 'paritair'), (0.0004, 'geachte'), (0.0003, 'xx'), (0.0003, 'subcomité'), (0.0003, 'gratificatie'), (0.0003, '94967')] \n",
      "\n",
      "None\n"
     ]
    }
   ],
   "source": [
    "from sklearn.feature_extraction.text import TfidfVectorizer\n",
    "\n",
    "# Create TfidfVectorizer object\n",
    "\n",
    "vectorizer = TfidfVectorizer()\n",
    "\n",
    "\n",
    "corpus = df['Tag text']\n",
    "    \n",
    "example_matrix = vectorizer.fit_transform(corpus)\n",
    "feature_names = vectorizer.get_feature_names()\n",
    "    \n",
    "# print(tfidf_matrix.toarray())\n",
    "    \n",
    "# Inspect document-term matrix\n",
    "    \n",
    "pd.DataFrame.sparse.from_spmatrix(example_matrix, \n",
    "                                  columns=feature_names)\n",
    "    \n",
    "# Build lda model\n",
    "lda = LatentDirichletAllocation(n_components=10, random_state=45)\n",
    "lda.fit(example_matrix)\n",
    "    \n",
    "print(describe_topics(lda, feature_names, show_weight=True))\n"
   ]
  },
  {
   "cell_type": "code",
   "execution_count": 11,
   "id": "776beeca",
   "metadata": {},
   "outputs": [
    {
     "data": {
      "text/plain": [
       "'  : 2020040323 BRUSSELS HOOFDSTEDELIJK GEWEST 11 FEBRUARI 2020 . - Ministerieel besluit vaststelling modellen aanvraag certificaat certificaat bedoeld artikel 442bis Wetboek inkomstenbelastingen 1992 toepassing onroerende voorheffing    De Minister Brusselse Hoofdstedelijke Regering , belast Financiën Begroting , Gelet bijzondere wet 16 januari 1989 financiering Gemeenschappen Gewesten , artikel 5 ; Gelet Wetboek inkomstenbelastingen 1992 toepassing onroerende voorheffing , artikel 442bis ,   5 , gewijzigd ordonnantie 7 december 2017 houdende diverse bepalingen licht overname dienst onroerende voorheffing wijziging ordonnantie 21 december 2012 vaststelling fiscale procedure Brussels Hoofdstedelijk Gewest ; Gelet besluit Brusselse Hoofdstedelijke Regering 30 november 2017 aanstelling ambtenaren kader overname dienst onroerende voorheffing 1 januari 2018 , artikel 7 ; Gelet gelijke kansentest overeenkomstig artikel 2 ordonnantie 4 oktober 2018 invoering gelijke kansentest uitgevoerd 13 januari 2020 ; Overwegende ministerieel besluit reglementaire voorschriften bevat zin artikel 3 ,   1 , lid , gecoördineerde wetten Raad State 12 januari 1973 , onderworpen advies Raad State , afdeling Wetgeving , Besluit : Artikel 1 . Het model aanvraag , bedoeld artikel 442bis ,   5 , Wetboek inkomstenbelastingen 1992 toepassing onroerende voorheffing , hernomen bijlage 1 besl'"
      ]
     },
     "execution_count": 11,
     "metadata": {},
     "output_type": "execute_result"
    }
   ],
   "source": [
    "df['Tag text'][11]"
   ]
  },
  {
   "cell_type": "code",
   "execution_count": null,
   "id": "a832d60a",
   "metadata": {},
   "outputs": [],
   "source": []
  }
 ],
 "metadata": {
  "kernelspec": {
   "display_name": "tf",
   "language": "python",
   "name": "tf"
  },
  "language_info": {
   "codemirror_mode": {
    "name": "ipython",
    "version": 3
   },
   "file_extension": ".py",
   "mimetype": "text/x-python",
   "name": "python",
   "nbconvert_exporter": "python",
   "pygments_lexer": "ipython3",
   "version": "3.9.12"
  }
 },
 "nbformat": 4,
 "nbformat_minor": 5
}
