{
 "cells": [
  {
   "cell_type": "code",
   "execution_count": 307,
   "id": "78e96113",
   "metadata": {},
   "outputs": [],
   "source": [
    "import pandas as pd\n",
    "import spacy"
   ]
  },
  {
   "cell_type": "code",
   "execution_count": 308,
   "id": "c9135223",
   "metadata": {},
   "outputs": [],
   "source": [
    "df = pd.read_csv('KPMG Tax Case - Scraped Data.csv')\n",
    "\n",
    "# Remove the German Translations\n",
    "\n",
    "df = df[df[\"Text\"].str.contains(\"Duitse vertaling\")==False]\n",
    "\n",
    "# Remove empty text rows.\n",
    "\n",
    "df.dropna(axis = 0, how ='any', inplace = True)"
   ]
  },
  {
   "cell_type": "code",
   "execution_count": 309,
   "id": "4bdf2ebb",
   "metadata": {},
   "outputs": [],
   "source": [
    "# Test text\n",
    "\n",
    "string = df['Text'][4]"
   ]
  },
  {
   "cell_type": "code",
   "execution_count": 310,
   "id": "8a4cc3da",
   "metadata": {},
   "outputs": [],
   "source": [
    "# Removing the first common part\n",
    "\n",
    "splitted_text = string.split('Numac')\n",
    "splitted_text = splitted_text[1]"
   ]
  },
  {
   "cell_type": "code",
   "execution_count": 383,
   "id": "19d8df10",
   "metadata": {},
   "outputs": [
    {
     "data": {
      "text/plain": [
       "' : 2020040138\\nFEDERALE OVERHEIDSDIENST FINANCIEN\\n20 JANUARI 2020. - Koninklijk besluit tot remediering van het dubbelgebruik van artikel 734quater/1 in het KB/WIB 92\\n\\n\\nFILIP, Koning der Belgen,\\nAan allen die nu zijn en hierna wezen zullen, Onze Groet.\\nGelet op artikel 205/5, § 5, van het Wetboek van de inkomstenbelastingen 1992 ingevoegd bij de wet van 25 december 2017;\\nGelet op het KB/WIB 92;\\nGelet op het koninklijk besluit van 16 november 1994 betreffende de administratieve en begrotingscontrole, artikelen 5 en 14;\\nOverwegende dat de bepalingen van dit besluit geen rechtstreekse of onrechtstreekse financiële weerslag kunnen hebben;\\nGelet op de wetten op de Raad van State, gecoördineerd op 12 januari 1973, artikel 3, § 1;\\nOverwegende dat de bepalingen van dit besluit niet reglementair van aard zijn;\\nOverwegende dat artikel 3 van het koninklijk besluit van 20 december 2019 tot aanpassing van het KB/WIB 92 ingevolge de invoering van de aftrek van de groepsbijdrage en van de beperking op de aftrek van interesten, in het KB/WIB 92 een artikel 734quater/1 invoegt;\\nOverwegende dat artikel 2 van het koninklijk besluit van 2 oktober 2019 tot uitvoering van artikel 205/4, § 2, van het Wetboek van de inkomstenbelastingen 1992 eveneens in het KB/WIB 92 een artikel 734quater/1 heeft ingevoegd;\\nOverwegende dat het dubbel gebruik van dit artikel 734quater/1 in het KB/WIB 92 de nodige rechtsonzekerheid met zich meebrengt;\\nOp de voordracht van de Vice-Eerste Minister en de Minister van Financiën,\\nHebben Wij besloten en besluiten Wij :\\nArtikel 1. In hoofdstuk I van het KB/WIB 92 wordt een afdeling XXVIIquater1/1 ingevoegd die het artikel 734quater/3 bevat, luidende:\\n\"Afdeling XXVIIquater1/1. - Aftrek van de groepsbijdrage\\nArt. 734quater/3. Het model van de in artikel 205/5, § 5, van het Wetboek van de inkomstenbelastingen 1992, bedoelde groepsbijdrage-overeenkomst wordt door de minister die bevoegd is voor Financiën of zijn gedelegeerde vastgesteld.\".\\nArt. 2. Artikel 3 van het koninklijk besluit van 20 december 2019 tot aanpassing van het KB/WIB 92 ingevolge de invoering van de aftrek van de groepsbijdrage en van de beperking op de aftrek van interesten wordt ingetrokken.\\nArt. 3. Dit besluit is van toepassing vanaf aanslagjaar 2020 voor de belastbare tijdperken die ten vroegste aanvangen op 1 januari 2019.\\nArt. 4. De minister bevoegd voor Financiën is belast met de uitvoering van dit besluit.\\nGegeven te Brussel, 20 januari 2020.\\nFILIP\\nVan Koningswege :\\nDe Vice-Eerste Minister en Minister van Financiën,\\nA. DE CROO\\n\\n\\nbegin eerste woord laatste woord\\nPublicatie : 2020-01-28\\n'"
      ]
     },
     "execution_count": 383,
     "metadata": {},
     "output_type": "execute_result"
    }
   ],
   "source": [
    "splitted_text"
   ]
  },
  {
   "cell_type": "code",
   "execution_count": 315,
   "id": "8ad24bc9",
   "metadata": {},
   "outputs": [
    {
     "data": {
      "text/plain": [
       "' : \\nFEDERALE OVERHEIDSDIENST FINANCIEN\\n JANUARI . - Koninklijk besluit tot remediering van het dubbelgebruik van artikel quater/ in het KB/WIB \\n\\n\\nFILIP, Koning der Belgen,\\nAan allen die nu zijn en hierna wezen zullen, Onze Groet.\\nGelet op artikel /, § , van het Wetboek van de inkomstenbelastingen  ingevoegd bij de wet van  december ;\\nGelet op het KB/WIB ;\\nGelet op het koninklijk besluit van  november  betreffende de administratieve en begrotingscontrole, artikelen  en ;\\nOverwegende dat de bepalingen van dit besluit geen rechtstreekse of onrechtstreekse financiële weerslag kunnen hebben;\\nGelet op de wetten op de Raad van State, gecoördineerd op  januari , artikel , § ;\\nOverwegende dat de bepalingen van dit besluit niet reglementair van aard zijn;\\nOverwegende dat artikel  van het koninklijk besluit van  december  tot aanpassing van het KB/WIB  ingevolge de invoering van de aftrek van de groepsbijdrage en van de beperking op de aftrek van interesten, in het KB/WIB  een artikel quater/ invoegt;\\nOverwegende dat artikel  van het koninklijk besluit van  oktober  tot uitvoering van artikel /, § , van het Wetboek van de inkomstenbelastingen  eveneens in het KB/WIB  een artikel quater/ heeft ingevoegd;\\nOverwegende dat het dubbel gebruik van dit artikel quater/ in het KB/WIB  de nodige rechtsonzekerheid met zich meebrengt;\\nOp de voordracht van de Vice-Eerste Minister en de Minister van Financiën,\\nHebben Wij besloten en besluiten Wij :\\nArtikel . In hoofdstuk I van het KB/WIB  wordt een afdeling XXVIIquater/ ingevoegd die het artikel quater/ bevat, luidende:\\n\"Afdeling XXVIIquater/. - Aftrek van de groepsbijdrage\\nArt. quater/. Het model van de in artikel /, § , van het Wetboek van de inkomstenbelastingen , bedoelde groepsbijdrage-overeenkomst wordt door de minister die bevoegd is voor Financiën of zijn gedelegeerde vastgesteld.\".\\nArt. . Artikel  van het koninklijk besluit van  december  tot aanpassing van het KB/WIB  ingevolge de invoering van de aftrek van de groepsbijdrage en van de beperking op de aftrek van interesten wordt ingetrokken.\\nArt. . Dit besluit is van toepassing vanaf aanslagjaar  voor de belastbare tijdperken die ten vroegste aanvangen op  januari .\\nArt. . De minister bevoegd voor Financiën is belast met de uitvoering van dit besluit.\\nGegeven te Brussel,  januari .\\nFILIP\\nVan Koningswege :\\nDe Vice-Eerste Minister en Minister van Financiën,\\nA. DE CROO\\n\\n\\nbegin eerste woord laatste woord\\nPublicatie : --\\n'"
      ]
     },
     "execution_count": 315,
     "metadata": {},
     "output_type": "execute_result"
    }
   ],
   "source": [
    "result = ''.join([i for i in splitted_text if not i.isdigit()])\n",
    "result"
   ]
  },
  {
   "cell_type": "code",
   "execution_count": 384,
   "id": "75a1b69d",
   "metadata": {},
   "outputs": [
    {
     "data": {
      "text/plain": [
       "' : 2020040138 FEDERALE OVERHEIDSDIENST FINANCIEN 20 JANUARI 2020. - Koninklijk besluit tot remediering van het dubbelgebruik van artikel 734quater1 in het KBWIB 92   FILIP, Koning der Belgen, Aan allen die nu zijn en hierna wezen zullen, Onze Groet. Gelet op artikel 2055,  5, van het Wetboek van de inkomstenbelastingen 1992 ingevoegd bij de wet van 25 december 2017; Gelet op het KBWIB 92; Gelet op het koninklijk besluit van 16 november 1994 betreffende de administratieve en begrotingscontrole, artikelen 5 en 14; Overwegende dat de bepalingen van dit besluit geen rechtstreekse of onrechtstreekse financiële weerslag kunnen hebben; Gelet op de wetten op de Raad van State, gecoördineerd op 12 januari 1973, artikel 3,  1; Overwegende dat de bepalingen van dit besluit niet reglementair van aard zijn; Overwegende dat artikel 3 van het koninklijk besluit van 20 december 2019 tot aanpassing van het KBWIB 92 ingevolge de invoering van de aftrek van de groepsbijdrage en van de beperking op de aftrek van interesten, in het KBWIB 92 een artikel 734quater1 invoegt; Overwegende dat artikel 2 van het koninklijk besluit van 2 oktober 2019 tot uitvoering van artikel 2054,  2, van het Wetboek van de inkomstenbelastingen 1992 eveneens in het KBWIB 92 een artikel 734quater1 heeft ingevoegd; Overwegende dat het dubbel gebruik van dit artikel 734quater1 in het KBWIB 92 de nodige rechtsonzekerheid met zich meebrengt; Op de voordracht van de Vice-Eerste Minister en de Minister van Financiën, Hebben Wij besloten en besluiten Wij : Artikel 1. In hoofdstuk I van het KBWIB 92 wordt een afdeling XXVIIquater11 ingevoegd die het artikel 734quater3 bevat, luidende: \"Afdeling XXVIIquater11. - Aftrek van de groepsbijdrage Art. 734quater3. Het model van de in artikel 2055,  5, van het Wetboek van de inkomstenbelastingen 1992, bedoelde groepsbijdrage-overeenkomst wordt door de minister die bevoegd is voor Financiën of zijn gedelegeerde vastgesteld.\". Art. 2. Artikel 3 van het koninklijk besluit van 20 december 2019 tot aanpassing van het KBWIB 92 ingevolge de invoering van de aftrek van de groepsbijdrage en van de beperking op de aftrek van interesten wordt ingetrokken. Art. 3. Dit besluit is van toepassing vanaf aanslagjaar 2020 voor de belastbare tijdperken die ten vroegste aanvangen op 1 januari 2019. Art. 4. De minister bevoegd voor Financiën is belast met de uitvoering van dit besluit. Gegeven te Brussel, 20 januari 2020. FILIP Van Koningswege : De Vice-Eerste Minister en Minister van Financiën, A. DE CROO   begin eerste woord laatste woord Publicatie : 2020-01-28 '"
      ]
     },
     "execution_count": 384,
     "metadata": {},
     "output_type": "execute_result"
    }
   ],
   "source": [
    "trial = splitted_text.replace('\\n',' ')\n",
    "trial = trial.replace('/','')\n",
    "trial = trial.replace('§','')\n",
    "trial"
   ]
  },
  {
   "cell_type": "code",
   "execution_count": 316,
   "id": "cd1e9bcd",
   "metadata": {},
   "outputs": [
    {
     "name": "stdout",
     "output_type": "stream",
     "text": [
      ": \n",
      "FEDERALE OVERHEIDSDIENST FINANCIEN\n",
      " JANUARI . - Koninklijk besluit tot remediering van het dubbelgebruik van artikel quater in het KBWIB \n",
      "\n",
      "\n",
      "FILIP Koning der Belgen\n",
      "Aan allen die nu zijn en hierna wezen zullen Onze Groet.\n",
      "Gelet op artikel    van het Wetboek van de inkomstenbelastingen  ingevoegd bij de wet van  december .\n",
      "Gelet op het KBWIB .\n",
      "Gelet op het koninklijk besluit van  november  betreffende de administratieve en begrotingscontrole artikelen  en .\n",
      "Overwegende dat de bepalingen van dit besluit geen rechtstreekse of onrechtstreekse financiële weerslag kunnen hebben.\n",
      "Gelet op de wetten op de Raad van State gecoördineerd op  januari  artikel   .\n",
      "Overwegende dat de bepalingen van dit besluit niet reglementair van aard zijn.\n",
      "Overwegende dat artikel  van het koninklijk besluit van  december  tot aanpassing van het KBWIB  ingevolge de invoering van de aftrek van de groepsbijdrage en van de beperking op de aftrek van interesten in het KBWIB  een artikel quater invoegt.\n",
      "Overwegende dat artikel  van het koninklijk besluit van  oktober  tot uitvoering van artikel    van het Wetboek van de inkomstenbelastingen  eveneens in het KBWIB  een artikel quater heeft ingevoegd.\n",
      "Overwegende dat het dubbel gebruik van dit artikel quater in het KBWIB  de nodige rechtsonzekerheid met zich meebrengt.\n",
      "Op de voordracht van de Vice-Eerste Minister en de Minister van Financiën\n",
      "Hebben Wij besloten en besluiten Wij :\n",
      "Artikel . In hoofdstuk I van het KBWIB  wordt een afdeling XXVIIquater ingevoegd die het artikel quater bevat luidende:\n",
      "\"Afdeling XXVIIquater. - Aftrek van de groepsbijdrage\n",
      "Art. quater. Het model van de in artikel    van het Wetboek van de inkomstenbelastingen  bedoelde groepsbijdrage-overeenkomst wordt door de minister die bevoegd is voor Financiën of zijn gedelegeerde vastgesteld.\".\n",
      "Art. . Artikel  van het koninklijk besluit van  december  tot aanpassing van het KBWIB  ingevolge de invoering van de aftrek van de groepsbijdrage en van de beperking op de aftrek van interesten wordt ingetrokken.\n",
      "Art. . Dit besluit is van toepassing vanaf aanslagjaar  voor de belastbare tijdperken die ten vroegste aanvangen op  januari .\n",
      "Art. . De minister bevoegd voor Financiën is belast met de uitvoering van dit besluit.\n",
      "Gegeven te Brussel  januari .\n",
      "FILIP\n",
      "Van Koningswege :\n",
      "De Vice-Eerste Minister en Minister van Financiën\n",
      "A. DE CROO\n",
      "\n",
      "\n",
      "begin eerste woord laatste woord\n",
      "Publicatie : --\n"
     ]
    }
   ],
   "source": [
    "no_symbols = result.strip('\\n')\n",
    "no_symbols = no_symbols.replace('§','')\n",
    "no_symbols = no_symbols.replace(',','')\n",
    "no_symbols = no_symbols.replace(';','.')\n",
    "no_symbols = no_symbols.replace('/','')\n",
    "no_symbols = no_symbols.strip()\n",
    "print(no_symbols)"
   ]
  },
  {
   "cell_type": "code",
   "execution_count": 317,
   "id": "626ef99b",
   "metadata": {},
   "outputs": [
    {
     "name": "stdout",
     "output_type": "stream",
     "text": [
      "[':', '\\n', 'FEDERALE', 'OVERHEIDSDIENST', 'FINANCIEN', '\\n ', 'JANUARI', '.', '-', 'Koninklijk', 'besluit', 'tot', 'remediering', 'van', 'het', 'dubbelgebruik', 'van', 'artikel', 'quater', 'in', 'het', 'KBWIB', '\\n\\n\\n', 'FILIP', 'Koning', 'der', 'Belgen', '\\n', 'Aan', 'allen', 'die', 'nu', 'zijn', 'en', 'hierna', 'wezen', 'zullen', 'Onze', 'Groet', '.', '\\n', 'Gelet', 'op', 'artikel', '   ', 'van', 'het', 'Wetboek', 'van', 'de', 'inkomstenbelastingen', ' ', 'ingevoegd', 'bij', 'de', 'wet', 'van', ' ', 'december', '.', '\\n', 'Gelet', 'op', 'het', 'KBWIB', '.', '\\n', 'Gelet', 'op', 'het', 'koninklijk', 'besluit', 'van', ' ', 'november', ' ', 'betreffende', 'de', 'administratieve', 'en', 'begrotingscontrole', 'artikelen', ' ', 'en', '.', '\\n', 'Overwegende', 'dat', 'de', 'bepalingen', 'van', 'dit', 'besluit', 'geen', 'rechtstreekse', 'of', 'onrechtstreekse', 'financiële', 'weerslag', 'kunnen', 'hebben', '.', '\\n', 'Gelet', 'op', 'de', 'wetten', 'op', 'de', 'Raad', 'van', 'State', 'gecoördineerd', 'op', ' ', 'januari', ' ', 'artikel', '  ', '.', '\\n', 'Overwegende', 'dat', 'de', 'bepalingen', 'van', 'dit', 'besluit', 'niet', 'reglementair', 'van', 'aard', 'zijn', '.', '\\n', 'Overwegende', 'dat', 'artikel', ' ', 'van', 'het', 'koninklijk', 'besluit', 'van', ' ', 'december', ' ', 'tot', 'aanpassing', 'van', 'het', 'KBWIB', ' ', 'ingevolge', 'de', 'invoering', 'van', 'de', 'aftrek', 'van', 'de', 'groepsbijdrage', 'en', 'van', 'de', 'beperking', 'op', 'de', 'aftrek', 'van', 'interesten', 'in', 'het', 'KBWIB', ' ', 'een', 'artikel', 'quater', 'invoegt', '.', '\\n', 'Overwegende', 'dat', 'artikel', ' ', 'van', 'het', 'koninklijk', 'besluit', 'van', ' ', 'oktober', ' ', 'tot', 'uitvoering', 'van', 'artikel', '   ', 'van', 'het', 'Wetboek', 'van', 'de', 'inkomstenbelastingen', ' ', 'eveneens', 'in', 'het', 'KBWIB', ' ', 'een', 'artikel', 'quater', 'heeft', 'ingevoegd', '.', '\\n', 'Overwegende', 'dat', 'het', 'dubbel', 'gebruik', 'van', 'dit', 'artikel', 'quater', 'in', 'het', 'KBWIB', ' ', 'de', 'nodige', 'rechtsonzekerheid', 'met', 'zich', 'meebrengt', '.', '\\n', 'Op', 'de', 'voordracht', 'van', 'de', 'Vice-Eerste', 'Minister', 'en', 'de', 'Minister', 'van', 'Financiën', '\\n', 'Hebben', 'Wij', 'besloten', 'en', 'besluiten', 'Wij', ':', '\\n', 'Artikel', '.', 'In', 'hoofdstuk', 'I', 'van', 'het', 'KBWIB', ' ', 'wordt', 'een', 'afdeling', 'XXVIIquater', 'ingevoegd', 'die', 'het', 'artikel', 'quater', 'bevat', 'luidende', ':', '\\n', '\"', 'Afdeling', 'XXVIIquater', '.', '-', 'Aftrek', 'van', 'de', 'groepsbijdrage', '\\n', 'Art.', 'quater', '.', 'Het', 'model', 'van', 'de', 'in', 'artikel', '   ', 'van', 'het', 'Wetboek', 'van', 'de', 'inkomstenbelastingen', ' ', 'bedoelde', 'groepsbijdrage-overeenkomst', 'wordt', 'door', 'de', 'minister', 'die', 'bevoegd', 'is', 'voor', 'Financiën', 'of', 'zijn', 'gedelegeerde', 'vastgesteld', '.', '\"', '.', '\\n', 'Art.', '.', 'Artikel', ' ', 'van', 'het', 'koninklijk', 'besluit', 'van', ' ', 'december', ' ', 'tot', 'aanpassing', 'van', 'het', 'KBWIB', ' ', 'ingevolge', 'de', 'invoering', 'van', 'de', 'aftrek', 'van', 'de', 'groepsbijdrage', 'en', 'van', 'de', 'beperking', 'op', 'de', 'aftrek', 'van', 'interesten', 'wordt', 'ingetrokken', '.', '\\n', 'Art.', '.', 'Dit', 'besluit', 'is', 'van', 'toepassing', 'vanaf', 'aanslagjaar', ' ', 'voor', 'de', 'belastbare', 'tijdperken', 'die', 'ten', 'vroegste', 'aanvangen', 'op', ' ', 'januari', '.', '\\n', 'Art.', '.', 'De', 'minister', 'bevoegd', 'voor', 'Financiën', 'is', 'belast', 'met', 'de', 'uitvoering', 'van', 'dit', 'besluit', '.', '\\n', 'Gegeven', 'te', 'Brussel', ' ', 'januari', '.', '\\n', 'FILIP', '\\n', 'Van', 'Koningswege', ':', '\\n', 'De', 'Vice-Eerste', 'Minister', 'en', 'Minister', 'van', 'Financiën', '\\n', 'A.', 'DE', 'CROO', '\\n\\n\\n', 'begin', 'eerste', 'woord', 'laatste', 'woord', '\\n', 'Publicatie', ':', '--']\n"
     ]
    }
   ],
   "source": [
    "# Creating Tokens\n",
    "\n",
    "nlp = spacy.load('nl_core_news_sm')\n",
    "text = no_symbols\n",
    "tokenized = nlp(text)\n",
    "tokens = [token.text for token in tokenized]\n",
    "\n",
    "print(tokens)\n"
   ]
  },
  {
   "cell_type": "code",
   "execution_count": 318,
   "id": "341425a4",
   "metadata": {},
   "outputs": [
    {
     "name": "stdout",
     "output_type": "stream",
     "text": [
      "[':', '\\n', 'federale', 'overheidsdienst', 'financien', '\\n ', 'januari', '.', '-', 'koninklijk', 'besluit', 'tot', 'remediering', 'van', 'het', 'dubbelgeb_ruik', 'van', 'artikel', 'quater', 'in', 'het', 'kbwib', '\\n\\n\\n', 'filip', 'koning', 'de', 'belg', '\\n', 'aan', 'al', 'die', 'nu', 'zijn', 'en', 'hierna', 'wezen', 'zullen', 'onze', 'groet', '.', '\\n', 'gelet', 'op', 'artikel', '   ', 'van', 'het', 'wetboek', 'van', 'de', 'inkomstenbelasting', ' ', 'in_voeggen', 'bij', 'de', 'wet', 'van', ' ', 'december', '.', '\\n', 'gelet', 'op', 'het', 'kbwib', '.', '\\n', 'gelet', 'op', 'het', 'koninklijk', 'besluit', 'van', ' ', 'november', ' ', 'betreffen', 'de', 'administratief', 'en', 'begrotingscontrole', 'artikel', ' ', 'en', '.', '\\n', 'overwegende', 'dat', 'de', 'bepaling', 'van', 'dit', 'besluit', 'geen', 'rechtstreeks', 'of', 'onrechtstreekse', 'financieel', 'weerslag', 'kunnen', 'hebben', '.', '\\n', 'gelet', 'op', 'de', 'wet', 'op', 'de', 'raad', 'van', 'state', 'coördineren', 'op', ' ', 'januari', ' ', 'artikel', '  ', '.', '\\n', 'overwegende', 'dat', 'de', 'bepaling', 'van', 'dit', 'besluit', 'niet', 'reglementair', 'van', 'aard', 'zijn', '.', '\\n', 'overwegende', 'dat', 'artikel', ' ', 'van', 'het', 'koninklijk', 'besluit', 'van', ' ', 'december', ' ', 'tot', 'aanpassing', 'van', 'het', 'kbwib', ' ', 'ingevolge', 'de', 'invoering', 'van', 'de', 'aftrek', 'van', 'de', 'groepsbijdrage', 'en', 'van', 'de', 'beperking', 'op', 'de', 'aftrek', 'van', 'interest', 'in', 'het', 'kbwib', ' ', 'een', 'artikel', 'quater', 'invoegt', '.', '\\n', 'overwegende', 'dat', 'artikel', ' ', 'van', 'het', 'koninklijk', 'besluit', 'van', ' ', 'oktober', ' ', 'tot', 'uitvoering', 'van', 'artikel', '   ', 'van', 'het', 'wetboek', 'van', 'de', 'inkomstenbelasting', ' ', 'eveneens', 'in', 'het', 'kbwib', ' ', 'een', 'artikel', 'quater', 'hebben', 'in_voeggen', '.', '\\n', 'overwegende', 'dat', 'het', 'dubbel', 'gebruik', 'van', 'dit', 'artikel', 'quater', 'in', 'het', 'kbwib', ' ', 'de', 'nodig', 'rechtsonzekerheid', 'met', 'zich', 'mee_brengen', '.', '\\n', 'op', 'de', 'voordracht', 'van', 'de', 'vice-eerste', 'minister', 'en', 'de', 'minister', 'van', 'financiën', '\\n', 'hebben', 'wij', 'besluiten', 'en', 'besluiten', 'wij', ':', '\\n', 'artikel', '.', 'in', 'hoofdstuk', 'i', 'van', 'het', 'kbwib', ' ', 'worden', 'een', 'afdeling', 'xxviiquater', 'in_voeggen', 'die', 'het', 'artikel', 'quater', 'bevatten', 'luiden', ':', '\\n', '\"', 'afdeling', 'xxviiquater', '.', '-', 'aftrek', 'van', 'de', 'groepsbijdrage', '\\n', 'art.', 'quater', '.', 'het', 'model', 'van', 'de', 'in', 'artikel', '   ', 'van', 'het', 'wetboek', 'van', 'de', 'inkomstenbelasting', ' ', 'bedoelen', 'groepsbijdrage-overeenkomst', 'worden', 'door', 'de', 'minister', 'die', 'bevoegd', 'zijn', 'voor', 'financiën', 'of', 'zijn', 'gedelegeerd', 'vast_stellen', '.', '\"', '.', '\\n', 'art.', '.', 'artikel', ' ', 'van', 'het', 'koninklijk', 'besluit', 'van', ' ', 'december', ' ', 'tot', 'aanpassing', 'van', 'het', 'kbwib', ' ', 'ingevolge', 'de', 'invoering', 'van', 'de', 'aftrek', 'van', 'de', 'groepsbijdrage', 'en', 'van', 'de', 'beperking', 'op', 'de', 'aftrek', 'van', 'interest', 'worden', 'in_trekken', '.', '\\n', 'art.', '.', 'dit', 'besluit', 'zijn', 'van', 'toepassing', 'vanaf', 'aanslagjaar', ' ', 'voor', 'de', 'belastbaar', 'tijdp_erken', 'die', 'te', 'vroeg', 'aanvang', 'op', ' ', 'januari', '.', '\\n', 'art.', '.', 'de', 'minister', 'bevoegd', 'voor', 'financiën', 'zijn', 'belasten', 'met', 'de', 'uitvoering', 'van', 'dit', 'besluit', '.', '\\n', 'geven', 'te', 'brussel', ' ', 'januari', '.', '\\n', 'filip', '\\n', 'van', 'koningswege', ':', '\\n', 'de', 'vice-eerste', 'minister', 'en', 'minister', 'van', 'financiën', '\\n', 'a.', 'de', 'croo', '\\n\\n\\n', 'begin', 'één', 'woord', 'laat', 'woord', '\\n', 'publicatie', ':', '--']\n"
     ]
    }
   ],
   "source": [
    "lemmas = [token.lemma_.lower() for token in tokenized]\n",
    "print(lemmas)"
   ]
  },
  {
   "cell_type": "code",
   "execution_count": 319,
   "id": "b52846c8",
   "metadata": {},
   "outputs": [
    {
     "name": "stdout",
     "output_type": "stream",
     "text": [
      ": \n",
      " federale overheidsdienst financien \n",
      "  januari . - koninklijk besluit remediering dubbelgeb_ruik artikel quater kbwib \n",
      "\n",
      "\n",
      " filip koning belg \n",
      " hierna groet . \n",
      " gelet artikel     wetboek inkomstenbelasting   in_voeggen wet   december . \n",
      " gelet kbwib . \n",
      " gelet koninklijk besluit   november   betreffen administratief begrotingscontrole artikel   . \n",
      " overwegende bepaling besluit rechtstreeks onrechtstreekse financieel weerslag . \n",
      " gelet wet raad state coördineren   januari   artikel    . \n",
      " overwegende bepaling besluit reglementair aard . \n",
      " overwegende artikel   koninklijk besluit   december   aanpassing kbwib   ingevolge invoering aftrek groepsbijdrage beperking aftrek interest kbwib   artikel quater invoegt . \n",
      " overwegende artikel   koninklijk besluit   oktober   uitvoering artikel     wetboek inkomstenbelasting   kbwib   artikel quater in_voeggen . \n",
      " overwegende dubbel gebruik artikel quater kbwib   nodig rechtsonzekerheid mee_brengen . \n",
      " voordracht vice-eerste minister minister financiën \n",
      " besluiten besluiten : \n",
      " artikel . hoofdstuk i kbwib   afdeling xxviiquater in_voeggen artikel quater bevatten luiden : \n",
      " \" afdeling xxviiquater . - aftrek groepsbijdrage \n",
      " art. quater . model artikel     wetboek inkomstenbelasting   bedoelen groepsbijdrage-overeenkomst minister bevoegd financiën gedelegeerd vast_stellen . \" . \n",
      " art. . artikel   koninklijk besluit   december   aanpassing kbwib   ingevolge invoering aftrek groepsbijdrage beperking aftrek interest in_trekken . \n",
      " art. . besluit toepassing aanslagjaar   belastbaar tijdp_erken aanvang   januari . \n",
      " art. . minister bevoegd financiën belasten uitvoering besluit . \n",
      " brussel   januari . \n",
      " filip \n",
      " koningswege : \n",
      " vice-eerste minister minister financiën \n",
      " a. croo \n",
      "\n",
      "\n",
      " begin één woord laat woord \n",
      " publicatie : --\n",
      "1782\n"
     ]
    }
   ],
   "source": [
    "stopwords = spacy.lang.nl.stop_words.STOP_WORDS\n",
    "\n",
    "text_no_stop = [lemma for lemma in lemmas if lemma not in stopwords]\n",
    "cleaned = ' '.join(text_no_stop)\n",
    "\n",
    "print(cleaned)"
   ]
  },
  {
   "cell_type": "code",
   "execution_count": 377,
   "id": "57d0d593",
   "metadata": {},
   "outputs": [
    {
     "data": {
      "text/plain": [
       "2373"
      ]
     },
     "execution_count": 377,
     "metadata": {},
     "output_type": "execute_result"
    }
   ],
   "source": [
    "index = trial.rfind('begin')\n",
    "index"
   ]
  },
  {
   "cell_type": "code",
   "execution_count": 378,
   "id": "4898d5ed",
   "metadata": {},
   "outputs": [
    {
     "data": {
      "text/plain": [
       "' :  FEDERALE OVERHEIDSDIENST FINANCIEN  JANUARI . - Koninklijk besluit tot remediering van het dubbelgebruik van artikel quater in het KBWIB    FILIP, Koning der Belgen, Aan allen die nu zijn en hierna wezen zullen, Onze Groet. Gelet op artikel ,  , van het Wetboek van de inkomstenbelastingen  ingevoegd bij de wet van  december ; Gelet op het KBWIB ; Gelet op het koninklijk besluit van  november  betreffende de administratieve en begrotingscontrole, artikelen  en ; Overwegende dat de bepalingen van dit besluit geen rechtstreekse of onrechtstreekse financiële weerslag kunnen hebben; Gelet op de wetten op de Raad van State, gecoördineerd op  januari , artikel ,  ; Overwegende dat de bepalingen van dit besluit niet reglementair van aard zijn; Overwegende dat artikel  van het koninklijk besluit van  december  tot aanpassing van het KBWIB  ingevolge de invoering van de aftrek van de groepsbijdrage en van de beperking op de aftrek van interesten, in het KBWIB  een artikel quater invoegt; Overwegende dat artikel  van het koninklijk besluit van  oktober  tot uitvoering van artikel ,  , van het Wetboek van de inkomstenbelastingen  eveneens in het KBWIB  een artikel quater heeft ingevoegd; Overwegende dat het dubbel gebruik van dit artikel quater in het KBWIB  de nodige rechtsonzekerheid met zich meebrengt; Op de voordracht van de Vice-Eerste Minister en de Minister van Financiën, Hebben Wij besloten en besluiten Wij : Artikel . In hoofdstuk I van het KBWIB  wordt een afdeling XXVIIquater ingevoegd die het artikel quater bevat, luidende: \"Afdeling XXVIIquater. - Aftrek van de groepsbijdrage Art. quater. Het model van de in artikel ,  , van het Wetboek van de inkomstenbelastingen , bedoelde groepsbijdrage-overeenkomst wordt door de minister die bevoegd is voor Financiën of zijn gedelegeerde vastgesteld.\". Art. . Artikel  van het koninklijk besluit van  december  tot aanpassing van het KBWIB  ingevolge de invoering van de aftrek van de groepsbijdrage en van de beperking op de aftrek van interesten wordt ingetrokken. Art. . Dit besluit is van toepassing vanaf aanslagjaar  voor de belastbare tijdperken die ten vroegste aanvangen op  januari . Art. . De minister bevoegd voor Financiën is belast met de uitvoering van dit besluit. Gegeven te Brussel,  januari . FILIP Van Koningswege : De Vice-Eerste Minister en Minister van Financiën, A. DE CROO   '"
      ]
     },
     "execution_count": 378,
     "metadata": {},
     "output_type": "execute_result"
    }
   ],
   "source": [
    "corpus = trial[:index]\n",
    "corpus"
   ]
  },
  {
   "cell_type": "code",
   "execution_count": 379,
   "id": "56e62392",
   "metadata": {},
   "outputs": [
    {
     "data": {
      "text/html": [
       "<div>\n",
       "<style scoped>\n",
       "    .dataframe tbody tr th:only-of-type {\n",
       "        vertical-align: middle;\n",
       "    }\n",
       "\n",
       "    .dataframe tbody tr th {\n",
       "        vertical-align: top;\n",
       "    }\n",
       "\n",
       "    .dataframe thead th {\n",
       "        text-align: right;\n",
       "    }\n",
       "</style>\n",
       "<table border=\"1\" class=\"dataframe\">\n",
       "  <thead>\n",
       "    <tr style=\"text-align: right;\">\n",
       "      <th></th>\n",
       "      <th>Date</th>\n",
       "      <th>Title</th>\n",
       "      <th>Numac</th>\n",
       "      <th>Link FR</th>\n",
       "      <th>Link NL</th>\n",
       "      <th>Text</th>\n",
       "      <th>Cleaned Text</th>\n",
       "    </tr>\n",
       "  </thead>\n",
       "  <tbody>\n",
       "    <tr>\n",
       "      <th>0</th>\n",
       "      <td>1/14/2020</td>\n",
       "      <td>REGION DE BRUXELLES-CAPITALE\\nREGION DE BRUXEL...</td>\n",
       "      <td>2020010053</td>\n",
       "      <td>http://www.ejustice.just.fgov.be/cgi/article.p...</td>\n",
       "      <td>http://www.ejustice.just.fgov.be/cgi/article_b...</td>\n",
       "      <td>NL FR\\nbelgiëlex.be   -  Kruispuntbank Wetgevi...</td>\n",
       "      <td>:  FEDERALE OVERHEIDSDIENST FINANCIEN  JANUAR...</td>\n",
       "    </tr>\n",
       "    <tr>\n",
       "      <th>3</th>\n",
       "      <td>1/24/2020</td>\n",
       "      <td>MINISTERE DE LA COMMUNAUTE FRANCAISE\\n20 DECEM...</td>\n",
       "      <td>2020010214</td>\n",
       "      <td>http://www.ejustice.just.fgov.be/cgi/article.p...</td>\n",
       "      <td>http://www.ejustice.just.fgov.be/cgi/article_b...</td>\n",
       "      <td>NL FR\\n\\neinde eerste woord laatste woord\\nPub...</td>\n",
       "      <td>:  FEDERALE OVERHEIDSDIENST FINANCIEN  JANUAR...</td>\n",
       "    </tr>\n",
       "    <tr>\n",
       "      <th>4</th>\n",
       "      <td>1/28/2020</td>\n",
       "      <td>SERVICE PUBLIC FEDERAL FINANCES\\n20 JANVIER 20...</td>\n",
       "      <td>2020040138</td>\n",
       "      <td>http://www.ejustice.just.fgov.be/cgi/article.p...</td>\n",
       "      <td>http://www.ejustice.just.fgov.be/cgi/article_b...</td>\n",
       "      <td>NL FR\\nbelgiëlex.be   -  Kruispuntbank Wetgevi...</td>\n",
       "      <td>:  FEDERALE OVERHEIDSDIENST FINANCIEN  JANUAR...</td>\n",
       "    </tr>\n",
       "    <tr>\n",
       "      <th>5</th>\n",
       "      <td>1/28/2020</td>\n",
       "      <td>SERVICE PUBLIC FEDERAL FINANCES\\n20 JANVIER 20...</td>\n",
       "      <td>2020020094</td>\n",
       "      <td>http://www.ejustice.just.fgov.be/cgi/article.p...</td>\n",
       "      <td>http://www.ejustice.just.fgov.be/cgi/article_b...</td>\n",
       "      <td>NL FR\\nbelgiëlex.be   -  Kruispuntbank Wetgevi...</td>\n",
       "      <td>:  FEDERALE OVERHEIDSDIENST FINANCIEN  JANUAR...</td>\n",
       "    </tr>\n",
       "    <tr>\n",
       "      <th>6</th>\n",
       "      <td>1/28/2020</td>\n",
       "      <td>SERVICE PUBLIC FEDERAL FINANCES\\nAdministratio...</td>\n",
       "      <td>2020010193</td>\n",
       "      <td>http://www.ejustice.just.fgov.be/cgi/article.p...</td>\n",
       "      <td>http://www.ejustice.just.fgov.be/cgi/article_b...</td>\n",
       "      <td>NL FR\\n\\neinde eerste woord laatste woord\\nPub...</td>\n",
       "      <td>:  FEDERALE OVERHEIDSDIENST FINANCIEN  JANUAR...</td>\n",
       "    </tr>\n",
       "  </tbody>\n",
       "</table>\n",
       "</div>"
      ],
      "text/plain": [
       "        Date                                              Title       Numac  \\\n",
       "0  1/14/2020  REGION DE BRUXELLES-CAPITALE\\nREGION DE BRUXEL...  2020010053   \n",
       "3  1/24/2020  MINISTERE DE LA COMMUNAUTE FRANCAISE\\n20 DECEM...  2020010214   \n",
       "4  1/28/2020  SERVICE PUBLIC FEDERAL FINANCES\\n20 JANVIER 20...  2020040138   \n",
       "5  1/28/2020  SERVICE PUBLIC FEDERAL FINANCES\\n20 JANVIER 20...  2020020094   \n",
       "6  1/28/2020  SERVICE PUBLIC FEDERAL FINANCES\\nAdministratio...  2020010193   \n",
       "\n",
       "                                             Link FR  \\\n",
       "0  http://www.ejustice.just.fgov.be/cgi/article.p...   \n",
       "3  http://www.ejustice.just.fgov.be/cgi/article.p...   \n",
       "4  http://www.ejustice.just.fgov.be/cgi/article.p...   \n",
       "5  http://www.ejustice.just.fgov.be/cgi/article.p...   \n",
       "6  http://www.ejustice.just.fgov.be/cgi/article.p...   \n",
       "\n",
       "                                             Link NL  \\\n",
       "0  http://www.ejustice.just.fgov.be/cgi/article_b...   \n",
       "3  http://www.ejustice.just.fgov.be/cgi/article_b...   \n",
       "4  http://www.ejustice.just.fgov.be/cgi/article_b...   \n",
       "5  http://www.ejustice.just.fgov.be/cgi/article_b...   \n",
       "6  http://www.ejustice.just.fgov.be/cgi/article_b...   \n",
       "\n",
       "                                                Text  \\\n",
       "0  NL FR\\nbelgiëlex.be   -  Kruispuntbank Wetgevi...   \n",
       "3  NL FR\\n\\neinde eerste woord laatste woord\\nPub...   \n",
       "4  NL FR\\nbelgiëlex.be   -  Kruispuntbank Wetgevi...   \n",
       "5  NL FR\\nbelgiëlex.be   -  Kruispuntbank Wetgevi...   \n",
       "6  NL FR\\n\\neinde eerste woord laatste woord\\nPub...   \n",
       "\n",
       "                                        Cleaned Text  \n",
       "0   :  FEDERALE OVERHEIDSDIENST FINANCIEN  JANUAR...  \n",
       "3   :  FEDERALE OVERHEIDSDIENST FINANCIEN  JANUAR...  \n",
       "4   :  FEDERALE OVERHEIDSDIENST FINANCIEN  JANUAR...  \n",
       "5   :  FEDERALE OVERHEIDSDIENST FINANCIEN  JANUAR...  \n",
       "6   :  FEDERALE OVERHEIDSDIENST FINANCIEN  JANUAR...  "
      ]
     },
     "execution_count": 379,
     "metadata": {},
     "output_type": "execute_result"
    }
   ],
   "source": [
    "df['Cleaned Text'] = corpus\n",
    "\n",
    "df.head()"
   ]
  },
  {
   "cell_type": "code",
   "execution_count": 299,
   "id": "2ebb72a0",
   "metadata": {},
   "outputs": [
    {
     "data": {
      "text/plain": [
       "'for token in tokenized:\\n    \\n    pos = token.pos_\\n    tag = token.tag_\\n    expl1 = spacy.explain(token.pos_)\\n    expl2 = spacy.explain(token.tag_)\\n    dep = token.dep_\\n    print(token, \"-----\", pos, expl1,\\'-----\\', tag, expl2,\\'-----\\',dep)'"
      ]
     },
     "execution_count": 299,
     "metadata": {},
     "output_type": "execute_result"
    }
   ],
   "source": [
    "'''for token in tokenized:\n",
    "    \n",
    "    pos = token.pos_\n",
    "    tag = token.tag_\n",
    "    expl1 = spacy.explain(token.pos_)\n",
    "    expl2 = spacy.explain(token.tag_)\n",
    "    dep = token.dep_\n",
    "    print(token, \"-----\", pos, expl1,'-----', tag, expl2,'-----',dep)'''"
   ]
  },
  {
   "cell_type": "code",
   "execution_count": 300,
   "id": "3512bec9",
   "metadata": {},
   "outputs": [
    {
     "data": {
      "text/plain": [
       "\"from spacy import displacy\\n\\ndisplacy.render(tokenized, jupyter=True, style='ent')\""
      ]
     },
     "execution_count": 300,
     "metadata": {},
     "output_type": "execute_result"
    }
   ],
   "source": [
    "'''from spacy import displacy\n",
    "\n",
    "displacy.render(tokenized, jupyter=True, style='ent')'''"
   ]
  },
  {
   "cell_type": "code",
   "execution_count": null,
   "id": "72b8595f",
   "metadata": {},
   "outputs": [],
   "source": []
  },
  {
   "cell_type": "code",
   "execution_count": null,
   "id": "5e437599",
   "metadata": {},
   "outputs": [],
   "source": []
  },
  {
   "cell_type": "code",
   "execution_count": 277,
   "id": "15d71c04",
   "metadata": {
    "scrolled": true
   },
   "outputs": [
    {
     "name": "stdout",
     "output_type": "stream",
     "text": [
      ":  \n",
      " federale overheidsdienst financien \n",
      "  januari  . - koninklijk besluit remediering dubbelgeb_ruik artikel quater kbwib  \n",
      "\n",
      "\n",
      " filip  koning belg  \n",
      " hierna  groet . \n",
      " gelet artikel      wetboek inkomstenbelasting  in_voeggen wet  december  . \n",
      " gelet kbwib  . \n",
      " gelet koninklijk besluit  november  betreffen administratief begrotingscontrole  artikel   . \n",
      " overwegende bepaling besluit rechtstreeks onrechtstreekse financieel weerslag . \n",
      " gelet wet raad state  coördineren  januari   artikel     . \n",
      " overwegende bepaling besluit reglementair aard . \n",
      " overwegende artikel  koninklijk besluit  december  aanpassing kbwib  ingevolge invoering aftrek groepsbijdrage beperking aftrek intere_st  kbwib  artikel quater invoegt . \n",
      " overwegende artikel  koninklijk besluit  oktober  uitvoering artikel      wetboek inkomstenbelasting  kbwib  artikel quater in_voeggen . \n",
      " overwegende dubbel gebruik artikel quater kbwib  nodig rechtsonzekerheid mee_brengen . \n",
      " voordracht vice-eerste minister minister financiën  \n",
      " besluiten besluiten : \n",
      " artikel  . hoofdstuk i kbwib  afdeling xxviiquater in_voeggen artikel quater bevatten  luiden : \n",
      " \" afdeling xxviiquater . - aftrek groepsbijdrage \n",
      " art. quater . model artikel      wetboek inkomstenbelasting   bedoelen groepsbijdrage-overeenkomst minister bevoegd financiën gedelegeerd vast_stellen . \" . \n",
      " art.  . artikel  koninklijk besluit  december  aanpassing kbwib  ingevolge invoering aftrek groepsbijdrage beperking aftrek interest in_trekken . \n",
      " art.  . besluit toepassing aanslagjaar  belastbaar tijdp_erken aanvang  januari  . \n",
      " art.  . minister bevoegd financiën belasten uitvoering besluit . \n",
      " brussel   januari  . \n",
      " filip \n",
      " koningswege : \n",
      " vice-eerste minister minister financiën  \n",
      " a. croo \n",
      "\n",
      "\n",
      " begin één woord laat woord \n",
      " publicatie : --\n"
     ]
    }
   ],
   "source": []
  },
  {
   "cell_type": "code",
   "execution_count": 283,
   "id": "37203435",
   "metadata": {},
   "outputs": [
    {
     "data": {
      "text/plain": [
       "['federale',\n",
       " 'overheidsdienst',\n",
       " 'financien',\n",
       " 'januari',\n",
       " 'koninklijk',\n",
       " 'besluit',\n",
       " 'tot',\n",
       " 'remediering',\n",
       " 'van',\n",
       " 'het',\n",
       " 'van',\n",
       " 'artikel',\n",
       " 'in',\n",
       " 'het',\n",
       " 'filip',\n",
       " 'koning',\n",
       " 'de',\n",
       " 'belg',\n",
       " 'aan',\n",
       " 'al',\n",
       " 'die',\n",
       " 'nu',\n",
       " 'zijn',\n",
       " 'en',\n",
       " 'hierna',\n",
       " 'wezen',\n",
       " 'zullen',\n",
       " 'onze',\n",
       " 'groet',\n",
       " 'gelet',\n",
       " 'op',\n",
       " 'artikel',\n",
       " 'van',\n",
       " 'het',\n",
       " 'wetboek',\n",
       " 'van',\n",
       " 'de',\n",
       " 'inkomstenbelasting',\n",
       " 'bij',\n",
       " 'de',\n",
       " 'wet',\n",
       " 'van',\n",
       " 'december',\n",
       " 'gelet',\n",
       " 'op',\n",
       " 'het',\n",
       " 'gelet',\n",
       " 'op',\n",
       " 'het',\n",
       " 'koninklijk',\n",
       " 'besluit',\n",
       " 'van',\n",
       " 'november',\n",
       " 'betreffen',\n",
       " 'de',\n",
       " 'administratief',\n",
       " 'en',\n",
       " 'begrotingscontrole',\n",
       " 'artikel',\n",
       " 'en',\n",
       " 'overwegende',\n",
       " 'dat',\n",
       " 'de',\n",
       " 'bepaling',\n",
       " 'van',\n",
       " 'dit',\n",
       " 'besluit',\n",
       " 'geen',\n",
       " 'rechtstreeks',\n",
       " 'of',\n",
       " 'onrechtstreekse',\n",
       " 'financieel',\n",
       " 'weerslag',\n",
       " 'kunnen',\n",
       " 'hebben',\n",
       " 'gelet',\n",
       " 'op',\n",
       " 'de',\n",
       " 'wet',\n",
       " 'op',\n",
       " 'de',\n",
       " 'raad',\n",
       " 'van',\n",
       " 'state',\n",
       " 'coördineren',\n",
       " 'op',\n",
       " 'januari',\n",
       " 'artikel',\n",
       " 'overwegende',\n",
       " 'dat',\n",
       " 'de',\n",
       " 'bepaling',\n",
       " 'van',\n",
       " 'dit',\n",
       " 'besluit',\n",
       " 'niet',\n",
       " 'reglementair',\n",
       " 'van',\n",
       " 'aard',\n",
       " 'zijn',\n",
       " 'overwegende',\n",
       " 'dat',\n",
       " 'artikel',\n",
       " 'van',\n",
       " 'het',\n",
       " 'koninklijk',\n",
       " 'besluit',\n",
       " 'van',\n",
       " 'december',\n",
       " 'tot',\n",
       " 'aanpassing',\n",
       " 'van',\n",
       " 'het',\n",
       " 'ingevolge',\n",
       " 'de',\n",
       " 'invoering',\n",
       " 'van',\n",
       " 'de',\n",
       " 'aftrek',\n",
       " 'van',\n",
       " 'de',\n",
       " 'groepsbijdrage',\n",
       " 'en',\n",
       " 'van',\n",
       " 'de',\n",
       " 'beperking',\n",
       " 'op',\n",
       " 'de',\n",
       " 'aftrek',\n",
       " 'van',\n",
       " 'in',\n",
       " 'het',\n",
       " 'een',\n",
       " 'artikel',\n",
       " 'invoegt',\n",
       " 'overwegende',\n",
       " 'dat',\n",
       " 'artikel',\n",
       " 'van',\n",
       " 'het',\n",
       " 'koninklijk',\n",
       " 'besluit',\n",
       " 'van',\n",
       " 'oktober',\n",
       " 'tot',\n",
       " 'uitvoering',\n",
       " 'van',\n",
       " 'artikel',\n",
       " 'van',\n",
       " 'het',\n",
       " 'wetboek',\n",
       " 'van',\n",
       " 'de',\n",
       " 'inkomstenbelasting',\n",
       " 'eveneens',\n",
       " 'in',\n",
       " 'het',\n",
       " 'een',\n",
       " 'artikel',\n",
       " 'hebben',\n",
       " 'overwegende',\n",
       " 'dat',\n",
       " 'het',\n",
       " 'dubbel',\n",
       " 'gebruik',\n",
       " 'van',\n",
       " 'dit',\n",
       " 'artikel',\n",
       " 'in',\n",
       " 'het',\n",
       " 'de',\n",
       " 'nodig',\n",
       " 'rechtsonzekerheid',\n",
       " 'met',\n",
       " 'zich',\n",
       " 'op',\n",
       " 'de',\n",
       " 'voordracht',\n",
       " 'van',\n",
       " 'de',\n",
       " 'minister',\n",
       " 'en',\n",
       " 'de',\n",
       " 'minister',\n",
       " 'van',\n",
       " 'financiën',\n",
       " 'hebben',\n",
       " 'wij',\n",
       " 'besluiten',\n",
       " 'en',\n",
       " 'besluiten',\n",
       " 'wij',\n",
       " 'artikel',\n",
       " 'in',\n",
       " 'hoofdstuk',\n",
       " 'i',\n",
       " 'van',\n",
       " 'het',\n",
       " 'worden',\n",
       " 'een',\n",
       " 'afdeling',\n",
       " 'die',\n",
       " 'het',\n",
       " 'artikel',\n",
       " 'bevatten',\n",
       " 'luiden',\n",
       " 'afdeling',\n",
       " 'aftrek',\n",
       " 'van',\n",
       " 'de',\n",
       " 'groepsbijdrage',\n",
       " 'het',\n",
       " 'model',\n",
       " 'van',\n",
       " 'de',\n",
       " 'in',\n",
       " 'artikel',\n",
       " 'van',\n",
       " 'het',\n",
       " 'wetboek',\n",
       " 'van',\n",
       " 'de',\n",
       " 'inkomstenbelasting',\n",
       " 'bedoelen',\n",
       " 'worden',\n",
       " 'door',\n",
       " 'de',\n",
       " 'minister',\n",
       " 'die',\n",
       " 'bevoegd',\n",
       " 'zijn',\n",
       " 'voor',\n",
       " 'financiën',\n",
       " 'of',\n",
       " 'zijn',\n",
       " 'gedelegeerd',\n",
       " 'artikel',\n",
       " 'van',\n",
       " 'het',\n",
       " 'koninklijk',\n",
       " 'besluit',\n",
       " 'van',\n",
       " 'december',\n",
       " 'tot',\n",
       " 'aanpassing',\n",
       " 'van',\n",
       " 'het',\n",
       " 'ingevolge',\n",
       " 'de',\n",
       " 'invoering',\n",
       " 'van',\n",
       " 'de',\n",
       " 'aftrek',\n",
       " 'van',\n",
       " 'de',\n",
       " 'groepsbijdrage',\n",
       " 'en',\n",
       " 'van',\n",
       " 'de',\n",
       " 'beperking',\n",
       " 'op',\n",
       " 'de',\n",
       " 'aftrek',\n",
       " 'van',\n",
       " 'interest',\n",
       " 'worden',\n",
       " 'dit',\n",
       " 'besluit',\n",
       " 'zijn',\n",
       " 'van',\n",
       " 'toepassing',\n",
       " 'vanaf',\n",
       " 'aanslagjaar',\n",
       " 'voor',\n",
       " 'de',\n",
       " 'belastbaar',\n",
       " 'die',\n",
       " 'te',\n",
       " 'vroeg',\n",
       " 'aanvang',\n",
       " 'op',\n",
       " 'januari',\n",
       " 'de',\n",
       " 'minister',\n",
       " 'bevoegd',\n",
       " 'voor',\n",
       " 'financiën',\n",
       " 'zijn',\n",
       " 'belasten',\n",
       " 'met',\n",
       " 'de',\n",
       " 'uitvoering',\n",
       " 'van',\n",
       " 'dit',\n",
       " 'besluit',\n",
       " 'geven',\n",
       " 'te',\n",
       " 'brussel',\n",
       " 'januari',\n",
       " 'filip',\n",
       " 'van',\n",
       " 'koningswege',\n",
       " 'de',\n",
       " 'minister',\n",
       " 'en',\n",
       " 'minister',\n",
       " 'van',\n",
       " 'financiën',\n",
       " 'de',\n",
       " 'croo',\n",
       " 'begin',\n",
       " 'één',\n",
       " 'woord',\n",
       " 'laat',\n",
       " 'woord',\n",
       " 'publicatie']"
      ]
     },
     "execution_count": 283,
     "metadata": {},
     "output_type": "execute_result"
    }
   ],
   "source": [
    "alpha_lemmas = [lemma for lemma in lemmas if lemma.isalpha() or lemma == '-PRON-']\n",
    "alpha_lemmas"
   ]
  },
  {
   "cell_type": "code",
   "execution_count": 41,
   "id": "7b93efe4",
   "metadata": {},
   "outputs": [
    {
     "name": "stdout",
     "output_type": "stream",
     "text": [
      "federale overheidsdienst financien januari koninklijk besluit remediering artikel filip koning belg hierna groet gelet artikel wetboek inkomstenbelasting wet december gelet gelet koninklijk besluit november betreffen administratief begrotingscontrole artikel overwegende bepaling besluit rechtstreeks onrechtstreekse financieel weerslag gelet wet raad state coördineren januari artikel overwegende bepaling besluit reglementair aard overwegende artikel koninklijk besluit december aanpassing ingevolge invoering aftrek groepsbijdrage beperking aftrek artikel invoegt overwegende artikel koninklijk besluit oktober uitvoering artikel wetboek inkomstenbelasting artikel overwegende dubbel gebruik artikel nodig rechtsonzekerheid voordracht minister minister financiën besluiten besluiten artikel hoofdstuk i afdeling artikel bevatten luiden afdeling aftrek groepsbijdrage model artikel wetboek inkomstenbelasting bedoelen minister bevoegd financiën gedelegeerd artikel koninklijk besluit december aanpassing ingevolge invoering aftrek groepsbijdrage beperking aftrek interest besluit toepassing aanslagjaar belastbaar aanvang januari minister bevoegd financiën belasten uitvoering besluit brussel januari filip koningswege minister minister financiën croo begin één woord laat woord publicatie\n",
      "1291\n"
     ]
    }
   ],
   "source": [
    "stopwords = spacy.lang.nl.stop_words.STOP_WORDS\n",
    "\n",
    "text_no_stop = [lemma for lemma in lemmas if lemma.isalpha() and lemma not in stopwords]\n",
    "cleaned_text = ' '.join(text_no_stop)\n",
    "\n",
    "print(cleaned_text)\n",
    "print(len(cleaned_text))"
   ]
  },
  {
   "cell_type": "code",
   "execution_count": null,
   "id": "05bd91f1",
   "metadata": {},
   "outputs": [],
   "source": [
    "'''\n",
    "\n",
    "from sklearn.feature_extraction.text import TfidfVectorizer\n",
    "\n",
    "X = pd.DataFrame([text], columns=['Cleaned Text'])\n",
    "\n",
    "\n",
    "vectorizer = TfidfVectorizer()\n",
    "\n",
    "input_ = df['Cleaned Text'][4]\n",
    "\n",
    "\n",
    "tfidf_matrix = vectorizer.fit_transform(X['Cleaned Text'])\n",
    "print(tfidf_matrix.toarray())\n",
    "\n",
    "\n",
    "\n",
    "--------------------------------------\n",
    "\n",
    "\n",
    "X_train = pd.DataFrame([text], columns=['speech'])\n",
    "\n",
    "# Create an instance of TfidfVectorizer\n",
    "vectoriser = TfidfVectorizer(analyzer=preprocess_text)\n",
    "# Fit to the data and transform to feature matrix\n",
    "X_train = vectoriser.fit_transform(X_train['speech'])\n",
    "\n",
    "\n",
    "'''"
   ]
  },
  {
   "cell_type": "code",
   "execution_count": 340,
   "id": "84cbec75",
   "metadata": {},
   "outputs": [],
   "source": [
    "import sumy\n",
    "from sumy.parsers.plaintext import PlaintextParser\n",
    "from sumy.nlp.tokenizers import Tokenizer\n",
    "from sumy.summarizers.lex_rank import LexRankSummarizer"
   ]
  },
  {
   "cell_type": "code",
   "execution_count": 341,
   "id": "40e7a195",
   "metadata": {},
   "outputs": [],
   "source": [
    "my_parser = PlaintextParser.from_string(corpus,Tokenizer('dutch'))"
   ]
  },
  {
   "cell_type": "code",
   "execution_count": 342,
   "id": "de062067",
   "metadata": {},
   "outputs": [
    {
     "name": "stdout",
     "output_type": "stream",
     "text": [
      "overwegende artikel   koninklijk besluit   oktober   uitvoering artikel     wetboek inkomstenbelasting   kbwib   artikel quater in_voeggen .\n",
      "brussel   januari .\n"
     ]
    }
   ],
   "source": [
    "# Creating a summary of 3 sentences.\n",
    "lex_rank_summarizer = LexRankSummarizer()\n",
    "lexrank_summary = lex_rank_summarizer(my_parser.document,sentences_count=2)\n",
    "\n",
    "# Printing the summary\n",
    "for sentence in lexrank_summary:\n",
    "  print(sentence)"
   ]
  },
  {
   "cell_type": "code",
   "execution_count": null,
   "id": "32c6f91c",
   "metadata": {},
   "outputs": [],
   "source": []
  },
  {
   "cell_type": "code",
   "execution_count": 343,
   "id": "435732e6",
   "metadata": {},
   "outputs": [],
   "source": [
    "from sumy.summarizers.lsa import LsaSummarizer\n",
    "from sumy.nlp.tokenizers import Tokenizer\n",
    "from sumy.parsers.plaintext import PlaintextParser\n",
    "\n",
    "parser=PlaintextParser.from_string(corpus,Tokenizer('dutch'))"
   ]
  },
  {
   "cell_type": "code",
   "execution_count": 344,
   "id": "f8c01b69",
   "metadata": {},
   "outputs": [
    {
     "name": "stdout",
     "output_type": "stream",
     "text": [
      "gelet koninklijk besluit   november   betreffen administratief begrotingscontrole artikel   .\n",
      "overwegende dubbel gebruik artikel quater kbwib   nodig rechtsonzekerheid mee_brengen .\n",
      "model artikel     wetboek inkomstenbelasting   bedoelen groepsbijdrage-overeenkomst minister bevoegd financiën gedelegeerd vast_stellen . \"\n"
     ]
    }
   ],
   "source": [
    "# creating the summarizer\n",
    "lsa_summarizer=LsaSummarizer()\n",
    "lsa_summary= lsa_summarizer(parser.document,3)\n",
    "\n",
    "# Printing the summary\n",
    "for sentence in lsa_summary:\n",
    "    print(sentence)"
   ]
  },
  {
   "cell_type": "code",
   "execution_count": null,
   "id": "668fcf74",
   "metadata": {},
   "outputs": [],
   "source": []
  },
  {
   "cell_type": "code",
   "execution_count": 345,
   "id": "a7b078c1",
   "metadata": {},
   "outputs": [],
   "source": [
    "# Import the summarizer\n",
    "from sumy.summarizers.luhn import LuhnSummarizer"
   ]
  },
  {
   "cell_type": "code",
   "execution_count": 346,
   "id": "bd128d0c",
   "metadata": {},
   "outputs": [],
   "source": [
    "# Creating the parser\n",
    "from sumy.nlp.tokenizers import Tokenizer\n",
    "from sumy.parsers.plaintext import PlaintextParser\n",
    "parser=PlaintextParser.from_string(corpus,Tokenizer('dutch'))"
   ]
  },
  {
   "cell_type": "code",
   "execution_count": 347,
   "id": "52e67ec7",
   "metadata": {},
   "outputs": [
    {
     "name": "stdout",
     "output_type": "stream",
     "text": [
      "overwegende artikel   koninklijk besluit   december   aanpassing kbwib   ingevolge invoering aftrek groepsbijdrage beperking aftrek interest kbwib   artikel quater invoegt .\n",
      "overwegende artikel   koninklijk besluit   oktober   uitvoering artikel     wetboek inkomstenbelasting   kbwib   artikel quater in_voeggen .\n",
      "art. . artikel   koninklijk besluit   december   aanpassing kbwib   ingevolge invoering aftrek groepsbijdrage beperking aftrek interest in_trekken .\n"
     ]
    }
   ],
   "source": [
    "#  Creating the summarizer\n",
    "luhn_summarizer=LuhnSummarizer()\n",
    "luhn_summary=luhn_summarizer(parser.document,sentences_count=3)\n",
    "\n",
    "# Printing the summary\n",
    "for sentence in luhn_summary:\n",
    "  print(sentence)"
   ]
  },
  {
   "cell_type": "code",
   "execution_count": null,
   "id": "af0693b6",
   "metadata": {},
   "outputs": [],
   "source": []
  },
  {
   "cell_type": "code",
   "execution_count": 348,
   "id": "95d3a0de",
   "metadata": {},
   "outputs": [],
   "source": [
    "from sumy.summarizers.kl import KLSummarizer"
   ]
  },
  {
   "cell_type": "code",
   "execution_count": 349,
   "id": "e9361d0d",
   "metadata": {},
   "outputs": [],
   "source": [
    "# Creating the parser\n",
    "from sumy.nlp.tokenizers import Tokenizer\n",
    "from sumy.parsers.plaintext import PlaintextParser\n",
    "parser=PlaintextParser.from_string(corpus,Tokenizer('dutch'))"
   ]
  },
  {
   "cell_type": "code",
   "execution_count": 350,
   "id": "cc3870c9",
   "metadata": {},
   "outputs": [
    {
     "name": "stdout",
     "output_type": "stream",
     "text": [
      "- koninklijk besluit remediering dubbelgeb_ruik artikel quater kbwib\n",
      "overwegende artikel   koninklijk besluit   oktober   uitvoering artikel     wetboek inkomstenbelasting   kbwib   artikel quater in_voeggen .\n",
      ".\n"
     ]
    }
   ],
   "source": [
    "# Instantiating the  KLSummarizer\n",
    "kl_summarizer=KLSummarizer()\n",
    "kl_summary=kl_summarizer(parser.document,sentences_count=3)\n",
    "\n",
    "# Printing the summary\n",
    "for sentence in kl_summary:\n",
    "    print(sentence)"
   ]
  },
  {
   "cell_type": "code",
   "execution_count": null,
   "id": "a17d4b9b",
   "metadata": {},
   "outputs": [],
   "source": []
  },
  {
   "cell_type": "code",
   "execution_count": 351,
   "id": "d0bdae40",
   "metadata": {},
   "outputs": [],
   "source": [
    "from transformers import T5Tokenizer, T5Config, T5ForConditionalGeneration"
   ]
  },
  {
   "cell_type": "code",
   "execution_count": 352,
   "id": "8bcdd2a5",
   "metadata": {
    "scrolled": true
   },
   "outputs": [
    {
     "name": "stderr",
     "output_type": "stream",
     "text": [
      "C:\\Users\\krist\\anaconda3\\envs\\tf\\lib\\site-packages\\transformers\\models\\t5\\tokenization_t5.py:163: FutureWarning: This tokenizer was incorrectly instantiated with a model max length of 512 which will be corrected in Transformers v5.\n",
      "For now, this behavior is kept to avoid breaking backwards compatibility when padding/encoding with `truncation is True`.\n",
      "- Be aware that you SHOULD NOT rely on t5-small automatically truncating your input to 512 when padding/encoding.\n",
      "- If you want to encode/pad to sequences longer than 512 you can either instantiate this tokenizer with `model_max_length` or pass `max_length` when encoding/padding.\n",
      "- To avoid this warning, please instantiate this tokenizer with `model_max_length` set to your preferred value.\n",
      "  warnings.warn(\n"
     ]
    }
   ],
   "source": [
    "# Instantiating the model and tokenizer \n",
    "my_model = T5ForConditionalGeneration.from_pretrained('t5-small')\n",
    "tokenizer = T5Tokenizer.from_pretrained('t5-small')"
   ]
  },
  {
   "cell_type": "code",
   "execution_count": 353,
   "id": "8b4af6eb",
   "metadata": {},
   "outputs": [
    {
     "data": {
      "text/plain": [
       "'summarize:: \\n federale overheidsdienst financien \\n  januari . - koninklijk besluit remediering dubbelgeb_ruik artikel quater kbwib \\n\\n\\n filip koning belg \\n hierna groet . \\n gelet artikel     wetboek inkomstenbelasting   in_voeggen wet   december . \\n gelet kbwib . \\n gelet koninklijk besluit   november   betreffen administratief begrotingscontrole artikel   . \\n overwegende bepaling besluit rechtstreeks onrechtstreekse financieel weerslag . \\n gelet wet raad state coördineren   januari   artikel    . \\n overwegende bepaling besluit reglementair aard . \\n overwegende artikel   koninklijk besluit   december   aanpassing kbwib   ingevolge invoering aftrek groepsbijdrage beperking aftrek interest kbwib   artikel quater invoegt . \\n overwegende artikel   koninklijk besluit   oktober   uitvoering artikel     wetboek inkomstenbelasting   kbwib   artikel quater in_voeggen . \\n overwegende dubbel gebruik artikel quater kbwib   nodig rechtsonzekerheid mee_brengen . \\n voordracht vice-eerste minister minister financiën \\n besluiten besluiten : \\n artikel . hoofdstuk i kbwib   afdeling xxviiquater in_voeggen artikel quater bevatten luiden : \\n \" afdeling xxviiquater . - aftrek groepsbijdrage \\n art. quater . model artikel     wetboek inkomstenbelasting   bedoelen groepsbijdrage-overeenkomst minister bevoegd financiën gedelegeerd vast_stellen . \" . \\n art. . artikel   koninklijk besluit   december   aanpassing kbwib   ingevolge invoering aftrek groepsbijdrage beperking aftrek interest in_trekken . \\n art. . besluit toepassing aanslagjaar   belastbaar tijdp_erken aanvang   januari . \\n art. . minister bevoegd financiën belasten uitvoering besluit . \\n brussel   januari . \\n filip \\n koningswege : \\n vice-eerste minister minister financiën \\n a. croo \\n\\n\\n '"
      ]
     },
     "execution_count": 353,
     "metadata": {},
     "output_type": "execute_result"
    }
   ],
   "source": [
    "# Concatenating the word \"summarize:\" to raw text\n",
    "text = \"summarize:\" + corpus\n",
    "text"
   ]
  },
  {
   "cell_type": "code",
   "execution_count": 354,
   "id": "a06d9193",
   "metadata": {},
   "outputs": [
    {
     "name": "stderr",
     "output_type": "stream",
     "text": [
      "Truncation was not explicitly activated but `max_length` is provided a specific value, please use `truncation=True` to explicitly truncate examples to max length. Defaulting to 'longest_first' truncation strategy. If you encode pairs of sequences (GLUE-style) with the tokenizer you can select this strategy more precisely by providing a specific strategy to `truncation`.\n"
     ]
    }
   ],
   "source": [
    "# encoding the input text\n",
    "input_ids=tokenizer.encode(text, return_tensors='pt', max_length=512)"
   ]
  },
  {
   "cell_type": "code",
   "execution_count": 355,
   "id": "1dfb0f4e",
   "metadata": {},
   "outputs": [
    {
     "data": {
      "text/plain": [
       "tensor([[    0,  2822,    15,   147,    88,    23,    26,     7,  7691,  2202,\n",
       "         11098,     3,  7066,    76,  1665,     3,     5, 10447,  6090,    40]])"
      ]
     },
     "execution_count": 355,
     "metadata": {},
     "output_type": "execute_result"
    }
   ],
   "source": [
    "# Generating summary ids\n",
    "summary_ids = my_model.generate(input_ids)\n",
    "summary_ids"
   ]
  },
  {
   "cell_type": "code",
   "execution_count": 356,
   "id": "54356976",
   "metadata": {},
   "outputs": [
    {
     "name": "stdout",
     "output_type": "stream",
     "text": [
      "<pad> federale overheidsdienst financien januari. koninkl\n"
     ]
    }
   ],
   "source": [
    "# Decoding the tensor and printing the summary.\n",
    "t5_summary = tokenizer.decode(summary_ids[0])\n",
    "print(t5_summary)"
   ]
  },
  {
   "cell_type": "code",
   "execution_count": null,
   "id": "3609e2db",
   "metadata": {},
   "outputs": [],
   "source": []
  },
  {
   "cell_type": "code",
   "execution_count": 357,
   "id": "2b569b58",
   "metadata": {},
   "outputs": [],
   "source": [
    "# Importing the model\n",
    "from transformers import BartForConditionalGeneration, BartTokenizer, BartConfig"
   ]
  },
  {
   "cell_type": "code",
   "execution_count": 358,
   "id": "c1c1abf6",
   "metadata": {},
   "outputs": [],
   "source": [
    "# Loading the model and tokenizer for bart-large-cnn\n",
    "\n",
    "tokenizer=BartTokenizer.from_pretrained('facebook/bart-large-cnn')\n",
    "model=BartForConditionalGeneration.from_pretrained('facebook/bart-large-cnn')"
   ]
  },
  {
   "cell_type": "code",
   "execution_count": 359,
   "id": "4a1ea6f0",
   "metadata": {},
   "outputs": [
    {
     "data": {
      "text/plain": [
       "tensor([[    2,     0,     0,    35,  1437,  1437, 32584,  1627, 27169,  7823,\n",
       "           417,  2495,   620, 23019,  2520,   225,  1437,  1437,  1437,  1236,\n",
       "         11115,  1512,   479,   111,   449,   261,  4291,   462, 18474,  9988,\n",
       "          6487,   405, 22104,   906,   154, 30180,  8494,  1899,   428,  1215,\n",
       "          2070,   967,  1808,  4348,   462,  2677,  5109, 47063,   605,  1452,\n",
       "             4,  1437, 50141,  1437,  1437,  5673,   241, 26127, 32626,   415,\n",
       "         14134, 21422, 12179,  1033, 10800, 35080,  1808,  4348,   890,  1437,\n",
       "          1437,   479,  1437,  1437,    81,  1694,   571, 14537,    28,   642,\n",
       "          8279,  1437,  1437,   769,  8797,   620,  5314,  2258,    15,   241,\n",
       "          8797,   620, 18230,  1090,  8746,  3290,   324,   523,    52,   268,\n",
       "         23546,     4,  4832,  1437,  1437,  2626,    12, 22719,  6526,  1269,\n",
       "          1269, 23019,  2520,   105,   282,  1437,  1437, 11398,   139,    10,\n",
       "         11398,   139,  1437, 36537,   139,  1437,  6466,   139,    10,  6466,\n",
       "           139,     4,     2]])"
      ]
     },
     "execution_count": 359,
     "metadata": {},
     "output_type": "execute_result"
    }
   ],
   "source": [
    "# Encoding the inputs and passing them to model.generate()\n",
    "inputs = tokenizer.batch_encode_plus([corpus],return_tensors='pt', truncation=True)\n",
    "summary_ids = model.generate(inputs['input_ids'], early_stopping=True)\n",
    "summary_ids"
   ]
  },
  {
   "cell_type": "code",
   "execution_count": 360,
   "id": "8c972926",
   "metadata": {},
   "outputs": [
    {
     "name": "stdout",
     "output_type": "stream",
     "text": [
      ":   federale overheidsdienst financien    januari. - koninklijk besluit remediering dubbelgeb_ruik artikel quater kbwib.     betreffen administratief begrotingscontrole artikell  .   overwegende bepaling   rechtstreeks onrechtstreekse financieel weerslag. :   vice-eerste minister minister financiën   croo a croo Croo  Croo a Croo.\n"
     ]
    }
   ],
   "source": [
    "# Decoding and printing the summary\n",
    "bart_summary = tokenizer.decode(summary_ids[0], skip_special_tokens=True)\n",
    "print(bart_summary)"
   ]
  },
  {
   "cell_type": "code",
   "execution_count": null,
   "id": "22869681",
   "metadata": {},
   "outputs": [],
   "source": []
  },
  {
   "cell_type": "code",
   "execution_count": 361,
   "id": "f0ae015b",
   "metadata": {},
   "outputs": [],
   "source": [
    "from transformers import GPT2Tokenizer,GPT2LMHeadModel"
   ]
  },
  {
   "cell_type": "code",
   "execution_count": 362,
   "id": "5c38c88d",
   "metadata": {},
   "outputs": [],
   "source": [
    "# Instantiating the model and tokenizer with gpt-2\n",
    "tokenizer=GPT2Tokenizer.from_pretrained('gpt2')\n",
    "model=GPT2LMHeadModel.from_pretrained('gpt2')\n"
   ]
  },
  {
   "cell_type": "code",
   "execution_count": 363,
   "id": "1a66b975",
   "metadata": {},
   "outputs": [
    {
     "name": "stderr",
     "output_type": "stream",
     "text": [
      "Truncation was not explicitly activated but `max_length` is provided a specific value, please use `truncation=True` to explicitly truncate examples to max length. Defaulting to 'longest_first' truncation strategy. If you encode pairs of sequences (GLUE-style) with the tokenizer you can select this strategy more precisely by providing a specific strategy to `truncation`.\n",
      "Setting `pad_token_id` to `eos_token_id`:50256 for open-end generation.\n",
      "Input length of input_ids is 512, but ``max_length`` is set to 20. This can lead to unexpected behavior. You should consider increasing ``config.max_length`` or ``max_length``.\n"
     ]
    }
   ],
   "source": [
    "# Encoding text to get input ids & pass them to model.generate()\n",
    "inputs=tokenizer.batch_encode_plus([corpus],return_tensors='pt',max_length=512)\n",
    "summary_ids=model.generate(inputs['input_ids'],early_stopping=True)"
   ]
  },
  {
   "cell_type": "code",
   "execution_count": 364,
   "id": "410b47b6",
   "metadata": {},
   "outputs": [
    {
     "name": "stdout",
     "output_type": "stream",
     "text": [
      ": \n",
      " federale overheidsdienst financien \n",
      "  januari. - koninklijk besluit remediering dubbelgeb_ruik artikel quater kbwib \n",
      "\n",
      "\n",
      " filip koning belg \n",
      " hierna groet. \n",
      " gelet artikel     wetboek inkomstenbelasting   in_voeggen wet   december. \n",
      " gelet kbwib. \n",
      " gelet koninklijk besluit   november   betreffen administratief begrotingscontrole artikel  . \n",
      " overwegende bepaling besluit rechtstreeks onrechtstreekse financieel weerslag. \n",
      " gelet wet raad state coördineren   januari   artikel   . \n",
      " overwegende bepaling besluit reglementair aard. \n",
      " overwegende artikel   koninklijk besluit   december   aanpassing kbwib   ingevolge invoering aftrek groepsbijdrage beperking aftrek interest kbwib   artikel quater invoegt. \n",
      " overwegende artikel   koninklijk besluit   oktober   uitvoering artikel     wetboek inkomstenbelasting   kbwib   artikel quater in_voeggen. \n",
      " overwegende dubbel gebruik artikel quater kbwib   nodig rechtsonzekerheid mee_brengen. \n",
      " voordracht vice-eerste minister minister financiën \n",
      " besluiten besluiten : \n",
      " artikel. hoofdstuk i kbwib   afdeling xxviiquater in_voeggen artikel quater bevatten luiden : \n",
      " \" afdeling xxviiquater. - aftrek groepsbijdrage \n",
      " art. quater. model artikel     wetboek inkomstenbelasting   bedoelen groepsbijdrage- \n"
     ]
    }
   ],
   "source": [
    "# Decoding and printing summary\n",
    "\n",
    "GPT_summary=tokenizer.decode(summary_ids[0],skip_special_tokens=True)\n",
    "print(GPT_summary)"
   ]
  },
  {
   "cell_type": "code",
   "execution_count": null,
   "id": "82ed50c1",
   "metadata": {},
   "outputs": [],
   "source": []
  },
  {
   "cell_type": "code",
   "execution_count": 380,
   "id": "199f2d6f",
   "metadata": {},
   "outputs": [
    {
     "name": "stderr",
     "output_type": "stream",
     "text": [
      "Your max_length is set to 1024, but you input_length is only 607. You might consider decreasing max_length manually, e.g. summarizer('...', max_length=303)\n"
     ]
    },
    {
     "data": {
      "text/plain": [
       "'De Vice-Eerste Minister en de Minister van Financiën zijn belast met de uitvoering van dit besluit . Overwegende dat de bepalingen van dit besluit geen rechtstreekse of onrechtstreekse financiële weerslag kunnen hebben . De minister bevoegd voor Financiën is belast met de uitvoering van dit besluit .'"
      ]
     },
     "execution_count": 380,
     "metadata": {},
     "output_type": "execute_result"
    }
   ],
   "source": [
    "import transformers\n",
    "\n",
    "undisputed_best_model = transformers.MBartForConditionalGeneration.from_pretrained(\n",
    "    \"ml6team/mbart-large-cc25-cnn-dailymail-nl\"\n",
    ")\n",
    "tokenizer = transformers.MBartTokenizer.from_pretrained(\"facebook/mbart-large-cc25\")\n",
    "summarization_pipeline = transformers.pipeline(\n",
    "    task=\"summarization\",\n",
    "    model=undisputed_best_model,\n",
    "    tokenizer=tokenizer,\n",
    ")\n",
    "summarization_pipeline.model.config.decoder_start_token_id = tokenizer.lang_code_to_id[\n",
    "    \"nl_XX\"\n",
    "]\n",
    "\n",
    "article = corpus  # Dutch\n",
    "summarization_pipeline(\n",
    "    article,\n",
    "    do_sample=True,\n",
    "    top_p=0.75,\n",
    "    top_k=50,\n",
    "    # num_beams=4,\n",
    "    min_length=50,\n",
    "    early_stopping=True,\n",
    "    truncation=True,\n",
    ")[0][\"summary_text\"]"
   ]
  },
  {
   "cell_type": "code",
   "execution_count": 385,
   "id": "eac2d9db",
   "metadata": {},
   "outputs": [
    {
     "name": "stderr",
     "output_type": "stream",
     "text": [
      "Your max_length is set to 1024, but you input_length is only 607. You might consider decreasing max_length manually, e.g. summarizer('...', max_length=303)\n"
     ]
    },
    {
     "data": {
      "text/plain": [
       "'De minister van Financiën, A. DE CROO, en de minister van Financiën, A. IJsmond, hebben in het koninklijk besluit van oktober tot aanpassing van het KBWIB een artikel quater ingevoegd, dat de aftrek van de groepsbijdrage en de beperking op de aftrek van interesten ingaat.'"
      ]
     },
     "execution_count": 385,
     "metadata": {},
     "output_type": "execute_result"
    }
   ],
   "source": [
    "import transformers\n",
    "undisputed_best_model = transformers.MBartForConditionalGeneration.from_pretrained(\n",
    "    \"ml6team/mbart-large-cc25-cnn-dailymail-nl-finetune\"\n",
    ")\n",
    "tokenizer = transformers.MBartTokenizer.from_pretrained(\"facebook/mbart-large-cc25\")\n",
    "summarization_pipeline = transformers.pipeline(\n",
    "    task=\"summarization\",\n",
    "    model=undisputed_best_model,\n",
    "    tokenizer=tokenizer,\n",
    ")\n",
    "summarization_pipeline.model.config.decoder_start_token_id = tokenizer.lang_code_to_id[\n",
    "    \"nl_XX\"\n",
    "]\n",
    "article = corpus  # Dutch\n",
    "summarization_pipeline(\n",
    "    article,\n",
    "    do_sample=True,\n",
    "    top_p=0.75,\n",
    "    top_k=50,\n",
    "    # num_beams=4,\n",
    "    min_length=50,\n",
    "    early_stopping=True,\n",
    "    truncation=True,\n",
    ")[0][\"summary_text\"]"
   ]
  },
  {
   "cell_type": "code",
   "execution_count": 382,
   "id": "79b4e1b8",
   "metadata": {},
   "outputs": [
    {
     "name": "stderr",
     "output_type": "stream",
     "text": [
      "Your max_length is set to 1024, but you input_length is only 607. You might consider decreasing max_length manually, e.g. summarizer('...', max_length=303)\n"
     ]
    },
    {
     "data": {
      "text/plain": [
       "'XXVIIquater . - Aftrek van de groepsbijdrage Art. quater . XXVIIquater . - Aftrek van de groepsbijdrage Art. quater . Het model van de in artikel , , van het Wetboek van de inkomstenbelastingen , bedoelde groepsbijdrage-overeenkomst wordt door de minister van Financiën .'"
      ]
     },
     "execution_count": 382,
     "metadata": {},
     "output_type": "execute_result"
    }
   ],
   "source": [
    "import transformers\n",
    "\n",
    "undisputed_best_model = transformers.MBartForConditionalGeneration.from_pretrained(\n",
    "    \"ml6team/mbart-large-cc25-cnn-dailymail-xsum-nl\"\n",
    ")\n",
    "tokenizer = transformers.MBartTokenizer.from_pretrained(\"facebook/mbart-large-cc25\")\n",
    "summarization_pipeline = transformers.pipeline(\n",
    "    task=\"summarization\",\n",
    "    model=undisputed_best_model,\n",
    "    tokenizer=tokenizer,\n",
    ")\n",
    "summarization_pipeline.model.config.decoder_start_token_id = tokenizer.lang_code_to_id[\n",
    "    \"nl_XX\"\n",
    "]\n",
    "\n",
    "article = corpus  # Dutch\n",
    "summarization_pipeline(\n",
    "    article,\n",
    "    do_sample=True,\n",
    "    top_p=0.75,\n",
    "    top_k=50,\n",
    "    min_length=50,\n",
    "    early_stopping=True,\n",
    "    truncation=True,\n",
    ")[0][\"summary_text\"]"
   ]
  },
  {
   "cell_type": "code",
   "execution_count": 366,
   "id": "f912679e",
   "metadata": {},
   "outputs": [],
   "source": [
    "from transformers import AutoTokenizer, AutoModelForSeq2SeqLM\n",
    "\n",
    "tokenizer = AutoTokenizer.from_pretrained(\"ml6team/distilbart-tos-summarizer-tosdr\")\n",
    "\n",
    "model = AutoModelForSeq2SeqLM.from_pretrained(\"ml6team/distilbart-tos-summarizer-tosdr\")"
   ]
  },
  {
   "cell_type": "code",
   "execution_count": 367,
   "id": "98896d10",
   "metadata": {},
   "outputs": [
    {
     "name": "stderr",
     "output_type": "stream",
     "text": [
      "[nltk_data] Downloading package punkt to\n",
      "[nltk_data]     C:\\Users\\krist\\AppData\\Roaming\\nltk_data...\n",
      "[nltk_data]   Package punkt is already up-to-date!\n"
     ]
    },
    {
     "name": "stdout",
     "output_type": "stream",
     "text": [
      "The service collects many different types of personal data. The service provides information about how they intend to use yourpersonal data. Users agree not to submit libelous, harassing or threatening content. Users who have been permanently banned from this service are not allowed to re-register under a new account. You have the right to leave this service at any time.\n"
     ]
    }
   ],
   "source": [
    "import re\n",
    "import nltk\n",
    "nltk.download('punkt')\n",
    "from sumy.parsers.plaintext import PlaintextParser\n",
    "from sumy.nlp.tokenizers import Tokenizer\n",
    "from sumy.nlp.stemmers import Stemmer\n",
    "from sumy.summarizers.lsa import LsaSummarizer\n",
    "from transformers import AutoTokenizer, AutoModelForSeq2SeqLM\n",
    "\n",
    "LANGUAGE = \"dutch\"\n",
    "EXTRACTED_ARTICLE_SENTENCES_LEN = 50\n",
    "\n",
    "stemmer = Stemmer(LANGUAGE)\n",
    "lsa_summarizer = LsaSummarizer(stemmer)\n",
    "tokenizer = AutoTokenizer.from_pretrained(\"ml6team/distilbart-tos-summarizer-tosdr\")\n",
    "model = AutoModelForSeq2SeqLM.from_pretrained(\"ml6team/distilbart-tos-summarizer-tosdr\")\n",
    "\n",
    "def get_extractive_summary(text, sentences_count):\n",
    "    parser = PlaintextParser.from_string(text, Tokenizer(LANGUAGE))\n",
    "    summarized_info = lsa_summarizer(parser.document, sentences_count)\n",
    "    summarized_info = [element._text for element in summarized_info]\n",
    "    return ' '.join(summarized_info)\n",
    "\n",
    "def get_summary(dict_summarizer_model, dict_tokenizer, text_content):\n",
    "    text_content = get_extractive_summary(text_content, EXTRACTED_ARTICLE_SENTENCES_LEN)\n",
    "    tokenizer = dict_tokenizer['tokenizer']\n",
    "    model = dict_summarizer_model['model']\n",
    "\n",
    "    inputs = tokenizer(text_content, max_length=dict_tokenizer['max_length'], truncation=True, return_tensors=\"pt\")\n",
    "    outputs = model.generate(\n",
    "          inputs[\"input_ids\"], max_length=dict_summarizer_model['max_length'], min_length=dict_summarizer_model['min_length'], \n",
    "  )\n",
    "\n",
    "    summarized_text = tokenizer.decode(outputs[0])\n",
    "    match = re.search(r\"<s>(.*)</s>\", summarized_text)\n",
    "    if match is not None: summarized_text = match.group(1)\n",
    "\n",
    "    return summarized_text.replace('<s>', '').replace('</s>', '') \n",
    "  \n",
    "test_tos = corpus\n",
    "\n",
    "\n",
    "model_dict = {\n",
    "  'model': model, \n",
    "  'max_length': 2048,\n",
    "  'min_length': 4\n",
    "}\n",
    "\n",
    "tokenizer_dict = {\n",
    "  'tokenizer': tokenizer, \n",
    "  'max_length': 1024\n",
    "}\n",
    "\n",
    "print(get_summary(model_dict, tokenizer_dict, test_tos))"
   ]
  },
  {
   "cell_type": "code",
   "execution_count": null,
   "id": "fa483322",
   "metadata": {},
   "outputs": [],
   "source": []
  },
  {
   "cell_type": "code",
   "execution_count": null,
   "id": "a362a513",
   "metadata": {},
   "outputs": [],
   "source": []
  },
  {
   "cell_type": "code",
   "execution_count": null,
   "id": "164ccd45",
   "metadata": {},
   "outputs": [],
   "source": []
  },
  {
   "cell_type": "code",
   "execution_count": null,
   "id": "d43c325a",
   "metadata": {},
   "outputs": [],
   "source": []
  }
 ],
 "metadata": {
  "kernelspec": {
   "display_name": "tf",
   "language": "python",
   "name": "tf"
  },
  "language_info": {
   "codemirror_mode": {
    "name": "ipython",
    "version": 3
   },
   "file_extension": ".py",
   "mimetype": "text/x-python",
   "name": "python",
   "nbconvert_exporter": "python",
   "pygments_lexer": "ipython3",
   "version": "3.9.12"
  }
 },
 "nbformat": 4,
 "nbformat_minor": 5
}
