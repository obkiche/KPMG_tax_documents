{
 "cells": [
  {
   "cell_type": "code",
   "execution_count": 1,
   "id": "c6a6da92",
   "metadata": {},
   "outputs": [
    {
     "name": "stderr",
     "output_type": "stream",
     "text": [
      "C:\\Users\\krist\\anaconda3\\envs\\tf\\lib\\site-packages\\tqdm\\auto.py:22: TqdmWarning: IProgress not found. Please update jupyter and ipywidgets. See https://ipywidgets.readthedocs.io/en/stable/user_install.html\n",
      "  from .autonotebook import tqdm as notebook_tqdm\n"
     ]
    }
   ],
   "source": [
    "import pandas as pd\n",
    "import numpy as np\n",
    "import re\n",
    "import spacy\n",
    "import transformers\n",
    "\n",
    "import selenium\n",
    "from selenium import webdriver\n",
    "from selenium.webdriver.common.by import By"
   ]
  },
  {
   "cell_type": "code",
   "execution_count": 13,
   "id": "a1f7cdbe",
   "metadata": {},
   "outputs": [],
   "source": [
    "# Summarize one text\n",
    "\n",
    "def summarize(text):\n",
    "    \n",
    "    # Removing the first common part\n",
    "\n",
    "    splitted_text = text.split('Numac')\n",
    "    splitted_text = splitted_text[1]\n",
    "\n",
    "    # removing symbols\n",
    "\n",
    "    no_symbols = splitted_text.replace('\\n',' ')\n",
    "    no_symbols = no_symbols.replace('/','')\n",
    "    no_symbols = no_symbols.replace('§','')\n",
    "    \n",
    "    # Removing 'begin, eerste, laatste,...' from the end of the text and creating our main text.\n",
    "    index = no_symbols.rfind('begin')\n",
    "    \n",
    "    corpus = no_symbols[:index]\n",
    "    \n",
    "    # Starting the summarizer\n",
    "    \n",
    "    import transformers\n",
    "    undisputed_best_model = transformers.MBartForConditionalGeneration.from_pretrained(\n",
    "        \"ml6team/mbart-large-cc25-cnn-dailymail-nl-finetune\")\n",
    "    \n",
    "    tokenizer = transformers.MBartTokenizer.from_pretrained(\"facebook/mbart-large-cc25\")\n",
    "    summarization_pipeline = transformers.pipeline(\n",
    "        task=\"summarization\",\n",
    "        model=undisputed_best_model,\n",
    "        tokenizer=tokenizer,\n",
    "    )\n",
    "    summarization_pipeline.model.config.decoder_start_token_id = tokenizer.lang_code_to_id[\n",
    "        \"nl_XX\"\n",
    "    ]\n",
    "\n",
    "\n",
    "    article = corpus\n",
    "    summary = summarization_pipeline(\n",
    "        article,\n",
    "        do_sample=True,\n",
    "        top_p=0.75,\n",
    "        top_k=50,\n",
    "        # num_beams=4,\n",
    "        min_length=50,\n",
    "        early_stopping=True,\n",
    "        truncation=True,\n",
    "    )[0][\"summary_text\"]\n",
    "    \n",
    "    return summary"
   ]
  },
  {
   "cell_type": "code",
   "execution_count": 3,
   "id": "4fb85a2d",
   "metadata": {},
   "outputs": [],
   "source": [
    "def scrape(url):\n",
    "    \n",
    "    # Decide on the webdriver to use.\n",
    "\n",
    "    driver = webdriver.Edge()\n",
    "    \n",
    "    # URL compatibility check\n",
    "    \n",
    "    substring = 'body'\n",
    "    \n",
    "    if substring not in url:\n",
    "        url = url.replace('article','article_body')\n",
    "    print(url)\n",
    "    \n",
    "    # Go to the website\n",
    "\n",
    "    driver.get(url)\n",
    "    \n",
    "    # Scrape the text from the website\n",
    "    for elem in driver.find_elements(By.TAG_NAME,\"body\"):\n",
    "        text = elem.text\n",
    "         \n",
    "    return text"
   ]
  },
  {
   "cell_type": "code",
   "execution_count": 4,
   "id": "f9bdae07",
   "metadata": {},
   "outputs": [],
   "source": [
    "url = 'https://www.ejustice.just.fgov.be/cgi/article_body.pl?language=nl&caller=summary&pub_date=2022-06-13&numac=2021205279'"
   ]
  },
  {
   "cell_type": "code",
   "execution_count": 5,
   "id": "b21eb8d1",
   "metadata": {},
   "outputs": [
    {
     "name": "stdout",
     "output_type": "stream",
     "text": [
      "https://www.ejustice.just.fgov.be/cgi/article_body.pl?language=nl&caller=summary&pub_date=2022-06-13&numac=2021205279\n"
     ]
    }
   ],
   "source": [
    "text = scrape(url)"
   ]
  },
  {
   "cell_type": "code",
   "execution_count": 14,
   "id": "7a2dcfdb",
   "metadata": {},
   "outputs": [
    {
     "data": {
      "text/plain": [
       "'Het Grondwettelijk Hof in Brussel heeft een beroep ingediend tegen de ZIV-wet, die de besparingsmaatregelen bij de farmaceutische specialiteiten in het kader van de gezondheidszorgbegroting 2020 moet vernietigen.'"
      ]
     },
     "execution_count": 14,
     "metadata": {},
     "output_type": "execute_result"
    }
   ],
   "source": [
    "summarize(text)"
   ]
  },
  {
   "cell_type": "code",
   "execution_count": null,
   "id": "f6304b15",
   "metadata": {},
   "outputs": [],
   "source": []
  },
  {
   "cell_type": "code",
   "execution_count": null,
   "id": "0cbb3b7b",
   "metadata": {},
   "outputs": [],
   "source": [
    "    # Creating Tokens\n",
    "\n",
    "    nlp = spacy.load('nl_core_news_sm')\n",
    "    text = no_symbols\n",
    "    tokenized = nlp(text)\n",
    "    tokens = [token.text for token in tokenized]\n",
    "    \n",
    "    # Removing stopwords\n",
    "    stopwords = spacy.lang.nl.stop_words.STOP_WORDS\n",
    "    \n",
    "    # Lemmatizing the text\n",
    "    text_no_stop = [lemma for lemma in tokens if lemma not in stopwords]\n",
    "    cleaned = ' '.join(text_no_stop)"
   ]
  }
 ],
 "metadata": {
  "kernelspec": {
   "display_name": "tf",
   "language": "python",
   "name": "tf"
  },
  "language_info": {
   "codemirror_mode": {
    "name": "ipython",
    "version": 3
   },
   "file_extension": ".py",
   "mimetype": "text/x-python",
   "name": "python",
   "nbconvert_exporter": "python",
   "pygments_lexer": "ipython3",
   "version": "3.9.12"
  }
 },
 "nbformat": 4,
 "nbformat_minor": 5
}
