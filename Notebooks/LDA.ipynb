{
 "cells": [
  {
   "cell_type": "code",
   "execution_count": 1,
   "id": "d8774a95",
   "metadata": {},
   "outputs": [
    {
     "name": "stderr",
     "output_type": "stream",
     "text": [
      "C:\\Users\\krist\\anaconda3\\envs\\tf\\lib\\site-packages\\tqdm\\auto.py:22: TqdmWarning: IProgress not found. Please update jupyter and ipywidgets. See https://ipywidgets.readthedocs.io/en/stable/user_install.html\n",
      "  from .autonotebook import tqdm as notebook_tqdm\n"
     ]
    }
   ],
   "source": [
    "import pandas as pd\n",
    "import spacy"
   ]
  },
  {
   "cell_type": "code",
   "execution_count": 2,
   "id": "d2966ee0",
   "metadata": {},
   "outputs": [],
   "source": [
    "df = pd.read_csv('KPMG Tax Case - Scraped Data.csv')\n",
    "\n",
    "# Remove the German Translations\n",
    "\n",
    "df = df[df[\"Text\"].str.contains(\"Duitse vertaling\")==False]\n",
    "\n",
    "# Remove empty text rows.\n",
    "\n",
    "df.dropna(axis = 0, how ='any', inplace = True)"
   ]
  },
  {
   "cell_type": "code",
   "execution_count": 3,
   "id": "0c8cbe03",
   "metadata": {},
   "outputs": [],
   "source": [
    "# Test text\n",
    "\n",
    "string = df['Text'][4]"
   ]
  },
  {
   "cell_type": "code",
   "execution_count": 4,
   "id": "2f71757e",
   "metadata": {},
   "outputs": [],
   "source": [
    "# Removing the first common part\n",
    "\n",
    "splitted_text = string.split('Numac')\n",
    "splitted_text = splitted_text[1]"
   ]
  },
  {
   "cell_type": "code",
   "execution_count": 5,
   "id": "c1864c18",
   "metadata": {},
   "outputs": [
    {
     "data": {
      "text/plain": [
       "' : 2020040138 FEDERALE OVERHEIDSDIENST FINANCIEN 20 JANUARI 2020. - Koninklijk besluit tot remediering van het dubbelgebruik van artikel 734quater1 in het KBWIB 92   FILIP, Koning der Belgen, Aan allen die nu zijn en hierna wezen zullen, Onze Groet. Gelet op artikel 2055,  5, van het Wetboek van de inkomstenbelastingen 1992 ingevoegd bij de wet van 25 december 2017; Gelet op het KBWIB 92; Gelet op het koninklijk besluit van 16 november 1994 betreffende de administratieve en begrotingscontrole, artikelen 5 en 14; Overwegende dat de bepalingen van dit besluit geen rechtstreekse of onrechtstreekse financiële weerslag kunnen hebben; Gelet op de wetten op de Raad van State, gecoördineerd op 12 januari 1973, artikel 3,  1; Overwegende dat de bepalingen van dit besluit niet reglementair van aard zijn; Overwegende dat artikel 3 van het koninklijk besluit van 20 december 2019 tot aanpassing van het KBWIB 92 ingevolge de invoering van de aftrek van de groepsbijdrage en van de beperking op de aftrek van interesten, in het KBWIB 92 een artikel 734quater1 invoegt; Overwegende dat artikel 2 van het koninklijk besluit van 2 oktober 2019 tot uitvoering van artikel 2054,  2, van het Wetboek van de inkomstenbelastingen 1992 eveneens in het KBWIB 92 een artikel 734quater1 heeft ingevoegd; Overwegende dat het dubbel gebruik van dit artikel 734quater1 in het KBWIB 92 de nodige rechtsonzekerheid met zich meebrengt; Op de voordracht van de Vice-Eerste Minister en de Minister van Financiën, Hebben Wij besloten en besluiten Wij : Artikel 1. In hoofdstuk I van het KBWIB 92 wordt een afdeling XXVIIquater11 ingevoegd die het artikel 734quater3 bevat, luidende: \"Afdeling XXVIIquater11. - Aftrek van de groepsbijdrage Art. 734quater3. Het model van de in artikel 2055,  5, van het Wetboek van de inkomstenbelastingen 1992, bedoelde groepsbijdrage-overeenkomst wordt door de minister die bevoegd is voor Financiën of zijn gedelegeerde vastgesteld.\". Art. 2. Artikel 3 van het koninklijk besluit van 20 december 2019 tot aanpassing van het KBWIB 92 ingevolge de invoering van de aftrek van de groepsbijdrage en van de beperking op de aftrek van interesten wordt ingetrokken. Art. 3. Dit besluit is van toepassing vanaf aanslagjaar 2020 voor de belastbare tijdperken die ten vroegste aanvangen op 1 januari 2019. Art. 4. De minister bevoegd voor Financiën is belast met de uitvoering van dit besluit. Gegeven te Brussel, 20 januari 2020. FILIP Van Koningswege : De Vice-Eerste Minister en Minister van Financiën, A. DE CROO   begin eerste woord laatste woord Publicatie : 2020-01-28 '"
      ]
     },
     "execution_count": 5,
     "metadata": {},
     "output_type": "execute_result"
    }
   ],
   "source": [
    "# testing\n",
    "\n",
    "trial = splitted_text.replace('\\n',' ')\n",
    "trial = trial.replace('/','')\n",
    "trial = trial.replace('§','')\n",
    "trial"
   ]
  },
  {
   "cell_type": "code",
   "execution_count": 6,
   "id": "b5b42935",
   "metadata": {},
   "outputs": [],
   "source": [
    "index = trial.rfind('begin')\n",
    "\n",
    "corpus = trial[:index]\n",
    "\n",
    "df['Cleaned Text'] = corpus\n"
   ]
  },
  {
   "cell_type": "code",
   "execution_count": 7,
   "id": "b928eb81",
   "metadata": {},
   "outputs": [
    {
     "data": {
      "text/plain": [
       "' : 2020040138 FEDERALE OVERHEIDSDIENST FINANCIEN 20 JANUARI 2020. - Koninklijk besluit tot remediering van het dubbelgebruik van artikel 734quater1 in het KBWIB 92   FILIP, Koning der Belgen, Aan allen die nu zijn en hierna wezen zullen, Onze Groet. Gelet op artikel 2055,  5, van het Wetboek van de inkomstenbelastingen 1992 ingevoegd bij de wet van 25 december 2017; Gelet op het KBWIB 92; Gelet op het koninklijk besluit van 16 november 1994 betreffende de administratieve en begrotingscontrole, artikelen 5 en 14; Overwegende dat de bepalingen van dit besluit geen rechtstreekse of onrechtstreekse financiële weerslag kunnen hebben; Gelet op de wetten op de Raad van State, gecoördineerd op 12 januari 1973, artikel 3,  1; Overwegende dat de bepalingen van dit besluit niet reglementair van aard zijn; Overwegende dat artikel 3 van het koninklijk besluit van 20 december 2019 tot aanpassing van het KBWIB 92 ingevolge de invoering van de aftrek van de groepsbijdrage en van de beperking op de aftrek van interesten, in het KBWIB 92 een artikel 734quater1 invoegt; Overwegende dat artikel 2 van het koninklijk besluit van 2 oktober 2019 tot uitvoering van artikel 2054,  2, van het Wetboek van de inkomstenbelastingen 1992 eveneens in het KBWIB 92 een artikel 734quater1 heeft ingevoegd; Overwegende dat het dubbel gebruik van dit artikel 734quater1 in het KBWIB 92 de nodige rechtsonzekerheid met zich meebrengt; Op de voordracht van de Vice-Eerste Minister en de Minister van Financiën, Hebben Wij besloten en besluiten Wij : Artikel 1. In hoofdstuk I van het KBWIB 92 wordt een afdeling XXVIIquater11 ingevoegd die het artikel 734quater3 bevat, luidende: \"Afdeling XXVIIquater11. - Aftrek van de groepsbijdrage Art. 734quater3. Het model van de in artikel 2055,  5, van het Wetboek van de inkomstenbelastingen 1992, bedoelde groepsbijdrage-overeenkomst wordt door de minister die bevoegd is voor Financiën of zijn gedelegeerde vastgesteld.\". Art. 2. Artikel 3 van het koninklijk besluit van 20 december 2019 tot aanpassing van het KBWIB 92 ingevolge de invoering van de aftrek van de groepsbijdrage en van de beperking op de aftrek van interesten wordt ingetrokken. Art. 3. Dit besluit is van toepassing vanaf aanslagjaar 2020 voor de belastbare tijdperken die ten vroegste aanvangen op 1 januari 2019. Art. 4. De minister bevoegd voor Financiën is belast met de uitvoering van dit besluit. Gegeven te Brussel, 20 januari 2020. FILIP Van Koningswege : De Vice-Eerste Minister en Minister van Financiën, A. DE CROO   '"
      ]
     },
     "execution_count": 7,
     "metadata": {},
     "output_type": "execute_result"
    }
   ],
   "source": [
    "corpus"
   ]
  },
  {
   "cell_type": "code",
   "execution_count": null,
   "id": "b2b956ac",
   "metadata": {},
   "outputs": [],
   "source": []
  },
  {
   "cell_type": "code",
   "execution_count": 8,
   "id": "356c00eb",
   "metadata": {},
   "outputs": [],
   "source": [
    "import gensim\n",
    "from gensim.utils import simple_preprocess\n",
    "from gensim.parsing.preprocessing import STOPWORDS\n",
    "from nltk.stem import WordNetLemmatizer, SnowballStemmer\n",
    "from nltk.stem.porter import *\n",
    "import numpy as np\n",
    "np.random.seed(400)"
   ]
  },
  {
   "cell_type": "code",
   "execution_count": 9,
   "id": "339091a6",
   "metadata": {},
   "outputs": [
    {
     "name": "stderr",
     "output_type": "stream",
     "text": [
      "[nltk_data] Downloading package wordnet to\n",
      "[nltk_data]     C:\\Users\\krist\\AppData\\Roaming\\nltk_data...\n",
      "[nltk_data]   Package wordnet is already up-to-date!\n"
     ]
    },
    {
     "data": {
      "text/plain": [
       "True"
      ]
     },
     "execution_count": 9,
     "metadata": {},
     "output_type": "execute_result"
    }
   ],
   "source": [
    "import nltk\n",
    "nltk.download('wordnet')"
   ]
  },
  {
   "cell_type": "code",
   "execution_count": 10,
   "id": "611149cf",
   "metadata": {},
   "outputs": [],
   "source": [
    "stemmer = SnowballStemmer(\"dutch\")"
   ]
  },
  {
   "cell_type": "code",
   "execution_count": 11,
   "id": "9f9add70",
   "metadata": {},
   "outputs": [],
   "source": [
    "def lemmatize_stemming(text):\n",
    "    return stemmer.stem(WordNetLemmatizer().lemmatize(text, pos='v'))\n",
    "\n",
    "# Tokenize and lemmatize\n",
    "def preprocess(text):\n",
    "    result=[]\n",
    "    for token in gensim.utils.simple_preprocess(text) :\n",
    "        if token not in gensim.parsing.preprocessing.STOPWORDS and len(token) > 3:\n",
    "            result.append(lemmatize_stemming(token))\n",
    "            \n",
    "    return result"
   ]
  },
  {
   "cell_type": "code",
   "execution_count": 12,
   "id": "b3bc2f5f",
   "metadata": {},
   "outputs": [
    {
     "data": {
      "text/plain": [
       "'\\nPreview a document after preprocessing\\n\\ndocument_num = 50\\ndoc_sample = corpus\\n\\nprint(\"Original document: \")\\nwords = []\\nfor word in doc_sample.split(\\' \\'):\\n    words.append(word)\\nprint(words)\\nprint(\"\\n\\nTokenized and lemmatized document: \")\\nprint(preprocess(doc_sample))\\n\\n'"
      ]
     },
     "execution_count": 12,
     "metadata": {},
     "output_type": "execute_result"
    }
   ],
   "source": [
    "'''\n",
    "Preview a document after preprocessing\n",
    "\n",
    "document_num = 50\n",
    "doc_sample = corpus\n",
    "\n",
    "print(\"Original document: \")\n",
    "words = []\n",
    "for word in doc_sample.split(' '):\n",
    "    words.append(word)\n",
    "print(words)\n",
    "print(\"\\n\\nTokenized and lemmatized document: \")\n",
    "print(preprocess(doc_sample))\n",
    "\n",
    "'''"
   ]
  },
  {
   "cell_type": "code",
   "execution_count": 13,
   "id": "c4bb1c68",
   "metadata": {},
   "outputs": [
    {
     "name": "stdout",
     "output_type": "stream",
     "text": [
      "[['federal', 'overheidsdienst', 'financien', 'januari', 'konink', 'besluit', 'remedier', 'dubbelgebruik', 'artikel', 'quater', 'kbwib', 'filip', 'koning', 'belg', 'all', 'zijn', 'hierna', 'wez', 'zull', 'onz', 'groet', 'gelet', 'artikel', 'wetboek', 'ingevoegd', 'december', 'gelet', 'kbwib', 'gelet', 'konink', 'besluit', 'november', 'betreff', 'administratiev', 'artikel', 'overweg', 'bepal', 'besluit', 'gen', 'rechtstrek', 'onrechtstrek', 'financiel', 'weerslag', 'kunn', 'hebb', 'gelet', 'wet', 'rad', 'stat', 'gecoordineerd', 'januari', 'artikel', 'overweg', 'bepal', 'besluit', 'niet', 'reglementair', 'aard', 'zijn', 'overweg', 'artikel', 'konink', 'besluit', 'december', 'aanpass', 'kbwib', 'ingevolg', 'invoer', 'aftrek', 'groepsbijdrag', 'beperk', 'aftrek', 'interest', 'kbwib', 'artikel', 'quater', 'invoegt', 'overweg', 'artikel', 'konink', 'besluit', 'oktober', 'uitvoer', 'artikel', 'wetboek', 'evenen', 'kbwib', 'artikel', 'quater', 'heeft', 'ingevoegd', 'overweg', 'dubbel', 'gebruik', 'artikel', 'quater', 'kbwib', 'nodig', 'zich', 'meebrengt', 'voordracht', 'vic', 'eerst', 'minister', 'minister', 'financien', 'hebb', 'beslot', 'besluit', 'artikel', 'hoofdstuk', 'kbwib', 'wordt', 'afdel', 'xxviiquater', 'ingevoegd', 'artikel', 'quater', 'bevat', 'luidend', 'afdel', 'xxviiquater', 'aftrek', 'groepsbijdrag', 'quater', 'model', 'artikel', 'wetboek', 'bedoeld', 'groepsbijdrag', 'overeenkomst', 'wordt', 'dor', 'minister', 'bevoegd', 'vor', 'financien', 'zijn', 'gedelegeerd', 'vastgesteld', 'artikel', 'konink', 'besluit', 'december', 'aanpass', 'kbwib', 'ingevolg', 'invoer', 'aftrek', 'groepsbijdrag', 'beperk', 'aftrek', 'interest', 'wordt', 'ingetrok', 'besluit', 'toepass', 'vanaf', 'aanslagjar', 'vor', 'belast', 'tijdperk', 'vroegst', 'aanvang', 'januari', 'minister', 'bevoegd', 'vor', 'financien', 'belast', 'uitvoer', 'besluit', 'gegev', 'brussel', 'januari', 'filip', 'koningsweg', 'vic', 'eerst', 'minister', 'minister', 'financien', 'croo']]\n"
     ]
    }
   ],
   "source": [
    "processed_docs = []\n",
    "\n",
    "processed_docs.append(preprocess(corpus))\n",
    "    \n",
    "'''\n",
    "Preview 'processed_docs'\n",
    "'''\n",
    "print(processed_docs[:2])"
   ]
  },
  {
   "cell_type": "code",
   "execution_count": 14,
   "id": "ff9cb9cb",
   "metadata": {},
   "outputs": [],
   "source": [
    "'''\n",
    "Create a dictionary from 'processed_docs' containing the number of times a word appears \n",
    "in the training set using gensim.corpora.Dictionary and call it 'dictionary'\n",
    "'''\n",
    "dictionary = gensim.corpora.Dictionary(processed_docs)"
   ]
  },
  {
   "cell_type": "code",
   "execution_count": 16,
   "id": "a18e7289",
   "metadata": {},
   "outputs": [
    {
     "name": "stdout",
     "output_type": "stream",
     "text": [
      "0 aanpass\n",
      "1 aanslagjar\n",
      "2 aanvang\n",
      "3 aard\n",
      "4 administratiev\n",
      "5 afdel\n",
      "6 aftrek\n",
      "7 all\n",
      "8 artikel\n",
      "9 bedoeld\n",
      "10 belast\n",
      "11 belg\n",
      "12 bepal\n",
      "13 beperk\n",
      "14 beslot\n",
      "15 besluit\n",
      "16 betreff\n",
      "17 bevat\n",
      "18 bevoegd\n",
      "19 brussel\n",
      "20 croo\n",
      "21 december\n",
      "22 dor\n",
      "23 dubbel\n",
      "24 dubbelgebruik\n",
      "25 eerst\n",
      "26 evenen\n",
      "27 federal\n",
      "28 filip\n",
      "29 financiel\n",
      "30 financien\n",
      "31 gebruik\n",
      "32 gecoordineerd\n",
      "33 gedelegeerd\n",
      "34 gegev\n",
      "35 gelet\n",
      "36 gen\n",
      "37 groepsbijdrag\n",
      "38 groet\n",
      "39 hebb\n",
      "40 heeft\n",
      "41 hierna\n",
      "42 hoofdstuk\n",
      "43 ingetrok\n",
      "44 ingevoegd\n",
      "45 ingevolg\n",
      "46 interest\n",
      "47 invoegt\n",
      "48 invoer\n",
      "49 januari\n",
      "50 kbwib\n",
      "51 koning\n",
      "52 koningsweg\n",
      "53 konink\n",
      "54 kunn\n",
      "55 luidend\n",
      "56 meebrengt\n",
      "57 minister\n",
      "58 model\n",
      "59 niet\n",
      "60 nodig\n",
      "61 november\n",
      "62 oktober\n",
      "63 onrechtstrek\n",
      "64 onz\n",
      "65 overeenkomst\n",
      "66 overheidsdienst\n",
      "67 overweg\n",
      "68 quater\n",
      "69 rad\n",
      "70 rechtstrek\n",
      "71 reglementair\n",
      "72 remedier\n",
      "73 stat\n",
      "74 tijdperk\n",
      "75 toepass\n",
      "76 uitvoer\n",
      "77 vanaf\n",
      "78 vastgesteld\n",
      "79 vic\n",
      "80 voordracht\n",
      "81 vor\n",
      "82 vroegst\n",
      "83 weerslag\n",
      "84 wet\n",
      "85 wetboek\n",
      "86 wez\n",
      "87 wordt\n",
      "88 xxviiquater\n",
      "89 zich\n",
      "90 zijn\n",
      "91 zull\n"
     ]
    }
   ],
   "source": [
    "'''\n",
    "Checking dictionary created\n",
    "'''\n",
    "count = 0\n",
    "for k, v in dictionary.iteritems():\n",
    "    print(k, v)\n",
    "    count += 1\n",
    "    if count > 100:\n",
    "        break"
   ]
  },
  {
   "cell_type": "code",
   "execution_count": 17,
   "id": "2137c664",
   "metadata": {},
   "outputs": [],
   "source": [
    "'''\n",
    "Create the Bag-of-words model for each document i.e for each document we create a dictionary reporting how many\n",
    "words and how many times those words appear. Save this to 'bow_corpus'\n",
    "'''\n",
    "bow_corpus = [dictionary.doc2bow(doc) for doc in processed_docs]"
   ]
  },
  {
   "cell_type": "code",
   "execution_count": 19,
   "id": "542445db",
   "metadata": {},
   "outputs": [
    {
     "name": "stdout",
     "output_type": "stream",
     "text": [
      "Word 0 (\"aanpass\") appears 2 time.\n",
      "Word 1 (\"aanslagjar\") appears 1 time.\n",
      "Word 2 (\"aanvang\") appears 1 time.\n",
      "Word 3 (\"aard\") appears 1 time.\n",
      "Word 4 (\"administratiev\") appears 1 time.\n",
      "Word 5 (\"afdel\") appears 2 time.\n",
      "Word 6 (\"aftrek\") appears 5 time.\n",
      "Word 7 (\"all\") appears 1 time.\n",
      "Word 8 (\"artikel\") appears 14 time.\n",
      "Word 9 (\"bedoeld\") appears 1 time.\n",
      "Word 10 (\"belast\") appears 2 time.\n",
      "Word 11 (\"belg\") appears 1 time.\n",
      "Word 12 (\"bepal\") appears 2 time.\n",
      "Word 13 (\"beperk\") appears 2 time.\n",
      "Word 14 (\"beslot\") appears 1 time.\n",
      "Word 15 (\"besluit\") appears 10 time.\n",
      "Word 16 (\"betreff\") appears 1 time.\n",
      "Word 17 (\"bevat\") appears 1 time.\n",
      "Word 18 (\"bevoegd\") appears 2 time.\n",
      "Word 19 (\"brussel\") appears 1 time.\n",
      "Word 20 (\"croo\") appears 1 time.\n",
      "Word 21 (\"december\") appears 3 time.\n",
      "Word 22 (\"dor\") appears 1 time.\n",
      "Word 23 (\"dubbel\") appears 1 time.\n",
      "Word 24 (\"dubbelgebruik\") appears 1 time.\n",
      "Word 25 (\"eerst\") appears 2 time.\n",
      "Word 26 (\"evenen\") appears 1 time.\n",
      "Word 27 (\"federal\") appears 1 time.\n",
      "Word 28 (\"filip\") appears 2 time.\n",
      "Word 29 (\"financiel\") appears 1 time.\n",
      "Word 30 (\"financien\") appears 5 time.\n",
      "Word 31 (\"gebruik\") appears 1 time.\n",
      "Word 32 (\"gecoordineerd\") appears 1 time.\n",
      "Word 33 (\"gedelegeerd\") appears 1 time.\n",
      "Word 34 (\"gegev\") appears 1 time.\n",
      "Word 35 (\"gelet\") appears 4 time.\n",
      "Word 36 (\"gen\") appears 1 time.\n",
      "Word 37 (\"groepsbijdrag\") appears 4 time.\n",
      "Word 38 (\"groet\") appears 1 time.\n",
      "Word 39 (\"hebb\") appears 2 time.\n",
      "Word 40 (\"heeft\") appears 1 time.\n",
      "Word 41 (\"hierna\") appears 1 time.\n",
      "Word 42 (\"hoofdstuk\") appears 1 time.\n",
      "Word 43 (\"ingetrok\") appears 1 time.\n",
      "Word 44 (\"ingevoegd\") appears 3 time.\n",
      "Word 45 (\"ingevolg\") appears 2 time.\n",
      "Word 46 (\"interest\") appears 2 time.\n",
      "Word 47 (\"invoegt\") appears 1 time.\n",
      "Word 48 (\"invoer\") appears 2 time.\n",
      "Word 49 (\"januari\") appears 4 time.\n",
      "Word 50 (\"kbwib\") appears 8 time.\n",
      "Word 51 (\"koning\") appears 1 time.\n",
      "Word 52 (\"koningsweg\") appears 1 time.\n",
      "Word 53 (\"konink\") appears 5 time.\n",
      "Word 54 (\"kunn\") appears 1 time.\n",
      "Word 55 (\"luidend\") appears 1 time.\n",
      "Word 56 (\"meebrengt\") appears 1 time.\n",
      "Word 57 (\"minister\") appears 6 time.\n",
      "Word 58 (\"model\") appears 1 time.\n",
      "Word 59 (\"niet\") appears 1 time.\n",
      "Word 60 (\"nodig\") appears 1 time.\n",
      "Word 61 (\"november\") appears 1 time.\n",
      "Word 62 (\"oktober\") appears 1 time.\n",
      "Word 63 (\"onrechtstrek\") appears 1 time.\n",
      "Word 64 (\"onz\") appears 1 time.\n",
      "Word 65 (\"overeenkomst\") appears 1 time.\n",
      "Word 66 (\"overheidsdienst\") appears 1 time.\n",
      "Word 67 (\"overweg\") appears 5 time.\n",
      "Word 68 (\"quater\") appears 6 time.\n",
      "Word 69 (\"rad\") appears 1 time.\n",
      "Word 70 (\"rechtstrek\") appears 1 time.\n",
      "Word 71 (\"reglementair\") appears 1 time.\n",
      "Word 72 (\"remedier\") appears 1 time.\n",
      "Word 73 (\"stat\") appears 1 time.\n",
      "Word 74 (\"tijdperk\") appears 1 time.\n",
      "Word 75 (\"toepass\") appears 1 time.\n",
      "Word 76 (\"uitvoer\") appears 2 time.\n",
      "Word 77 (\"vanaf\") appears 1 time.\n",
      "Word 78 (\"vastgesteld\") appears 1 time.\n",
      "Word 79 (\"vic\") appears 2 time.\n",
      "Word 80 (\"voordracht\") appears 1 time.\n",
      "Word 81 (\"vor\") appears 3 time.\n",
      "Word 82 (\"vroegst\") appears 1 time.\n",
      "Word 83 (\"weerslag\") appears 1 time.\n",
      "Word 84 (\"wet\") appears 1 time.\n",
      "Word 85 (\"wetboek\") appears 3 time.\n",
      "Word 86 (\"wez\") appears 1 time.\n",
      "Word 87 (\"wordt\") appears 3 time.\n",
      "Word 88 (\"xxviiquater\") appears 2 time.\n",
      "Word 89 (\"zich\") appears 1 time.\n",
      "Word 90 (\"zijn\") appears 3 time.\n",
      "Word 91 (\"zull\") appears 1 time.\n"
     ]
    }
   ],
   "source": [
    "'''\n",
    "Preview BOW for our sample preprocessed document\n",
    "'''\n",
    "document_num = 0\n",
    "bow_doc_x = bow_corpus[document_num]\n",
    "\n",
    "for i in range(len(bow_doc_x)):\n",
    "    print(\"Word {} (\\\"{}\\\") appears {} time.\".format(bow_doc_x[i][0], \n",
    "                                                     dictionary[bow_doc_x[i][0]], \n",
    "                                                     bow_doc_x[i][1]))"
   ]
  },
  {
   "cell_type": "code",
   "execution_count": null,
   "id": "68e03c65",
   "metadata": {},
   "outputs": [],
   "source": []
  }
 ],
 "metadata": {
  "kernelspec": {
   "display_name": "tf",
   "language": "python",
   "name": "tf"
  },
  "language_info": {
   "codemirror_mode": {
    "name": "ipython",
    "version": 3
   },
   "file_extension": ".py",
   "mimetype": "text/x-python",
   "name": "python",
   "nbconvert_exporter": "python",
   "pygments_lexer": "ipython3",
   "version": "3.9.12"
  }
 },
 "nbformat": 4,
 "nbformat_minor": 5
}
