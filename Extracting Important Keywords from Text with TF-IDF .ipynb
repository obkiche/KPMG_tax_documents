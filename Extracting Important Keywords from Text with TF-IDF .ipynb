{
 "cells": [
  {
   "cell_type": "code",
   "execution_count": 37,
   "id": "96c91011",
   "metadata": {},
   "outputs": [],
   "source": [
    "import pandas as pd\n",
    "df_idf= pd.read_csv('./data/tax.csv')"
   ]
  },
  {
   "cell_type": "code",
   "execution_count": 38,
   "id": "b66c3275",
   "metadata": {},
   "outputs": [],
   "source": [
    "df_idf= df_idf[df_idf[\"Text\"].str.contains(\"Duitse vertaling\")==False]"
   ]
  },
  {
   "cell_type": "code",
   "execution_count": 6,
   "id": "3908c6ab",
   "metadata": {},
   "outputs": [
    {
     "data": {
      "text/plain": [
       "'nl fr belgiëlex be kruispuntbank wetgeving raad van state eli navigatie systeem via een europese identificatiecode voor wetgeving http www ejustice just fgov be eli besluit staatsblad einde eerste woord laatste woord publicatie numac federale overheidsdienst financien januari koninklijk besluit tot remediering van het dubbelgebruik van artikel quater in het kb wib filip koning der belgen aan allen die nu zijn en hierna wezen zullen onze groet gelet op artikel van het wetboek van de inkomstenbelastingen ingevoegd bij de wet van december gelet op het kb wib gelet op het koninklijk besluit van november betreffende de administratieve en begrotingscontrole artikelen en overwegende dat de bepalingen van dit besluit geen rechtstreekse of onrechtstreekse financiële weerslag kunnen hebben gelet op de wetten op de raad van state gecoördineerd op januari artikel overwegende dat de bepalingen van dit besluit niet reglementair van aard zijn overwegende dat artikel van het koninklijk besluit van december tot aanpassing van het kb wib ingevolge de invoering van de aftrek van de groepsbijdrage en van de beperking op de aftrek van interesten in het kb wib een artikel quater invoegt overwegende dat artikel van het koninklijk besluit van oktober tot uitvoering van artikel van het wetboek van de inkomstenbelastingen eveneens in het kb wib een artikel quater heeft ingevoegd overwegende dat het dubbel gebruik van dit artikel quater in het kb wib de nodige rechtsonzekerheid met zich meebrengt op de voordracht van de vice eerste minister en de minister van financiën hebben wij besloten en besluiten wij artikel in hoofdstuk i van het kb wib wordt een afdeling xxviiquater ingevoegd die het artikel quater bevat luidende afdeling xxviiquater aftrek van de groepsbijdrage art quater het model van de in artikel van het wetboek van de inkomstenbelastingen bedoelde groepsbijdrage overeenkomst wordt door de minister die bevoegd is voor financiën of zijn gedelegeerde vastgesteld art artikel van het koninklijk besluit van december tot aanpassing van het kb wib ingevolge de invoering van de aftrek van de groepsbijdrage en van de beperking op de aftrek van interesten wordt ingetrokken art dit besluit is van toepassing vanaf aanslagjaar voor de belastbare tijdperken die ten vroegste aanvangen op januari art de minister bevoegd voor financiën is belast met de uitvoering van dit besluit gegeven te brussel januari filip van koningswege de vice eerste minister en minister van financiën a de croo begin eerste woord laatste woord publicatie numac '"
      ]
     },
     "execution_count": 6,
     "metadata": {},
     "output_type": "execute_result"
    }
   ],
   "source": [
    "import re\n",
    "def pre_process(text):\n",
    "    \n",
    "    # lowercase\n",
    "    text=text.lower()\n",
    "    \n",
    "    #remove tags\n",
    "    text=re.sub(\"</?.*?>\",\" <> \",text)\n",
    "    \n",
    "    # remove special characters and digits\n",
    "    text=re.sub(\"(\\\\d|\\\\W)+\",\" \",text)\n",
    "    \n",
    "    return text\n",
    "\n",
    "df_idf['text'] = df_idf['Text']\n",
    "df_idf['text'] = df_idf['text'].apply(lambda x:pre_process(x))\n",
    "\n",
    "#show the first 'text'\n",
    "df_idf['text'][4]"
   ]
  },
  {
   "cell_type": "code",
   "execution_count": 7,
   "id": "5eed2978",
   "metadata": {},
   "outputs": [
    {
     "name": "stderr",
     "output_type": "stream",
     "text": [
      "[nltk_data] Downloading package stopwords to\n",
      "[nltk_data]     C:\\Users\\Mahboubeh\\AppData\\Roaming\\nltk_data...\n",
      "[nltk_data]   Package stopwords is already up-to-date!\n",
      "[nltk_data] Downloading package wordnet to\n",
      "[nltk_data]     C:\\Users\\Mahboubeh\\AppData\\Roaming\\nltk_data...\n",
      "[nltk_data]   Package wordnet is already up-to-date!\n",
      "C:\\Users\\Mahboubeh\\anaconda3\\lib\\site-packages\\sklearn\\feature_extraction\\text.py:396: UserWarning: Your stop_words may be inconsistent with your preprocessing. Tokenizing the stop words generated tokens ['fr', 'nl'] not in stop_words.\n",
      "  warnings.warn(\n"
     ]
    }
   ],
   "source": [
    "from sklearn.feature_extraction.text import CountVectorizer\n",
    "import re\n",
    "import nltk\n",
    "nltk.download('stopwords') \n",
    "nltk.download('wordnet')\n",
    "from nltk.corpus import stopwords\n",
    "#load a set of stop words\n",
    "stop_words= stopwords.words(\"dutch\")\n",
    "stop_words.extend(['bis', 'NL', 'FR','artikel', \"januari\", \"februari\", \"maart\", \"april\", \"mei\", \"juni\", \"juli\", \"augustus\", \"september\", \"oktober\", \"november\", \"december\"])\n",
    "\n",
    "#get the text column \n",
    "docs=df_idf['text'].tolist()\n",
    "\n",
    "#create a vocabulary of words, \n",
    "#ignore words that appear in 85% of documents, \n",
    "#eliminate stop words\n",
    "cv=CountVectorizer(max_df=0.85,stop_words=stop_words)\n",
    "word_count_vector=cv.fit_transform(docs)"
   ]
  },
  {
   "cell_type": "code",
   "execution_count": 8,
   "id": "7ac2ffae",
   "metadata": {},
   "outputs": [
    {
     "data": {
      "text/plain": [
       "(662, 20399)"
      ]
     },
     "execution_count": 8,
     "metadata": {},
     "output_type": "execute_result"
    }
   ],
   "source": [
    "word_count_vector.shape"
   ]
  },
  {
   "cell_type": "code",
   "execution_count": 9,
   "id": "ed42c651",
   "metadata": {},
   "outputs": [
    {
     "data": {
      "text/plain": [
       "['belgiëlex',\n",
       " 'be',\n",
       " 'kruispuntbank',\n",
       " 'wetgeving',\n",
       " 'raad',\n",
       " 'state',\n",
       " 'eli',\n",
       " 'navigatie',\n",
       " 'systeem',\n",
       " 'via']"
      ]
     },
     "execution_count": 9,
     "metadata": {},
     "output_type": "execute_result"
    }
   ],
   "source": [
    "list(cv.vocabulary_.keys())[:10]"
   ]
  },
  {
   "cell_type": "code",
   "execution_count": 10,
   "id": "0bb1e58d",
   "metadata": {},
   "outputs": [
    {
     "name": "stderr",
     "output_type": "stream",
     "text": [
      "C:\\Users\\Mahboubeh\\anaconda3\\lib\\site-packages\\sklearn\\utils\\deprecation.py:87: FutureWarning: Function get_feature_names is deprecated; get_feature_names is deprecated in 1.0 and will be removed in 1.2. Please use get_feature_names_out instead.\n",
      "  warnings.warn(msg, category=FutureWarning)\n"
     ]
    },
    {
     "data": {
      "text/plain": [
       "['beleggingsvennootschap',\n",
       " 'beleggingsvennootschappen',\n",
       " 'beleggingswaarde',\n",
       " 'beleid',\n",
       " 'beleids',\n",
       " 'beleidsadviseurs',\n",
       " 'beleidsdomein',\n",
       " 'beleidsdomeinen',\n",
       " 'beleidsexpertise',\n",
       " 'beleidsfocus',\n",
       " 'beleidsgeorienteerde',\n",
       " 'beleidsgroep',\n",
       " 'beleidsinstrumenten',\n",
       " 'beleidskeuze',\n",
       " 'beleidslijnen']"
      ]
     },
     "execution_count": 10,
     "metadata": {},
     "output_type": "execute_result"
    }
   ],
   "source": [
    "list(cv.get_feature_names())[2000:2015]"
   ]
  },
  {
   "cell_type": "markdown",
   "id": "f74ce2bb",
   "metadata": {},
   "source": [
    "# TfidfTransformer to Compute Inverse Document Frequency (IDF)"
   ]
  },
  {
   "cell_type": "code",
   "execution_count": 11,
   "id": "f489b157",
   "metadata": {},
   "outputs": [
    {
     "data": {
      "text/plain": [
       "TfidfTransformer()"
      ]
     },
     "execution_count": 11,
     "metadata": {},
     "output_type": "execute_result"
    }
   ],
   "source": [
    "from sklearn.feature_extraction.text import TfidfTransformer\n",
    "\n",
    "tfidf_transformer=TfidfTransformer(smooth_idf=True,use_idf=True)\n",
    "tfidf_transformer.fit(word_count_vector)"
   ]
  },
  {
   "cell_type": "code",
   "execution_count": 12,
   "id": "8a46632c",
   "metadata": {},
   "outputs": [
    {
     "data": {
      "text/plain": [
       "array([2.59150021, 6.80362781, 6.80362781, ..., 5.70501552, 4.85771766,\n",
       "       6.3981627 ])"
      ]
     },
     "execution_count": 12,
     "metadata": {},
     "output_type": "execute_result"
    }
   ],
   "source": [
    "tfidf_transformer.idf_"
   ]
  },
  {
   "cell_type": "markdown",
   "id": "b7bb9279",
   "metadata": {},
   "source": [
    "# Computing TF-IDF and Extracting Keywords"
   ]
  },
  {
   "cell_type": "code",
   "execution_count": 20,
   "id": "23875329",
   "metadata": {},
   "outputs": [],
   "source": [
    "# read test docs into a dataframe and concatenate title and body\n",
    "df_test=pd.read_csv('./data/tax.csv')\n",
    "df_test= df_test[df_test[\"Text\"].str.contains(\"Duitse vertaling\")==False]\n",
    "\n",
    "df_test['text'] = df_test['Text']\n",
    "df_test['text'] =df_test['text'].apply(lambda x:pre_process(x))\n",
    "\n",
    "# get test docs into a list\n",
    "docs_test=df_test['text'].tolist()\n",
    "docs_title=df_test['Title'].tolist()"
   ]
  },
  {
   "cell_type": "code",
   "execution_count": 21,
   "id": "4692b245",
   "metadata": {},
   "outputs": [],
   "source": [
    "def sort_coo(coo_matrix):\n",
    "    tuples = zip(coo_matrix.col, coo_matrix.data)\n",
    "    return sorted(tuples, key=lambda x: (x[1], x[0]), reverse=True)\n",
    "\n",
    "def extract_topn_from_vector(feature_names, sorted_items, topn=10):\n",
    "    \"\"\"get the feature names and tf-idf score of top n items\"\"\"\n",
    "    \n",
    "    #use only topn items from vector\n",
    "    sorted_items = sorted_items[:topn]\n",
    "\n",
    "    score_vals = []\n",
    "    feature_vals = []\n",
    "\n",
    "    for idx, score in sorted_items:\n",
    "        fname = feature_names[idx]\n",
    "        \n",
    "        #keep track of feature name and its corresponding score\n",
    "        score_vals.append(round(score, 3))\n",
    "        feature_vals.append(feature_names[idx])\n",
    "\n",
    "    #create a tuples of feature,score\n",
    "    #results = zip(feature_vals,score_vals)\n",
    "    results= {}\n",
    "    for idx in range(len(feature_vals)):\n",
    "        results[feature_vals[idx]]=score_vals[idx]\n",
    "    \n",
    "    return results"
   ]
  },
  {
   "cell_type": "code",
   "execution_count": 22,
   "id": "1f4e6c56",
   "metadata": {},
   "outputs": [
    {
     "name": "stdout",
     "output_type": "stream",
     "text": [
      "\n",
      "=====Title=====\n",
      "SERVICE PUBLIC FEDERAL FINANCES\n",
      "Administration générale de la Fiscalité. - Impôts sur les revenus. - Avis déterminant un nouveau modèle d'attestation n°  281.85 permettant d'apporter les preuves requises en matière de réduction d'impôt pour l'acquisition de nouvelles actions ou parts d'entreprises qui débutent conformément à l'article 14526,  §§  4 à 6, du Code des impôts sur les revenus 1992 (CIR 92) et à l'article 6312/1, de l'arrêté royal d'exécution du CIR 92 (AR/CIR 92). - Cet avis modifie celui paru au Moniteur belge du 16.02.2018, p. 4487.\n",
      "\n",
      "=====Body=====\n",
      "nl fr einde eerste woord laatste woord publicatie numac federale overheidsdienst financien algemene administratie van de fiscaliteit inkomstenbelastingen bericht tot vaststelling van een nieuw model van attest nr dat toelaat het vereiste bewijs te leveren inzake de belastingvermindering voor de verwerving van nieuwe aandelen van startende ondernemingen overeenkomstig artikel t e m van het wetboek van de inkomstenbelastingen wib en artikel van het koninklijk besluit tot uitvoering van het wib kb wib dit bericht wijzigt het bericht verschenen in het belgisch staatsblad van i algemeen startende vennootschappen kunnen moeilijkheden ondervinden om kapitaal te verzamelen het doel is om particulier kapitaal te mobiliseren voor het verschaffen van risicokapitaal aan niet beursgenoteerde kleine vennootschappen die met een financieringstekort kampen om startende kleine vennootschappen te helpen is een fiscale stimulans voorzien als alle voorwaarden zijn vervuld krijgen de burgers die investeren in die vennootschappen een belastingvermindering van of van het in de betrokken vennootschap geïnvesteerde bedrag burgers kunnen op verschillende manieren investeren in aandelen van startende vennootschappen rechtstreeks door het verwerven van nieuwe aandelen van die vennootschap al dan niet via een crowdfundingplatform of onrechtstreeks door het verwerven van nieuwe beleggingsinstrumenten die zijn uitgegeven door een financieringsvehikel nieuwe rechten van deelneming op naam in een openbaar startersfonds nieuwe rechten van deelneming op naam in een private startersprivak die op hun beurt investeren in aandelen van startende vennootschappen deze belastingvermindering wordt bepaald in artikel wib voor een gedetailleerde bespreking kunnen geïnteresseerden de faq raadplegen die de fod financiën op haar website http finances belgium be nl en in de databank fisconetplus www fisconetplus be heeft gepubliceerd om de belastingvermindering te kunnen krijgen en behouden moeten de inschrijvers documenten ter beschikking houden van de administratie artikel van het kb wib bepaalt de manier waarop deze documenten moeten worden opgesteld door naargelang het geval de startende vennootschap het financieringsvehikel het openbaar startersfonds of de private startersprivak een afschrift van die documenten moet door de uitreiker ervan langs elektronische weg aan de administratie worden bezorgd ii uit te reiken documenten ii a investering in nieuwe aandelen van startende vennootschappen al dan niet via een crowdfundingplatform en investering in nieuwe beleggingsinstrumenten uitgegeven door een financieringsvehikel de startende vennootschap of het financieringsvehikel moet volgende documenten opstellen een document voor het jaar van verwerving van de aandelen van de startende vennootschap of van de nieuwe beleggingsinstrumenten een document voor elk van de vier jaren volgend op het jaar van verwerving een document voor het jaar van vervreemding van de aandelen of beleggingsinstrumenten indien de inschrijver ze vervreemdt binnen de maanden na de verwerving ervan in dat laatste geval zal de belastingvermindering gedeeltelijk worden teruggenomen ii a het document op te stellen voor het jaar van verwerving van de aandelen van de startende vennootschap of van de nieuwe beleggingsinstrumenten moet bevestigen of de startende vennootschap waarin wordt geïnvesteerd al dan niet voldoet aan de voorwaarden opgenomen in artikel eerste lid wib het betreft voorwaarden eigen aan de startende vennootschap bijvoorbeeld betreffende de grootte van de vennootschap of de aard van haar activiteit het tarief van de vermindering vermelden dat overeenkomstig artikel vijfde of zesde lid wib van toepassing is de belastingvermindering is gelijk aan van het bedrag van de investeringen in een kleine vennootschap na aftrek van de vergoeding voor de intermediaire rol in de investering van eventuele andere verbonden kosten het tarief kan worden verhoogd tot voor aandelen van een microvennootschap art zesde lid wib het bedrag vermelden dat recht geeft op de vermindering dit betekent dat bovenop de hiervoor vermelde voorwaarden ook de hierna vermelde voorwaarden moeten worden gerespecteerd met name deze vermeld in artikel en derde en vierde lid wib voor de investeringen in nieuwe aandelen van startende vennootschappen al dan niet via een crowdfundingplatform a de investering moet betrekking hebben op nieuwe aandelen b op naam c verworven met inbrengen in geld inbrengen in natura zijn uitgesloten evenals quasi inbrengen als bedoeld in de artikelen bvba cvba nv of comm va van het wetboek van vennootschappen voor de vennootschappen waarop het nieuwe wetboek van vennootschappen en verenigingen nog niet van toepassing is als bedoeld in artikel van het wetboek van vennootschappen en verenigingen nv voor de vennootschappen waarop het nieuwe wetboek van vennootschappen en verenigingen van toepassing is d die een fractie vertegenwoordigen van het kapitaal van een in artikel eerste lid wib bedoelde vennootschap voldoen aan de voorwaarden eigen aan de startende vennootschap e waarop de belastingplichtige heeft ingeschreven hetzij rechtstreeks hetzij via een crowdfundingplatform naar aanleiding van de oprichting van de vennootschap of een kapitaalverhoging binnen de vier jaar na de oprichting ervan f die de belastingplichtige volledig heeft volstort volledig betaald g de inschrijver mag niet rechtstreeks of onrechtstreeks een bedrijfsleider zijn in de startende vennootschap deze uitsluiting wordt in eerste instantie beoordeeld op het ogenblik van de kapitaalinbreng nadien mag de inschrijver wel bedrijfsleider worden van de vennootschap waarin hij de kapitaalinbreng deed op voorwaarde dat hij hiervoor geen vergoeding verkrijgt de voorwaarde dat de belastingplichtige geen vergoeding mag verkrijgen geldt gedurende maanden volgend op de volstorting van de aandelen deze uitsluiting heeft ook betrekking op personen die onrechtstreeks een functie van bedrijfsleider uitoefenen als vaste vertegenwoordiger van een andere vennootschap door tussenkomst van een andere vennootschap waarvan deze personen aandeelhouders zijn die uitsluiting wordt niet enkel beoordeeld op het ogenblik van de kapitaalinbreng maar eveneens gedurende een termijn van maanden volgend op de volstorting van de aandelen van de vennootschap er is geen uitzondering voorzien dergelijke bedrijfsleiders die niet bezoldigd zijn zijn dus ook uitgesloten h de vertegenwoordiging in het kapitaal van de startende vennootschap mag niet meer dan bedragen de betalingen waardoor een vertegenwoordiging van meer dan wordt bekomen geven geen recht op de belastingvermindering de berekening van deze vertegenwoordiging van moet gebeuren op basis van het aantal aandelen die het kapitaal vertegenwoordigen en in het geval van een kapitaalverhoging in functie van de situatie na de kapitaalverhoging i de investeringen komen voor de belastingvermindering in aanmerking tot een bedrag van euro per belastbaar tijdperk en per persoon dit maximumbedrag van euro geldt ongeacht de manier van investeren rechtstreeks door het verwerven van nieuwe aandelen van die vennootschappen al dan niet via een crowdfundingplatform of onrechtstreeks door het verwerven van nieuwe beleggingsinstrumenten uitgegeven door een financieringsvehikel of nieuwe rechten van deelneming in een openbaar startersfonds of nieuwe rechten van deelneming in een private startersprivak dit maximumbedrag wordt niet geïndexeerd echtgenoten of wettelijk samenwonenden hebben elk recht op dit maximumbedrag voor de investeringen in nieuwe beleggingsinstrumenten uitgegeven door een financieringsvehikel a de investering moet betrekking hebben op nieuwe beleggingsinstrumenten uitgegeven door een financieringsvehikel b als bedoeld in de wet van tot regeling van de erkenning en de afbakening van crowdfunding en houdende diverse bepalingen inzake financiën c waarop de belastingplichtige via een crowdfundingplatform heeft ingeschreven d het financieringsvehikel moet de betalingen van de belastingplichtigen desgevallend na aftrek van een vergoeding voor zijn intermediaire rol rechtstreeks investeren in nieuwe aandelen op naam e die een fractie vertegenwoordigen van het kapitaal van een in artikel eerste lid wib bedoelde vennootschap voldoen aan de voorwaarden eigen aan de startende vennootschap f naar aanleiding van de oprichting van die vennootschap of een kapitaalverhoging binnen de vier jaar na de oprichting ervan g en die volledig zijn volstort h de inschrijver mag niet rechtstreeks of onrechtstreeks een bedrijfsleider zijn in de startende vennootschap deze uitsluiting wordt in eerste instantie beoordeeld op het ogenblik van de kapitaalinbreng nadien mag de inschrijver wel bedrijfsleider worden van de vennootschap waarin hij de kapitaalinbreng deed op voorwaarde dat hij hiervoor geen vergoeding verkrijgt de voorwaarde dat de belastingplichtige geen vergoeding mag verkrijgen geldt gedurende maanden volgend op de volstorting van de aandelen deze uitsluiting heeft ook betrekking op personen die onrechtstreeks een functie van bedrijfsleider uitoefenen als vaste vertegenwoordiger van een andere vennootschap door tussenkomst van een andere vennootschap waarvan deze personen aandeelhouders zijn die uitsluiting wordt niet enkel beoordeeld op het ogenblik van de kapitaalinbreng maar eveneens gedurende een termijn van maanden volgend op de volstorting van de aandelen van de vennootschap er is geen uitzondering voorzien dergelijke bedrijfsleiders die niet bezoldigd zijn zijn dus ook uitgesloten i de vertegenwoordiging in het kapitaal van de startende vennootschap mag niet meer dan bedragen de betalingen waardoor een vertegenwoordiging van meer dan wordt bekomen geven geen recht op de belastingvermindering de berekening van deze vertegenwoordiging van moet gebeuren op basis van het aantal aandelen die het kapitaal vertegenwoordigen en in het geval van een kapitaalverhoging in functie van de situatie na de kapitaalverhoging j de aandelen van de voormelde startende vennootschap moeten zijn verworven met inbrengen in geld inbrengen in natura zijn uitgesloten evenals quasi inbrengen als bedoeld in de artikelen bvba cvba nv of comm va van het wetboek van vennootschappen voor de vennootschappen waarop het nieuwe wetboek van vennootschappen en verenigingen nog niet van toepassing is als bedoeld in artikel van het wetboek van vennootschappen en verenigingen nv voor de vennootschappen waarop het nieuwe wetboek van vennootschappen en verenigingen van toepassing is k de investeringen komen voor de belastingvermindering in aanmerking tot een bedrag van euro per belastbaar tijdperk en per persoon dit maximumbedrag van euro geldt ongeacht de manier van investeren rechtstreeks door het verwerven van nieuwe aandelen van die vennootschappen al dan niet via een crowdfundingplatform of onrechtstreeks door het verwerven van nieuwe beleggingsinstrumenten uitgegeven door een financieringsvehikel of nieuwe rechten van deelneming in een openbaar startersfonds of nieuwe rechten van deelneming in een private startersprivak dit maximumbedrag wordt niet geïndexeerd echtgenoten of wettelijk samenwonenden hebben elk recht op dit maximumbedrag opmerking voor de twee voormelde manieren van investeren in geval van investering via een crowdfundingplatform moet dit platform a een belgisch platform zijn of een platform naar het recht van een andere lidstaat van de europese economische ruimte b dat als alternatieve financieringsplatform is vergund door de autoriteit voor financiële diensten en markten of wordt uitgebaat door een belgische gereglementeerde onderneming of een gereglementeerde onderneming naar het recht van een andere lidstaat van de europese economische ruimte die op grond van haar statuut een dergelijke activiteit mag verrichten conform de wet van tot regeling van de erkenning en de afbakening van crowdfunding en houdende diverse bepalingen inzake financiën bevestigen dat de inschrijver de aandelen of de beleggingsinstrumenten in het belastbaar tijdperk heeft aangeschaft en dat hij deze op het einde van het belastbaar tijdperk nog steeds in zijn bezit heeft overeenkomstig artikel wib ii a het document op te stellen voor elk van de vier jaren volgend op het jaar van verwerving van de aandelen of beleggingsinstrumenten moet bevestigen dat de aandelen of beleggingsinstrumenten nog steeds in het bezit zijn van de inschrijver op december van het belastbaar tijdperk de startende vennootschap nog steeds voldoet aan volgende vier voorwaarden voorzien in artikel tweede lid wib a zij is geen beleggings thesaurie of financieringsvennootschap b zij is geen vennootschap met als statutair hoofddoel of voornaamste activiteit de oprichting de verwerving het beheer de verbouwing de verkoop of de verhuur van vastgoed voor eigen rekening of het bezit van deelnemingen in vennootschappen met een soortgelijk doel zijn eveneens uitgesloten vennootschappen waarin onroerende goederen of andere zakelijke rechten met betrekking tot dergelijke goederen zijn ondergebracht waarvan een bedrijfsleider of diens echtgenoot of niet ontvoogde minderjarige kinderen het gebruik hebben een startende vennootschap die eigenaar is van een onroerend goed waarin de bedrijfsleider natuurlijk persoon woont is dus zonder meer uitgesloten c zij is niet opgericht met het oog op het afsluiten van een management of bestuurdersovereenkomst of is geen vennootschap die haar voornaamste bron van inkomsten haalt uit management of bestuurdersovereenkomsten d zij gebruikt de sommen ontvangen in het kader van de tax shelter niet voor de uitkering van dividenden of de aankoop van aandelen noch voor het verstrekken van leningen als deze voorwaarden niet langer zijn vervuld gedurende de maanden volgend op de volstorting van de aandelen zal de belastingvermindering gedeeltelijk worden teruggenomen ii a het document op te stellen voor het jaar van vervreemding van de aandelen of beleggingsinstrumenten de vennootschap of het financieringsvehikel moet dit document opstellen als de inschrijver de aandelen of beleggingsinstrumenten vervreemdt binnen de maanden na de verwerving ervan in dat geval zal de belastingvermindering gedeeltelijk worden teruggenomen behoudens in geval van overlijden van de inschrijver in dat laatste geval moet de vennootschap of het financieringsvehikel geen attest meer opstellen vanaf het belastbare tijdperk waarin de belastingplichtige is overleden deze terugname gebeurt voor het jaar waarin de voorwaarde niet langer is vervuld onder de vorm van een belastingvermeerdering de terugname wordt berekend in functie van het aantal ontbrekende volle maanden vanaf de datum waarop de voorwaarde niet langer is vervuld tot het einde van de termijn van maanden het voormelde document moet dus het aantal nog niet verlopen maanden vermelden dat in aanmerking moet worden genomen voor de berekening van de terugname van de belastingvermindering ii b investering in nieuwe rechten van deelneming in een openbaar startersfonds of een private startersprivak het openbaar startersfonds of de private startersprivak moet volgende documenten opstellen een document voor het belastbaar tijdperk waarin de datum van december valt waarop aan de investeringsvoorwaarden is voldaan wat overeenkomt met het jaar waarvoor de vermindering wordt toegekend een document voor elk van de vier volgende jaren een document voor het jaar van vervreemding van de rechten van deelneming indien de inschrijver ze vervreemdt binnen de maanden na het einde van het belastbaar tijdperk waarvoor de belastingvermindering wordt toegekend in dat laatste geval zal de belastingvermindering gedeeltelijk worden teruggenomen ii b het document op te stellen voor het belastbare tijdperk waarin de datum van december valt waarop aan de investeringsvoorwaarden is voldaan moet bevestigen dat het openbare startersfonds of de private startersprivak voldoet aan de voorwaarde opgenomen in artikel derde lid wib investeringsvoorwaarden dit betekent dat het openbare startersfonds en de private startersprivak de inbrengen desgevallend na aftrek van een vergoeding voor hun intermediaire rol uitsluitend moeten investeren in de hierna vermelde investeringen en binnen de hierna vermelde grenzen ten minste pct wordt rechtstreeks geïnvesteerd in nieuwe aandelen op naam die een fractie vertegenwoordigen van het kapitaal van een in art eerste lid wib bedoelde vennootschap voldoen aan de voorwaarden eigen aan de startende vennootschap uitgegeven naar aanleiding van de oprichting van een dergelijke vennootschap of een kapitaalverhoging binnen de vier jaar na de oprichting ervan en die volledig worden volstort ten hoogste pct wordt aangehouden onder de vorm van contanten op een rekening in euro of in een munt van een andere lidstaat van de europese economische ruimte bij een kredietinstelling die is erkend en wordt gecontroleerd door een toezichthoudende overheid van een lidstaat van de europese economische ruimte indien een openbaar startersfonds of een private startersprivak compartimenten opricht gelden de hiervoor vermelde voorwaarden voor elk compartiment afzonderlijk het tarief van de vermindering vermelden dat overeenkomstig artikel vijfde lid wib van toepassing is de belastingvermindering bedraagt van het bedrag van de investeringen na aftrek van de vergoeding van het openbaar startersfonds en de private startersprivak voor hun intermediaire rol eventuele andere verbonden kosten het bedrag vermelden dat recht geeft op de vermindering dit betekent dat de voorwaarden voorzien in artikel t e m wib zijn vervuld dit betekent dat bovenop de hiervoor vermelde voorwaarden ook de hierna vermelde voorwaarden moeten worden gerespecteerd a de investering moet betrekking hebben op nieuwe rechten van deelneming b op naam c verworven met inbrengen in geld d die een fractie vertegenwoordigen van het kapitaal in een openbaar startersfonds of een private startersprivak e waarop de belastingplichtige heeft ingeschreven naar aanleiding van de uitgifte van die rechten van deelneming f die voldoet aan de voorwaarden gesteld in artikel wib dit betekent dat het openbaar startersfonds of de private startersprivak bovenop het respecteren van die investeringsvoorwaarden een beleggingsvennootschap moet zijn met een vast aantal rechten van deelneming respectievelijk opgenomen op de lijst van openbare startersfondsen opgesteld door de autoriteit voor financiële diensten en markten en de lijst van private startersprivaks opgesteld door de fod financiën die bepaalde wederbeleggingsvoorwaarden respecteren zie art zesde lid wib in geval van vervreemding van aandelen van startende vennootschappen tijdens de termijn van maanden na het einde van het belastbaar tijdperk waarvoor de belastingvermindering wordt toegekend g de investeerder mag niet rechtstreeks of onrechtstreeks een bedrijfsleider zijn in de startende vennootschap deze uitsluiting wordt in eerste instantie beoordeeld op het ogenblik van de kapitaalinbreng nadien mag de inschrijver wel bedrijfsleider worden van de vennootschap waarin hij de kapitaalinbreng deed op voorwaarde dat hij hiervoor geen vergoeding verkrijgt de voorwaarde dat de belastingplichtige geen vergoeding mag verkrijgen geldt gedurende maanden volgend op de volstorting van de aandelen deze uitsluiting heeft ook betrekking op personen die onrechtstreeks een functie van bedrijfsleider uitoefenen als vaste vertegenwoordiger van een andere vennootschap door tussenkomst van een andere vennootschap waarvan deze personen aandeelhouders zijn die uitsluiting wordt niet enkel beoordeeld op het ogenblik van de kapitaalinbreng maar eveneens gedurende een termijn van maanden volgend op de volstorting van de aandelen van de vennootschap er is geen uitzondering voorzien dergelijke bedrijfsleiders die niet bezoldigd zijn zijn dus ook uitgesloten h de vertegenwoordiging in het kapitaal van de startende vennootschap mag niet meer dan bedragen de betalingen waardoor een vertegenwoordiging van meer dan wordt bekomen geven geen recht op de belastingvermindering de berekening van deze vertegenwoordiging van moet gebeuren op basis van het aantal aandelen die het kapitaal vertegenwoordigen en in het geval van een kapitaalverhoging in functie van de situatie na de kapitaalverhoging i de investeringen komen voor de belastingvermindering in aanmerking tot een bedrag van euro per belastbaar tijdperk en per persoon dit maximumbedrag van euro geldt ongeacht de manier van investeren rechtstreeks door het verwerven van nieuwe aandelen van die vennootschappen al dan niet via een crowdfundingplatform of onrechtstreeks door het verwerven van nieuwe beleggingsinstrumenten uitgegeven door een financieringsvehikel of nieuwe rechten van deelneming in een openbaar startersfonds of nieuwe rechten van deelneming in een private startersprivak dit maximumbedrag wordt niet geïndexeerd echtgenoten of wettelijk samenwonenden hebben elk recht op dit maximumbedrag voor hun eigen uitgaven bevestigen dat de inschrijver de rechten van deelneming heeft aangeschaft in het beoogde belastbaar tijdperk of een vorige periode en deze op het einde van dat belastbaar tijdperk nog in zijn bezit heeft overeenkomstig artikel wib ii b het document op te stellen voor elk van de vier volgende jaren moet bevestigen dat de rechten van deelneming nog steeds in het bezit zijn van de inschrijver op december van het belastbaar tijdperk de startende vennootschap pen waarin werd geïnvesteerd nog steeds de volgende vier voorwaarden respecteert respecteren voorzien in artikel tweede lid wib a zij is geen beleggings thesaurie of financieringsvennootschap b zij is geen vennootschap met als statutair hoofddoel of voornaamste activiteit de oprichting de verwerving het beheer de verbouwing de verkoop of de verhuur van vastgoed voor eigen rekening of het bezit van deelnemingen in vennootschappen met een soortgelijk doel zijn eveneens uitgesloten vennootschappen waarin onroerende goederen of andere zakelijke rechten met betrekking tot dergelijke goederen zijn ondergebracht waarvan een bedrijfsleider of diens echtgenoot of niet ontvoogde minderjarige kinderen het gebruik hebben een startende vennootschap die eigenaar is van een onroerend goed waarin de bedrijfsleider natuurlijk persoon woont is dus zonder meer uitgesloten c zij is niet opgericht met het oog op het afsluiten van een management of bestuurdersovereenkomst of is geen vennootschap die haar voornaamste bron van inkomsten haalt uit management of bestuurdersovereenkomsten d zij gebruikt de sommen ontvangen in het kader van de tax shelter niet voor de uitkering van dividenden of de aankoop van aandelen noch voor het verstrekken van leningen als deze voorwaarden niet langer zijn vervuld gedurende de maanden volgend op de volstorting van de aandelen zal de belastingvermindering gedeeltelijk worden teruggenomen ii b het document op te stellen voor het jaar van vervreemding van de rechten van deelneming het openbaar startersfonds of de private startersprivak moet dit document opstellen voor het jaar van vervreemding van de rechten van deelneming als de inschrijver deze overdraagt binnen de maanden na het einde van het belastbaar tijdperk waarvoor de belastingvermindering wordt toegekend in dat geval zal de belastingvermindering gedeeltelijk worden teruggenomen behoudens in geval van overlijden van de inschrijver in dat laatste geval moet het openbaar startersfonds of de private startersprivak geen attest meer opstellen vanaf het belastbare tijdperk waarin de belastingplichtige is overleden deze terugname gebeurt voor het jaar waarin de voorwaarde niet langer is vervuld onder de vorm van een belastingvermeerdering de terugname wordt berekend in functie van het aantal ontbrekende volle maanden vanaf de datum waarop de voorwaarde niet langer is vervuld tot het einde van de termijn van maanden het voormelde document moet dus het aantal nog niet verlopen maanden vermelden dat in aanmerking moet worden genomen voor de berekening van de terugname van de belastingvermindering iii termijn voor het opstellen van de documenten iii a investering in nieuwe aandelen van startende vennootschappen al dan niet via een crowdfundingplatform en investering in nieuwe beleggingsinstrumenten uitgegeven door een financieringsvehikel de startende vennootschap of het financieringsvehikel moet de voormelde documenten aan de inschrijver bezorgen vóór maart van het jaar dat volgt op het jaar van de verwerving van de volledig volstorte aandelen of de nieuwe beleggingsinstrumenten en van de vier daaropvolgende jaren de startende vennootschap of het financieringsvehikel moet eveneens een afschrift hiervan binnen dezelfde termijn aan de administratie bezorgen zie hierna voorbeeld rechtstreekse investering in aandelen van een startende vennootschap in de startende vennootschap moet de inschrijver het document voor het jaar jaar van verwerving bezorgen vóór het document voor het jaar eerste jaar van de behoudtermijn van jaar bezorgen vóór zelfde principe voor de drie volgende jaren als de inschrijver in het voorbeeld de aandelen in vervreemdt moet de vennootschap hem een attest bezorgen met het aantal nog niet verlopen maanden dat in aanmerking moet worden genomen voor de berekening van de terugname van de belastingvermindering dit attest moet zij hem bezorgen vóór iii b investering in nieuwe rechten van deelneming in een openbaar startersfonds of een private startersprivak het openbaar startersfonds of de private startersprivak moet de voormelde documenten aan de inschrijver bezorgen vóór maart van het jaar dat volgt op het belastbare tijdperk waarin de datum van december valt waarop het openbaar startersfonds of de private startersprivak aan de investeringsvoorwaarden voldoet jaar waarvoor de vermindering wordt toegekend en van de vier daaropvolgende jaren het openbaar startersfonds of de private startersprivak moet eveneens een afschrift hiervan binnen dezelfde termijn aan de administratie bezorgen zie hierna voorbeeld verwerving van rechten van deelneming in een openbaar startersfonds in op wordt vastgesteld dat het openbaar startersfonds aan de investeringsvoorwaarden voldoet als alle andere voorwaarden zijn vervuld kan de belastingvermindering dus worden toegekend voor het jaar aanslagjaar het openbaar startersfonds moet de inschrijver het document voor het jaar jaar waarvoor de vermindering wordt toegekend bezorgen vóór het document voor het jaar eerste jaar van de behoudtermijn van jaar bezorgen vóór zelfde principe voor de drie volgende jaren als de investeerder in het voorbeeld de rechten van deelneming in vervreemdt moet het openbaar startersfonds hem een attest bezorgen met het aantal nog niet verlopen maanden dat in aanmerking moet worden genomen voor de berekening van de terugname van de belastingvermindering dit attest moet zij hem bezorgen vóór iv overdracht van de documenten aan de administratie de uitreiker van de documenten naargelang het geval startende vennootschap financieringsvehikel openbaar startersfonds of private startersprivak moet een afschrift van de documenten aan de administratie bezorgen vanaf moet het afschrift langs elektronische weg aan de administratie worden bezorgd hij moet dit doen binnen dezelfde termijn als deze waarbinnen hij de documenten aan de inschrijver moet bezorgen om deze verplichting na te komen zijn er twee mogelijkheden het attest kan elektronisch worden verstuurd via de toepassing belcotax on web hetzij invoer van de gegevens online en verzending via internet hetzij aanmaak van een bestand offline en verzending via internet die toepassing is toegankelijk via het adres https finances belgium be nl e services belcotaxonweb een validatieprogramma is in de webtoepassing geïntegreerd er bestaat ook een niet geïntegreerde offline validatiemodule die kan worden gedownload via de website www belcotaxonweb be in de rubriek technische documentatie de gegevens die via elektronische weg werden ingegeven kunnen worden geraadpleegd gewijzigd of verwijderd via internet de procedure voor de invoer van de gegevens via het scherm wordt toegelicht op de website www belcotaxonweb be in de rubriek hoe bow gebruiken er bestaat ook een brochure belcotax on web met de technische beschrijving van de bestanden dit document kan worden gedownload van de website www belcotaxonweb be onder de rubriek technische documentatie deze documenten kunnen ook per e mail worden verstuurd naar de volgende dienst kmo centrum brussel ii documentatiecentrum bedrijfsvoorheffing kmo bv bru prp pme minfin fed be vanaf is een verzending via de post of een persoonlijke overhandiging van de documenten aan de administratie niet meer toegelaten v niet verplicht modelattest de administratie heeft een modelattest opgesteld dat de uitreikers van de documenten mogen gebruiken dit model wordt hierna weergegeven voor de raadpleging van de tabel zie beeld begin eerste woord laatste woord publicatie numac \n",
      "\n",
      "===Keywords===\n",
      "vennootschap 0.344\n",
      "startende 0.317\n",
      "aandelen 0.278\n",
      "startersfonds 0.249\n",
      "startersprivak 0.208\n",
      "belastingvermindering 0.193\n",
      "inschrijver 0.189\n",
      "vennootschappen 0.18\n",
      "beleggingsinstrumenten 0.166\n",
      "deelneming 0.162\n"
     ]
    }
   ],
   "source": [
    "# you only needs to do this once\n",
    "feature_names=cv.get_feature_names()\n",
    "\n",
    "# get the document that we want to extract keywords from\n",
    "doc=docs_test[4]\n",
    "\n",
    "#generate tf-idf for the given document\n",
    "tf_idf_vector=tfidf_transformer.transform(cv.transform([doc]))\n",
    "\n",
    "#sort the tf-idf vectors by descending order of scores\n",
    "sorted_items=sort_coo(tf_idf_vector.tocoo())\n",
    "\n",
    "#extract only the top n; n here is 10\n",
    "keywords=extract_topn_from_vector(feature_names,sorted_items,10)\n",
    "\n",
    "# now print the results\n",
    "print(\"\\n=====Title=====\")\n",
    "print(docs_title[4])\n",
    "print(\"\\n=====Body=====\")\n",
    "print(docs_test[4])\n",
    "print(\"\\n===Keywords===\")\n",
    "for k in keywords:\n",
    "    print(k,keywords[k])"
   ]
  },
  {
   "cell_type": "code",
   "execution_count": 23,
   "id": "ef69e670",
   "metadata": {},
   "outputs": [],
   "source": [
    "# put the common code into several methods\n",
    "def get_keywords(idx):\n",
    "\n",
    "    #generate tf-idf for the given document\n",
    "    tf_idf_vector=tfidf_transformer.transform(cv.transform([docs_test[idx]]))\n",
    "\n",
    "    #sort the tf-idf vectors by descending order of scores\n",
    "    sorted_items=sort_coo(tf_idf_vector.tocoo())\n",
    "\n",
    "    #extract only the top n; n here is 10\n",
    "    keywords=extract_topn_from_vector(feature_names,sorted_items,10)\n",
    "    \n",
    "    return keywords\n",
    "\n",
    "def print_results(idx,keywords):\n",
    "    # now print the results\n",
    "    print(\"\\n=====Title=====\")\n",
    "    print(docs_title[idx])\n",
    "    print(\"\\n=====Body=====\")\n",
    "    print(docs_test[idx])\n",
    "    print(\"\\n===Keywords===\")\n",
    "    for k in keywords:\n",
    "        print(k,keywords[k])"
   ]
  },
  {
   "cell_type": "code",
   "execution_count": 24,
   "id": "7315bedb",
   "metadata": {},
   "outputs": [
    {
     "name": "stdout",
     "output_type": "stream",
     "text": [
      "\n",
      "=====Title=====\n",
      "SERVICE PUBLIC FEDERAL INTERIEUR\n",
      "5 JUIN 2020. - Arrêté ministériel modifiant l'arrêté ministériel du 23 mars portant des mesures d'urgence pour limiter la propagation du coronavirus COVID-19. - Errata, p. 41980.\n",
      "\n",
      "=====Body=====\n",
      "nl fr einde eerste woord laatste woord publicatie numac federale overheidsdienst binnenlandse zaken juni ministerieel besluit houdende wijziging van het ministerieel besluit van maart houdende dringende maatregelen om de verspreiding van het coronavirus covid te beperken errata in het belgisch staatsblad nr van juni vierde editie bladzijde moeten de woorden wordt een artikel ter toegevoegd in artikel al vervangen worden door wordt een artikel quater toegevoegd op bladzijde wordt in artikel het woord zijn na de woorden zijn de maatregelen voorzien in dit besluit geschrapt in de nederlandstalige tekst begin eerste woord laatste woord publicatie numac \n",
      "\n",
      "===Keywords===\n",
      "bladzijde 0.45\n",
      "toegevoegd 0.336\n",
      "errata 0.3\n",
      "nederlandstalige 0.252\n",
      "woorden 0.25\n",
      "ministerieel 0.247\n",
      "geschrapt 0.227\n",
      "editie 0.218\n",
      "quater 0.186\n",
      "besluit 0.179\n"
     ]
    }
   ],
   "source": [
    "idx=120\n",
    "keywords=get_keywords(idx)\n",
    "print_results(idx,keywords)"
   ]
  },
  {
   "cell_type": "markdown",
   "id": "77ab2986",
   "metadata": {},
   "source": [
    "# Generate keywords for a batch of documents"
   ]
  },
  {
   "cell_type": "code",
   "execution_count": 25,
   "id": "ae0a0dae",
   "metadata": {},
   "outputs": [
    {
     "data": {
      "text/html": [
       "<div>\n",
       "<style scoped>\n",
       "    .dataframe tbody tr th:only-of-type {\n",
       "        vertical-align: middle;\n",
       "    }\n",
       "\n",
       "    .dataframe tbody tr th {\n",
       "        vertical-align: top;\n",
       "    }\n",
       "\n",
       "    .dataframe thead th {\n",
       "        text-align: right;\n",
       "    }\n",
       "</style>\n",
       "<table border=\"1\" class=\"dataframe\">\n",
       "  <thead>\n",
       "    <tr style=\"text-align: right;\">\n",
       "      <th></th>\n",
       "      <th>doc</th>\n",
       "      <th>keywords</th>\n",
       "    </tr>\n",
       "  </thead>\n",
       "  <tbody>\n",
       "    <tr>\n",
       "      <th>0</th>\n",
       "      <td>nl fr belgiëlex be kruispuntbank wetgeving raa...</td>\n",
       "      <td>{'familiale': 0.427, 'successierechten': 0.352...</td>\n",
       "    </tr>\n",
       "    <tr>\n",
       "      <th>1</th>\n",
       "      <td>nl fr einde eerste woord laatste woord publica...</td>\n",
       "      <td>{'onderwijs': 0.375, 'wetenschappen': 0.346, '...</td>\n",
       "    </tr>\n",
       "    <tr>\n",
       "      <th>2</th>\n",
       "      <td>nl fr belgiëlex be kruispuntbank wetgeving raa...</td>\n",
       "      <td>{'wib': 0.412, 'kb': 0.407, 'groepsbijdrage': ...</td>\n",
       "    </tr>\n",
       "    <tr>\n",
       "      <th>3</th>\n",
       "      <td>nl fr belgiëlex be kruispuntbank wetgeving raa...</td>\n",
       "      <td>{'quater': 0.452, 'aanduiding': 0.368, 'gedele...</td>\n",
       "    </tr>\n",
       "    <tr>\n",
       "      <th>4</th>\n",
       "      <td>nl fr einde eerste woord laatste woord publica...</td>\n",
       "      <td>{'vennootschap': 0.344, 'startende': 0.317, 'a...</td>\n",
       "    </tr>\n",
       "    <tr>\n",
       "      <th>...</th>\n",
       "      <td>...</td>\n",
       "      <td>...</td>\n",
       "    </tr>\n",
       "    <tr>\n",
       "      <th>657</th>\n",
       "      <td>nl fr belgiëlex be kruispuntbank wetgeving raa...</td>\n",
       "      <td>{'eu': 0.349, 'crowdfundingdienstverleners': 0...</td>\n",
       "    </tr>\n",
       "    <tr>\n",
       "      <th>658</th>\n",
       "      <td>nl fr belgiëlex be kruispuntbank wetgeving raa...</td>\n",
       "      <td>{'werkloosheid': 0.366, 'koninklijk': 0.308, '...</td>\n",
       "    </tr>\n",
       "    <tr>\n",
       "      <th>659</th>\n",
       "      <td>nl fr belgiëlex be kruispuntbank wetgeving raa...</td>\n",
       "      <td>{'verzekering': 0.385, 'geneeskundige': 0.321,...</td>\n",
       "    </tr>\n",
       "    <tr>\n",
       "      <th>660</th>\n",
       "      <td>nl</td>\n",
       "      <td>{}</td>\n",
       "    </tr>\n",
       "    <tr>\n",
       "      <th>661</th>\n",
       "      <td>nl fr belgiëlex be kruispuntbank wetgeving raa...</td>\n",
       "      <td>{'hoppinpunten': 0.578, 'hoppinpunt': 0.3, 'vl...</td>\n",
       "    </tr>\n",
       "  </tbody>\n",
       "</table>\n",
       "<p>662 rows × 2 columns</p>\n",
       "</div>"
      ],
      "text/plain": [
       "                                                   doc  \\\n",
       "0    nl fr belgiëlex be kruispuntbank wetgeving raa...   \n",
       "1    nl fr einde eerste woord laatste woord publica...   \n",
       "2    nl fr belgiëlex be kruispuntbank wetgeving raa...   \n",
       "3    nl fr belgiëlex be kruispuntbank wetgeving raa...   \n",
       "4    nl fr einde eerste woord laatste woord publica...   \n",
       "..                                                 ...   \n",
       "657  nl fr belgiëlex be kruispuntbank wetgeving raa...   \n",
       "658  nl fr belgiëlex be kruispuntbank wetgeving raa...   \n",
       "659  nl fr belgiëlex be kruispuntbank wetgeving raa...   \n",
       "660                                                 nl   \n",
       "661  nl fr belgiëlex be kruispuntbank wetgeving raa...   \n",
       "\n",
       "                                              keywords  \n",
       "0    {'familiale': 0.427, 'successierechten': 0.352...  \n",
       "1    {'onderwijs': 0.375, 'wetenschappen': 0.346, '...  \n",
       "2    {'wib': 0.412, 'kb': 0.407, 'groepsbijdrage': ...  \n",
       "3    {'quater': 0.452, 'aanduiding': 0.368, 'gedele...  \n",
       "4    {'vennootschap': 0.344, 'startende': 0.317, 'a...  \n",
       "..                                                 ...  \n",
       "657  {'eu': 0.349, 'crowdfundingdienstverleners': 0...  \n",
       "658  {'werkloosheid': 0.366, 'koninklijk': 0.308, '...  \n",
       "659  {'verzekering': 0.385, 'geneeskundige': 0.321,...  \n",
       "660                                                 {}  \n",
       "661  {'hoppinpunten': 0.578, 'hoppinpunt': 0.3, 'vl...  \n",
       "\n",
       "[662 rows x 2 columns]"
      ]
     },
     "execution_count": 25,
     "metadata": {},
     "output_type": "execute_result"
    }
   ],
   "source": [
    "#generate tf-idf for all documents in your list. docs_test has 500 documents\n",
    "tf_idf_vector=tfidf_transformer.transform(cv.transform(docs_test))\n",
    "\n",
    "results=[]\n",
    "for i in range(tf_idf_vector.shape[0]):\n",
    "    \n",
    "    # get vector for a single document\n",
    "    curr_vector=tf_idf_vector[i]\n",
    "    \n",
    "    #sort the tf-idf vector by descending order of scores\n",
    "    sorted_items=sort_coo(curr_vector.tocoo())\n",
    "\n",
    "    #extract only the top n; n here is 10\n",
    "    keywords=extract_topn_from_vector(feature_names,sorted_items,10)\n",
    "    \n",
    "    \n",
    "    results.append(keywords)\n",
    "\n",
    "df=pd.DataFrame(zip(docs,results),columns=['doc','keywords'])\n",
    "df"
   ]
  },
  {
   "cell_type": "code",
   "execution_count": 33,
   "id": "f0ec108a",
   "metadata": {},
   "outputs": [
    {
     "data": {
      "text/plain": [
       "{'hoppinpunten': 0.578,\n",
       " 'hoppinpunt': 0.3,\n",
       " 'vlaamse': 0.299,\n",
       " 'mobiliteitsbeleid': 0.187,\n",
       " 'besluit': 0.187,\n",
       " 'netwerklogica': 0.185,\n",
       " 'vervoerregioraad': 0.162,\n",
       " 'vermeld': 0.16,\n",
       " 'interregionale': 0.116,\n",
       " 'regering': 0.105}"
      ]
     },
     "execution_count": 33,
     "metadata": {},
     "output_type": "execute_result"
    }
   ],
   "source": [
    "df[\"keywords\"][661]"
   ]
  },
  {
   "cell_type": "code",
   "execution_count": 39,
   "id": "ef06daea",
   "metadata": {},
   "outputs": [
    {
     "data": {
      "text/plain": [
       "'nl fr belgiëlex be kruispuntbank wetgeving raad van state eli navigatie systeem via een europese identificatiecode voor wetgeving http www ejustice just fgov be eli besluit staatsblad einde eerste woord laatste woord publicatie numac vlaamse overheid februari besluit van de vlaamse regering over de hoppinpunten en tot wijziging van het besluit van de vlaamse regering van januari tot bepaling van de nadere regels betreffende de financiering en de samenwerking voor het mobiliteitsbeleid rechtsgronden dit besluit is gebaseerd op het decreet van april betreffende de basisbereikbaarheid artikel en tweede lid vormvereisten de volgende vormvereisten zijn vervuld de vlaamse minister bevoegd voor de begroting heeft zijn akkoord gegeven op juli de mobiliteitsraad heeft advies gegeven op september de raad van state heeft advies gegeven op december met toepassing van artikel eerste lid van de wetten op de raad van state gecoördineerd op januari initiatiefnemer dit besluit wordt voorgesteld door de vlaamse minister van mobiliteit en openbare werken na beraadslaging de vlaamse regering besluit hoofdstuk algemene bepalingen artikel in dit besluit wordt verstaan onder hoppinpunt een mobipunt als vermeld in artikel tweede lid van het decreet van april betreffende de basisbereikbaarheid en dat voldoet aan de voorwaarden van artikel art in dit artikel wordt verstaan onder cadanslijn een lijn met een vaste regelmaat in de bediening tijdens de amplitude functionele lijn een lijn waarvan de dienstregeling toegespitst is op piekmomenten en gericht is op bepaalde doelgroepen of attractiepolen minister de vlaamse minister bevoegd voor het gemeenschappelijk vervoer de vlaamse minister bevoegd voor het algemeen mobiliteitsbeleid de vlaamse minister bevoegd voor de weginfrastructuur en het wegenbeleid en de vlaamse minister bevoegd voor de waterinfrastructuur en het waterbeleid hoppinpunten worden ingedeeld in de volgende categorieën interregionale hoppinpunten op basis van netwerklogica zoals die is uitgetekend door de vervoerregioraad dat zijn de hoppinpunten die de vervoerregioraad of de minister aanwijst met doorgaans een ruim mobiliteitsaanbod van frequente interregionale regionale en lokale verbindingen van waaruit verplaatsingen tussen verschillende vervoerregio s mogelijk zijn die hoppinpunten bevatten minstens hoogwaardige interregionale openbaarvervoerverbindingen van het treinnet regionale hoppinpunten op basis van netwerklogica zoals die is uitgetekend door de vervoerregioraad dat zijn de hoppinpunten die de vervoerregioraad aanwijst en die bediend worden door een frequente regionale verbinding van het kernnet of treinnet die hoppinpunten zijn gericht op gebruikers met een bovenlokale herkomst en bestemming lokale hoppinpunten op basis van netwerklogica zoals die is uitgetekend door de vervoerregioraad dat zijn de hoppinpunten die de gemeenten aanwijzen en die gericht zijn op gebruikers van wie de herkomst of bestemming dichtbij ligt die hoppinpunten worden minstens bediend door een cadanslijn binnen het aanvullend net buurt hoppinpunten die de gemeente aanwijst op basis van netwerklogica zoals die is uitgetekend door de vervoerregioraad en die alleen bediend worden door functionele lijnen van het aanvullend net of door het vervoer op maat of die niet bediend worden door openbaar personenvervoer maar waarbij deelvoertuigen de basis vormen van het vervoeraanbod de wervingsradius van die hoppinpunten beperkt zich tot de onmiddellijke omgeving en tot reizigers die dichtbij wonen art elk hoppinpunt is herkenbaar door de toepassing van de merkarchitectuur over basisbereikbaarheid op een of meer van de zuilen of palen die het hoppinpunt aangeven art de merkarchitectuur vermeld in artikel is een kwaliteitslabel en mag alleen gebruikt worden als voldaan is aan de kwaliteitseisen vermeld in artikel tot en met art hoppinpunten zijn goed toegankelijk voor alle gebruikers met of zonder beperking ongeacht leeftijd en omstandigheden zodat iedereen zich zelfstandig en zonder assistentie kan verplaatsen de informatiedragers die zijn aangebracht op de hoppinpunten zijn bruikbaar voor alle gebruikers met of zonder visuele beperking art een hoppinpunt is uitgerust met parkeerplaatsen voor personen met een beperking als er parkeerplaatsen nodig zijn een fietsenstalling met ruimte voor buitenmaatse fietsen informatiedragers infrastructuur om data uitwisseling mogelijk te maken de informatiedragers en infrastructuur om data uitwisseling mogelijk te maken vermeld in het eerste lid en kunnen worden geïntegreerd in de zuil of paal die het hoppinpunt aangeeft de informatiedrager en infrastructuur om data uitwisseling mogelijk te maken al dan niet geïntegreerd in een zuil of paal worden niet beschouwd als straatmeubilair hoofdstuk wijzigingen van het besluit van de vlaamse regering van januari tot bepaling van de nadere regels betreffende de financiering en de samenwerking voor het mobiliteitsbeleid art in artikel tweede lid van het besluit van de vlaamse regering van januari tot bepaling van de nadere regels betreffende de financiering en de samenwerking voor het mobiliteitsbeleid gewijzigd bij de besluiten van de vlaamse regering van september en september wordt een punt d vervangen door wat volgt d de aanleg of de herinrichting van een hoppinpunt namelijk een mobipunt als vermeld in artikel van het besluit van september en dat voldoet aan de voorwaarden van artikel tweede lid art artikel van het besluit van de vlaamse regering van januari tot bepaling van de nadere regels betreffende de financiering en de samenwerking voor het mobiliteitsbeleid ingevoegd bij het besluit van de vlaamse regering van september wordt vervangen door wat volgt in dit artikel wordt verstaan onder besluit van februari het besluit van de vlaamse regering van februari over de hoppinpunten en tot wijziging van het besluit van de vlaamse regering van januari tot bepaling van de nadere regels betreffende de financiering en de samenwerking voor het mobiliteitsbeleid de subsidie voor de projecten die gericht zijn op de aanleg of herinrichting van hoppinpunten als vermeld in artikel van het besluit van september bedraagt van de kostprijs voor de interregionale hoppinpunten op basis van netwerklogica vermeld in artikel tweede lid van het besluit van februari met een maximum van euro van de kostprijs voor de regionale hoppinpunten op basis van netwerklogica vermeld in artikel tweede lid van het voormelde besluit met een maximum van euro van de kostprijs voor de lokale hoppinpunten op basis van netwerklogica vermeld in artikel tweede lid van het voormelde besluit met een maximum van euro van de kostprijs voor de buurt hoppinpunten vermeld in artikel tweede lid van het voormelde besluit met een maximum van euro een project als vermeld in het eerste lid komt in aanmerking voor een subsidie als het aan al de volgende voorwaarden voldoet het hoppinpunt voldoet aan de kwaliteitseisen vermeld in artikel en van het besluit van februari de merkarchitectuur vermeld in artikel van het voormelde besluit wordt toegepast het hoppinpunt is geïntegreerd in het regionale mobiliteitsplan als het gaat om interregionale hoppinpunten regionale hoppinpunten lokale hoppinpunten en buurt hoppinpunten volgens netwerklogica als vermeld in artikel tweede lid van het besluit van februari beperkte verschuivingen van de locatie van het hoppinpunt zijn mogelijk in samenspraak met de vervoerregioraad en leiden niet tot een herziening van het regionale mobiliteitsplan het uitrustingsniveau wordt meegedeeld aan de mobiliteitscentrale de gemeente is beheerder van de infrastructuur in het tweede lid wordt verstaan onder mobiliteitscentrale de mobiliteitscentrale vermeld in artikel van het decreet van april betreffende de basisbereikbaarheid de kostprijs vermeld in paragraaf eerste lid omvat de volgende kosten de kosten voor studie en ontwerp de kosten voor de werken volgens de inschrijvingsprijs van de aannemer in voorkomend geval te vermeerderen met de prijsherzieningen verrekeningen meer of bijwerken als de gemeente de werken in eigen beheer uitvoert de kosten van de gebruikte materialen te staven met de facturen van de aankoop ervan de kosten voor de aankoop en plaatsing van fietsenstallingen van informatiedragers en van de infrastructuur om data uitwisseling mogelijk te maken als vermeld in artikel van het besluit van februari de kosten voor de aankoop en plaatsing van fietskluizen en fietslockers de kosten verbonden aan specifieke uitrustingen die de toegankelijkheid van het hoppinpunt verbeteren voor alle gebruikers vermeld in artikel van het voormelde besluit de kosten voor de levering en aanplanting van groenvoorzieningen art artikel van hetzelfde besluit ingevoegd bij het besluit van de vlaamse regering van september wordt vervangen door wat volgt de subsidieaanvraag bevat al de volgende elementen informatie over de aanvrager met inbegrip van het rekeningnummer waarop de subsidie moet worden gestort de identificatie van het project offertes en financiële afrekeningen die de schuldvordering omvatten een kopie van de gunningsbeslissing van de gemeenteraad de overeenkomst met de opdrachtnemers en leveranciers een verklaring dat de gemeente eigenaar is van de grond waarop het hoppinpunt wordt aangelegd of een bewijs dat de gemeente langdurige gebruiksrechten bezit op de gronden een financiële afrekening die de schuldvordering omvat en de betaalbewijzen voor de kosten vermeld in artikel een kopie van het proces verbaal van voorlopige oplevering tenzij de werken zijn uitgevoerd in eigen beheer met akkoord van de projectstuurgroep vermeld in artikel van het besluit van september kunnen per hoppinpunt verschillende subsidieaanvragen ingediend worden met het oog op de aanleg of herinrichting ervan over de volledige looptijd van een lokale bestuursperiode mag de som van de subsidiebedragen van die verschillende aanvragen het maximumbedrag voor het hoppinpunt vermeld in artikel eerste lid niet overschrijden art bijlage bij hetzelfde besluit vervangen bij het besluit van de vlaamse regering van september wordt vervangen door bijlage die bij dit besluit is gevoegd art bijlage bij hetzelfde besluit vervangen bij het besluit van de vlaamse regering van september wordt vervangen door bijlage die bij dit besluit is gevoegd art bijlage bij hetzelfde besluit vervangen bij het besluit van de vlaamse regering van september wordt vervangen door bijlage die bij dit besluit is gevoegd art bijlage bij hetzelfde besluit vervangen bij het besluit van de vlaamse regering van september wordt vervangen door bijlage die bij dit besluit is gevoegd hoofdstuk slotbepalingen art het besluit van de vlaamse regering van september betreffende de mobipunten en tot wijziging van het besluit van de vlaamse regering van januari tot bepaling van de nadere regels betreffende de financiering en de samenwerking voor het mobiliteitsbeleid wordt opgeheven art de subsidieaanvragen die voor de datum van de inwerkingtreding van dit besluit zijn ingediend worden afgehandeld conform de bepalingen van het besluit van september betreffende de mobipunten en tot wijziging van het besluit van de vlaamse regering van januari tot bepaling van de nadere regels betreffende de financiering en de samenwerking voor het mobiliteitsbeleid zoals van kracht op de dag vóór de datum van de inwerkingtreding van dit besluit art de vlaamse minister bevoegd voor het gemeenschappelijk vervoer de vlaamse minister bevoegd voor het algemeen mobiliteitsbeleid de vlaamse minister bevoegd voor de weginfrastructuur en het wegenbeleid en de vlaamse minister bevoegd voor de waterinfrastructuur en het waterbeleid zijn ieder wat hem of haar betreft belast met de uitvoering van dit besluit brussel februari de minister president van de vlaamse regering j jambon de vlaamse minister van mobiliteit en openbare werken l peeters voor de raadpleging van de tabel zie beeld begin eerste woord laatste woord publicatie numac '"
      ]
     },
     "execution_count": 39,
     "metadata": {},
     "output_type": "execute_result"
    }
   ],
   "source": [
    "df[\"doc\"][661]"
   ]
  },
  {
   "cell_type": "code",
   "execution_count": null,
   "id": "ca4bc477",
   "metadata": {},
   "outputs": [],
   "source": []
  }
 ],
 "metadata": {
  "kernelspec": {
   "display_name": "Python 3",
   "language": "python",
   "name": "python3"
  },
  "language_info": {
   "codemirror_mode": {
    "name": "ipython",
    "version": 3
   },
   "file_extension": ".py",
   "mimetype": "text/x-python",
   "name": "python",
   "nbconvert_exporter": "python",
   "pygments_lexer": "ipython3",
   "version": "3.8.8"
  }
 },
 "nbformat": 4,
 "nbformat_minor": 5
}
